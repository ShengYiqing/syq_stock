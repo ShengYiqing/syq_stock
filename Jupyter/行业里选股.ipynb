{
 "cells": [
  {
   "cell_type": "code",
   "execution_count": 1,
   "metadata": {},
   "outputs": [],
   "source": [
    "import tushare as ts\n",
    "import time\n",
    "import datetime\n",
    "import sys\n",
    "import os\n",
    "import numpy as np\n",
    "import pandas as pd\n",
    "from pandas import Series, DataFrame\n",
    "import matplotlib.pyplot as plt\n",
    "import statsmodels.api as sm\n",
    "import statsmodels.formula.api as smf\n",
    "from sklearn.ensemble import RandomForestRegressor\n",
    "from sklearn.impute import SimpleImputer\n",
    "sys.path.append('../Codes')\n",
    "import DataProcessor as DP\n",
    "from DataProcessor import centralize\n",
    "from DataProcessor import standardize\n",
    "from DataProcessor import standardize_industry\n",
    "from DataProcessor import get_industrys\n",
    "from DataProcessor import get_all_industrys\n",
    "from DataProcessor import get_stock_daily_data\n",
    "from DataProcessor import get_stock_money_data\n",
    "from DataProcessor import get_index_data\n",
    "import tools"
   ]
  },
  {
   "cell_type": "code",
   "execution_count": 2,
   "metadata": {},
   "outputs": [],
   "source": [
    "pro = ts.pro_api()"
   ]
  },
  {
   "cell_type": "code",
   "execution_count": 5,
   "metadata": {},
   "outputs": [],
   "source": [
    "#获取行业分类\n",
    "industrys = DP.get_all_industrys()"
   ]
  },
  {
   "cell_type": "code",
   "execution_count": 241,
   "metadata": {},
   "outputs": [],
   "source": [
    "industry = ['801750.SI', '801740.SI', '801081.SI',]\n",
    "\n",
    "#取行业内股票数据\n",
    "data = DP.get_stock_daily_data(industrys=industrys,\n",
    "                               industry=industry,\n",
    "                         fields=['open',\n",
    "                                 'high',\n",
    "                                 'low',\n",
    "                                 'close',\n",
    "                                 'adj_factor',\n",
    "                                 'turnover_rate_f',\n",
    "                                 'pe_ttm',\n",
    "                                 'pb',\n",
    "                                 'ps_ttm',\n",
    "                                 'total_mv'])\n",
    "\n",
    "money_dic = get_stock_money_data(industrys, industry)\n",
    "for k in money_dic.keys():\n",
    "    money_dic[k] = DataFrame(money_dic[k], index=data['open'].index, columns=data['open'].columns)"
   ]
  },
  {
   "cell_type": "code",
   "execution_count": 242,
   "metadata": {},
   "outputs": [],
   "source": [
    "st = DP.get_st_data(industrys, industry, data['open'])"
   ]
  },
  {
   "cell_type": "code",
   "execution_count": 243,
   "metadata": {},
   "outputs": [],
   "source": [
    "#因子构造\n",
    "OPEN = np.log(data['open'] * data['adj_factor'])\n",
    "HIGH = np.log(data['high'] * data['adj_factor'])\n",
    "LOW = np.log(data['low'] * data['adj_factor'])\n",
    "CLOSE = np.log(data['close'] * data['adj_factor'])\n",
    "\n",
    "trf = data['turnover_rate_f']\n",
    "ltrf = np.log(trf)\n",
    "\n",
    "mv = data['total_mv']\n",
    "lmv = np.log(mv)\n",
    "\n",
    "pe = data['pe_ttm']\n",
    "pb = data['pb']\n",
    "ps = data['ps_ttm']\n",
    "pe = 1 / pe\n",
    "ps = 1 / ps\n",
    "pb = 1 / pb\n",
    "\n",
    "rzrqye = (money_dic['rzye'].fillna(method='ffill') - money_dic['rqye'].fillna(method='ffill')).fillna(method='ffill').loc[OPEN.index, :].fillna(method='ffill')\n",
    "gt = money_dic['gt_vol'].fillna(method='ffill').loc[OPEN.index, :].fillna(method='ffill')\n",
    "d_rzrq = rzrqye / rzrqye.shift()\n",
    "d_rzrq.fillna(1, inplace=True)\n",
    "d_gt = gt / gt.shift()\n",
    "d_gt.fillna(1, inplace=True)"
   ]
  },
  {
   "cell_type": "code",
   "execution_count": 244,
   "metadata": {},
   "outputs": [],
   "source": [
    "ror = CLOSE - CLOSE.shift()\n",
    "r_rinei = CLOSE - OPEN\n",
    "r_geye = OPEN - CLOSE.shift()\n",
    "rh = HIGH - OPEN\n",
    "rl = LOW - OPEN\n",
    "hl = rh - rl\n",
    "vr = ltrf - ltrf.shift()"
   ]
  },
  {
   "cell_type": "code",
   "execution_count": 503,
   "metadata": {},
   "outputs": [],
   "source": [
    "n = 2\n",
    "y = standardize_industry(ror.rolling(n).sum().shift(-n+1) - r_geye, industrys, industry)\n",
    "y[(r_geye > 0.09).fillna(False) & (r_rinei.abs() < 1e-6).fillna(False)] = 0"
   ]
  },
  {
   "cell_type": "code",
   "execution_count": 504,
   "metadata": {},
   "outputs": [
    {
     "data": {
      "text/plain": [
       "'x1 = standardize_industry(r_rinei, industrys, industry)\\nx2 = standardize_industry(r_rinei.rolling(1).sumstandardize_industry().shift(1))\\nx3 = standardize_industry(r_rinei.rolling(3).sum().shift(2))\\nx4 = standardize_industry(r_rinei.rolling(5).sumstandardize_industry().shift(5))\\nx5 = standardize_industry(r_rinei.rolling(10).sumstandardize_industry().shift(10))\\n\\nz1 = standardize_industry(r_geye)\\nz2 = standardize_industry(r_geye.rolling(1).sumstandardize_industry().shift(1))\\nz3 = standardize_industry(r_geye.rolling(3).sumstandardize_industry().shift(2))\\nz4 = standardize_industry(r_geye.rolling(5).sumstandardize_industry().shift(5))\\nz5 = standardize_industry(r_geye.rolling(10).sumstandardize_industry().shift(10))\\n\\nm1 = standardize_industry(CLOSE/CLOSE.rolling(3).mean())\\nm2 = standardize_industry(CLOSE/CLOSE.rolling(5).mean())\\nm3 = standardize_industry(CLOSE/CLOSE.rolling(10).mean())\\nm4 = standardize_industry(CLOSE/CLOSE.rolling(20).mean())\\nm5 = standardize_industry(CLOSE/CLOSE.rolling(40).mean())\\n\\nu1 = x1 - z1\\nu2 = x2 - z2\\nu3 = x3 - z3\\nu4 = x4 - z4\\nu5 = x5 - z5\\n\\nr1 = x1 + z1\\nr2 = x2 + z2\\nr3 = x3 + z3\\nr4 = x4 + z4\\nr5 = x5 + z5\\n\\nh1 = standardize_industry(rh)\\nh2 = standardize_industry(rh.rolling(1).sumstandardize_industry().shift(1))\\nh3 = standardize_industry(rh.rolling(3).sumstandardize_industry().shift(2))\\nh4 = standardize_industry(rh.rolling(5).sumstandardize_industry().shift(5))\\nh5 = standardize_industry(rh.rolling(10).sumstandardize_industry().shift(10))\\n\\nl1 = standardize_industry(rl)\\nl2 = standardize_industry(rl.rolling(1).sumstandardize_industry().shift(1))\\nl3 = standardize_industry(rl.rolling(3).sumstandardize_industry().shift(2))\\nl4 = standardize_industry(rl.rolling(5).sumstandardize_industry().shift(5))\\nl5 = standardize_industry(rl.rolling(10).sumstandardize_industry().shift(10))\\n\\nhl1 = h1 - l1\\nhl2 = h2 - l2\\nhl3 = h3 - l3\\nhl4 = h4 - l4\\nhl5 = h5 - l5\\n\\nch1 = x1 - h1\\nch2 = x2 - h2\\nch3 = x3 - h3\\nch4 = x4 - h4\\nch5 = x5 - h5\\n\\ncl1 = x1 - l1\\ncl2 = x2 - l2\\ncl3 = x3 - l3\\ncl4 = x4 - l4\\ncl5 = x5 - l5\\n\\n\\nvr1 = standardize_industry(vr)\\nvr2 = standardize_industry(vr.rolling(1).sumstandardize_industry().shift(1))\\nvr3 = standardize_industry(vr.rolling(3).sumstandardize_industry().shift(2))\\nvr4 = standardize_industry(vr.rolling(5).sumstandardize_industry().shift(5))\\nvr5 = standardize_industry(vr.rolling(10).sumstandardize_industry().shift(10))\\n\\n\\nrzrq1 = standardize_industry(d_rzrq).fillna(0)\\nrzrq2 = standardize_industry(d_rzrq.rolling(1).sumstandardize_industry().shift(1)).fillna(0)\\nrzrq3 = standardize_industry(d_rzrq.rolling(3).sumstandardize_industry().shift(2)).fillna(0)\\nrzrq4 = standardize_industry(d_rzrq.rolling(5).sumstandardize_industry().shift(5)).fillna(0)\\nrzrq5 = standardize_industry(d_rzrq.rolling(10).sumstandardize_industry().shift(10)).fillna(0)\\n\\ngt1 = standardize_industry(d_gt).fillna(0)\\ngt2 = standardize_industry(d_gt.rolling(1).sumstandardize_industry().shift(1)).fillna(0)\\ngt3 = standardize_industry(d_gt.rolling(3).sumstandardize_industry().shift(2)).fillna(0)\\ngt4 = standardize_industry(d_gt.rolling(5).sumstandardize_industry().shift(5)).fillna(0)\\ngt5 = standardize_industry(d_gt.rolling(10).sumstandardize_industry().shift(10)).fillna(0)\\n\\npe = standardize_industry(pe)\\npb = standardize_industry(pb)\\nps = standardize_industry(ps)\\n\\nlmv = standardize_industry(lmv)\\n'"
      ]
     },
     "execution_count": 504,
     "metadata": {},
     "output_type": "execute_result"
    }
   ],
   "source": [
    "'''x1 = standardize_industry(r_rinei, industrys, industry)\n",
    "x2 = standardize_industry(r_rinei.rolling(1).sumstandardize_industry().shift(1))\n",
    "x3 = standardize_industry(r_rinei.rolling(3).sum().shift(2))\n",
    "x4 = standardize_industry(r_rinei.rolling(5).sumstandardize_industry().shift(5))\n",
    "x5 = standardize_industry(r_rinei.rolling(10).sumstandardize_industry().shift(10))\n",
    "\n",
    "z1 = standardize_industry(r_geye)\n",
    "z2 = standardize_industry(r_geye.rolling(1).sumstandardize_industry().shift(1))\n",
    "z3 = standardize_industry(r_geye.rolling(3).sumstandardize_industry().shift(2))\n",
    "z4 = standardize_industry(r_geye.rolling(5).sumstandardize_industry().shift(5))\n",
    "z5 = standardize_industry(r_geye.rolling(10).sumstandardize_industry().shift(10))\n",
    "\n",
    "m1 = standardize_industry(CLOSE/CLOSE.rolling(3).mean())\n",
    "m2 = standardize_industry(CLOSE/CLOSE.rolling(5).mean())\n",
    "m3 = standardize_industry(CLOSE/CLOSE.rolling(10).mean())\n",
    "m4 = standardize_industry(CLOSE/CLOSE.rolling(20).mean())\n",
    "m5 = standardize_industry(CLOSE/CLOSE.rolling(40).mean())\n",
    "\n",
    "u1 = x1 - z1\n",
    "u2 = x2 - z2\n",
    "u3 = x3 - z3\n",
    "u4 = x4 - z4\n",
    "u5 = x5 - z5\n",
    "\n",
    "r1 = x1 + z1\n",
    "r2 = x2 + z2\n",
    "r3 = x3 + z3\n",
    "r4 = x4 + z4\n",
    "r5 = x5 + z5\n",
    "\n",
    "h1 = standardize_industry(rh)\n",
    "h2 = standardize_industry(rh.rolling(1).sumstandardize_industry().shift(1))\n",
    "h3 = standardize_industry(rh.rolling(3).sumstandardize_industry().shift(2))\n",
    "h4 = standardize_industry(rh.rolling(5).sumstandardize_industry().shift(5))\n",
    "h5 = standardize_industry(rh.rolling(10).sumstandardize_industry().shift(10))\n",
    "\n",
    "l1 = standardize_industry(rl)\n",
    "l2 = standardize_industry(rl.rolling(1).sumstandardize_industry().shift(1))\n",
    "l3 = standardize_industry(rl.rolling(3).sumstandardize_industry().shift(2))\n",
    "l4 = standardize_industry(rl.rolling(5).sumstandardize_industry().shift(5))\n",
    "l5 = standardize_industry(rl.rolling(10).sumstandardize_industry().shift(10))\n",
    "\n",
    "hl1 = h1 - l1\n",
    "hl2 = h2 - l2\n",
    "hl3 = h3 - l3\n",
    "hl4 = h4 - l4\n",
    "hl5 = h5 - l5\n",
    "\n",
    "ch1 = x1 - h1\n",
    "ch2 = x2 - h2\n",
    "ch3 = x3 - h3\n",
    "ch4 = x4 - h4\n",
    "ch5 = x5 - h5\n",
    "\n",
    "cl1 = x1 - l1\n",
    "cl2 = x2 - l2\n",
    "cl3 = x3 - l3\n",
    "cl4 = x4 - l4\n",
    "cl5 = x5 - l5\n",
    "\n",
    "\n",
    "vr1 = standardize_industry(vr)\n",
    "vr2 = standardize_industry(vr.rolling(1).sumstandardize_industry().shift(1))\n",
    "vr3 = standardize_industry(vr.rolling(3).sumstandardize_industry().shift(2))\n",
    "vr4 = standardize_industry(vr.rolling(5).sumstandardize_industry().shift(5))\n",
    "vr5 = standardize_industry(vr.rolling(10).sumstandardize_industry().shift(10))\n",
    "\n",
    "\n",
    "rzrq1 = standardize_industry(d_rzrq).fillna(0)\n",
    "rzrq2 = standardize_industry(d_rzrq.rolling(1).sumstandardize_industry().shift(1)).fillna(0)\n",
    "rzrq3 = standardize_industry(d_rzrq.rolling(3).sumstandardize_industry().shift(2)).fillna(0)\n",
    "rzrq4 = standardize_industry(d_rzrq.rolling(5).sumstandardize_industry().shift(5)).fillna(0)\n",
    "rzrq5 = standardize_industry(d_rzrq.rolling(10).sumstandardize_industry().shift(10)).fillna(0)\n",
    "\n",
    "gt1 = standardize_industry(d_gt).fillna(0)\n",
    "gt2 = standardize_industry(d_gt.rolling(1).sumstandardize_industry().shift(1)).fillna(0)\n",
    "gt3 = standardize_industry(d_gt.rolling(3).sumstandardize_industry().shift(2)).fillna(0)\n",
    "gt4 = standardize_industry(d_gt.rolling(5).sumstandardize_industry().shift(5)).fillna(0)\n",
    "gt5 = standardize_industry(d_gt.rolling(10).sumstandardize_industry().shift(10)).fillna(0)\n",
    "\n",
    "pe = standardize_industry(pe)\n",
    "pb = standardize_industry(pb)\n",
    "ps = standardize_industry(ps)\n",
    "\n",
    "lmv = standardize_industry(lmv)\n",
    "'''"
   ]
  },
  {
   "cell_type": "code",
   "execution_count": 505,
   "metadata": {},
   "outputs": [],
   "source": [
    "x1 = standardize_industry(r_rinei, industrys, industry)\n",
    "x2 = standardize_industry(r_rinei.rolling(1).sum().shift(1), industrys, industry)\n",
    "x3 = standardize_industry(r_rinei.rolling(3).sum().shift(2), industrys, industry)\n",
    "x4 = standardize_industry(r_rinei.rolling(5).sum().shift(5), industrys, industry)\n",
    "x5 = standardize_industry(r_rinei.rolling(10).sum().shift(10), industrys, industry)\n",
    "\n",
    "z1 = standardize_industry(r_geye, industrys, industry)\n",
    "z2 = standardize_industry(r_geye.rolling(1).sum().shift(1), industrys, industry)\n",
    "z3 = standardize_industry(r_geye.rolling(3).sum().shift(2), industrys, industry)\n",
    "z4 = standardize_industry(r_geye.rolling(5).sum().shift(5), industrys, industry)\n",
    "z5 = standardize_industry(r_geye.rolling(10).sum().shift(10), industrys, industry)\n",
    "\n",
    "m1 = standardize_industry(CLOSE/CLOSE.rolling(3).mean(), industrys, industry)\n",
    "m2 = standardize_industry(CLOSE/CLOSE.rolling(5).mean(), industrys, industry)\n",
    "m3 = standardize_industry(CLOSE/CLOSE.rolling(10).mean(), industrys, industry)\n",
    "m4 = standardize_industry(CLOSE/CLOSE.rolling(20).mean(), industrys, industry)\n",
    "m5 = standardize_industry(CLOSE/CLOSE.rolling(40).mean(), industrys, industry)\n",
    "\n",
    "u1 = x1 - z1\n",
    "u2 = x2 - z2\n",
    "u3 = x3 - z3\n",
    "u4 = x4 - z4\n",
    "u5 = x5 - z5\n",
    "\n",
    "r1 = x1 + z1\n",
    "r2 = x2 + z2\n",
    "r3 = x3 + z3\n",
    "r4 = x4 + z4\n",
    "r5 = x5 + z5\n",
    "\n",
    "h1 = standardize_industry(rh, industrys, industry)\n",
    "h2 = standardize_industry(rh.rolling(1).sum().shift(1), industrys, industry)\n",
    "h3 = standardize_industry(rh.rolling(3).sum().shift(2), industrys, industry)\n",
    "h4 = standardize_industry(rh.rolling(5).sum().shift(5), industrys, industry)\n",
    "h5 = standardize_industry(rh.rolling(10).sum().shift(10), industrys, industry)\n",
    "\n",
    "l1 = standardize_industry(rl, industrys, industry)\n",
    "l2 = standardize_industry(rl.rolling(1).sum().shift(1), industrys, industry)\n",
    "l3 = standardize_industry(rl.rolling(3).sum().shift(2), industrys, industry)\n",
    "l4 = standardize_industry(rl.rolling(5).sum().shift(5), industrys, industry)\n",
    "l5 = standardize_industry(rl.rolling(10).sum().shift(10), industrys, industry)\n",
    "\n",
    "hl1 = h1 - l1\n",
    "hl2 = h2 - l2\n",
    "hl3 = h3 - l3\n",
    "hl4 = h4 - l4\n",
    "hl5 = h5 - l5\n",
    "\n",
    "ch1 = x1 - h1\n",
    "ch2 = x2 - h2\n",
    "ch3 = x3 - h3\n",
    "ch4 = x4 - h4\n",
    "ch5 = x5 - h5\n",
    "\n",
    "cl1 = x1 - l1\n",
    "cl2 = x2 - l2\n",
    "cl3 = x3 - l3\n",
    "cl4 = x4 - l4\n",
    "cl5 = x5 - l5\n",
    "\n",
    "\n",
    "vr1 = standardize_industry(vr, industrys, industry)\n",
    "vr2 = standardize_industry(vr.rolling(1).sum().shift(1), industrys, industry)\n",
    "vr3 = standardize_industry(vr.rolling(3).sum().shift(2), industrys, industry)\n",
    "vr4 = standardize_industry(vr.rolling(5).sum().shift(5), industrys, industry)\n",
    "vr5 = standardize_industry(vr.rolling(10).sum().shift(10), industrys, industry)\n",
    "\n",
    "\n",
    "rzrq1 = standardize_industry(d_rzrq, industrys, industry).fillna(0)\n",
    "rzrq2 = standardize_industry(d_rzrq.rolling(1).sum().shift(1), industrys, industry).fillna(0)\n",
    "rzrq3 = standardize_industry(d_rzrq.rolling(3).sum().shift(2), industrys, industry).fillna(0)\n",
    "rzrq4 = standardize_industry(d_rzrq.rolling(5).sum().shift(5), industrys, industry).fillna(0)\n",
    "rzrq5 = standardize_industry(d_rzrq.rolling(10).sum().shift(10), industrys, industry).fillna(0)\n",
    "\n",
    "gt1 = standardize_industry(d_gt, industrys, industry).fillna(0)\n",
    "gt2 = standardize_industry(d_gt.rolling(1).sum().shift(1), industrys, industry).fillna(0)\n",
    "gt3 = standardize_industry(d_gt.rolling(3).sum().shift(2), industrys, industry).fillna(0)\n",
    "gt4 = standardize_industry(d_gt.rolling(5).sum().shift(5), industrys, industry).fillna(0)\n",
    "gt5 = standardize_industry(d_gt.rolling(10).sum().shift(10), industrys, industry).fillna(0)\n",
    "\n",
    "pe = standardize_industry(pe, industrys, industry)\n",
    "pb = standardize_industry(pb, industrys, industry)\n",
    "ps = standardize_industry(ps, industrys, industry)\n",
    "\n",
    "lmv = standardize_industry(lmv, industrys, industry)\n",
    "\n"
   ]
  },
  {
   "cell_type": "code",
   "execution_count": 506,
   "metadata": {},
   "outputs": [],
   "source": [
    "factor = {\n",
    "    'x1':x1, 'x2':x2, 'x3':x3, 'x4':x4, 'x5':x5,\n",
    "    'z1':z1, 'z2':z2, 'z3':z3, 'z4':z4, 'z5':z5,\n",
    "    'u1':u1, 'u2':u2, 'u3':u3, 'u4':u4, 'u5':u5,#没啥用\n",
    "    'r1':r1, 'r2':r2, 'r3':r3, 'r4':r4, 'r5':r5,#多余\n",
    "    'h1':h1, 'h2':h2, 'h3':h3, 'h4':h4, 'h5':h5,#估计没ch好用\n",
    "    'l1':l1, 'l2':l2, 'l3':l3, 'l4':l4, 'l5':l5,#同下\n",
    "    'ch1':ch1, 'ch2':ch2, 'ch3':ch3, 'ch4':ch4, 'ch5':ch5,#试试看\n",
    "    'cl1':cl1, 'cl2':cl2, 'cl3':cl3, 'cl4':cl4, 'cl5':cl5,#试试看\n",
    "    'hl1':hl1, 'hl2':hl2, 'hl3':hl3, 'hl4':hl4, 'hl5':hl5,#逻辑不好\n",
    "    \n",
    "    'm1':m1, 'm2':m2, 'm3':m3, 'm4':m4, 'm5':m5,\n",
    "    'vr1':vr1, 'vr2':vr2, 'vr3':vr3, 'vr4':vr4, 'vr5':vr5,\n",
    "    'rzrq1':rzrq1, 'rzrq2':rzrq2, 'rzrq3':rzrq3, 'rzrq4':rzrq4, 'rzrq5':rzrq5,\n",
    "    'gt1':gt1, 'gt2':gt2, 'gt3':gt3, 'gt4':gt4, 'gt5':gt5,\n",
    "    'pe':pe, 'pb':pb, 'ps':ps,\n",
    "    'lmv':lmv,\n",
    "}"
   ]
  },
  {
   "cell_type": "code",
   "execution_count": 507,
   "metadata": {},
   "outputs": [],
   "source": [
    "for k in factor.keys():\n",
    "    df = DataFrame(factor[k])\n",
    "    df[st] = 0\n",
    "    #df[st] = DataFrame({stock:df.mean(1) for stock in df.columns})\n",
    "    factor[k] = DataFrame(df)"
   ]
  },
  {
   "cell_type": "code",
   "execution_count": 508,
   "metadata": {},
   "outputs": [],
   "source": [
    "#ic, ir = tools.icir(pe.shift(), y, n=60, rank=True)\n",
    "#ir.plot()"
   ]
  },
  {
   "cell_type": "code",
   "execution_count": 557,
   "metadata": {},
   "outputs": [
    {
     "data": {
      "image/png": "[encoded data removed]",
      "text/plain": [
       "<Figure size 432x288 with 1 Axes>"
      ]
     },
     "metadata": {
      "needs_background": "light"
     },
     "output_type": "display_data"
    }
   ],
   "source": [
    "tools.group_backtest((x1).shift().iloc[-620:,:], ((ror.rolling(n).sum().shift(-n+1) - r_geye) / n).iloc[-620:,:], n=5)"
   ]
  },
  {
   "cell_type": "code",
   "execution_count": 594,
   "metadata": {},
   "outputs": [],
   "source": [
    "begin_date = '2010-01-01'\n",
    "split_date = '2020-06-01'\n",
    "train_date = y.index[(begin_date < y.index) & (y.index < split_date)]\n",
    "test_date = y.index[y.index > split_date]"
   ]
  },
  {
   "cell_type": "code",
   "execution_count": 595,
   "metadata": {},
   "outputs": [],
   "source": [
    "df_y_train = DataFrame({'y':y.loc[train_date, :].values.flatten()})\n",
    "df_x_train = DataFrame({k:factor[k].loc[train_date, :].shift().values.flatten() for k in factor.keys()})\n",
    "df_y_test = DataFrame({'y':y.loc[test_date, :].values.flatten()})\n",
    "df_x_test = DataFrame({k:factor[k].loc[test_date, :].shift().values.flatten() for k in factor.keys()})\n",
    "df_train = pd.concat([df_y_train, df_x_train], axis=1)\n",
    "df_test = pd.concat([df_y_test, df_x_test], axis=1)"
   ]
  },
  {
   "cell_type": "code",
   "execution_count": 596,
   "metadata": {},
   "outputs": [
    {
     "data": {
      "text/plain": [
       "Intercept    -5.950584\n",
       "x1          -26.780390\n",
       "z1            2.945008\n",
       "r2           -7.908138\n",
       "r3          -19.673572\n",
       "h1           21.255330\n",
       "pe            7.993993\n",
       "lmv         -17.157800\n",
       "dtype: float64"
      ]
     },
     "execution_count": 596,
     "metadata": {},
     "output_type": "execute_result"
    }
   ],
   "source": [
    "model = smf.ols('y~x1\\\n",
    "                  +z1\\\n",
    "                  +r2+r3\\\n",
    "                  +h1\\\n",
    "                  +pe\\\n",
    "                  +lmv', data=df_train).fit()\n",
    "model.tvalues"
   ]
  },
  {
   "cell_type": "code",
   "execution_count": 597,
   "metadata": {},
   "outputs": [
    {
     "name": "stdout",
     "output_type": "stream",
     "text": [
      "002987.SZ    0.211246\n",
      "002409.SZ    0.116162\n",
      "300377.SZ    0.109932\n",
      "300775.SZ    0.108556\n",
      "300324.SZ    0.091589\n",
      "603918.SH    0.089540\n",
      "300368.SZ    0.086078\n",
      "300525.SZ    0.078526\n",
      "300552.SZ    0.074752\n",
      "600667.SH    0.070381\n",
      "Name: 2020-05-29 00:00:00, dtype: float64\n"
     ]
    },
    {
     "data": {
      "image/png": "[encoded data removed]",
      "text/plain": [
       "<Figure size 432x288 with 1 Axes>"
      ]
     },
     "metadata": {
      "needs_background": "light"
     },
     "output_type": "display_data"
    }
   ],
   "source": [
    "#调仓周期\n",
    "m = 2\n",
    "y_hat = DataFrame(model.predict(df_train).values.reshape(len(train_date), len(y.columns)), index=train_date, columns=y.columns)\n",
    "q = 0.96\n",
    "position = (y_hat.gt(y_hat.quantile(q, 1), 0)) & (y_hat.lt(y_hat.quantile(1, 1), 0))\n",
    "\n",
    "ror_train = ror.loc[train_date, :]\n",
    "r_rinei_train = r_rinei.loc[train_date, :]\n",
    "r_geye_train = r_geye.loc[train_date, :]\n",
    "\n",
    "ror_huice = (position * (ror_train.rolling(m).sum().shift(-m+1) - r_geye_train) / m).mul(len(y.columns) / position.sum(1), 0)\n",
    "ror_huice.mean(1).cumsum().plot()\n",
    "\n",
    "benchmark1 = (ror_train.rolling(m).sum().shift(-m+1) - r_geye_train) / m\n",
    "benchmark1.mean(1).cumsum().plot()\n",
    "benchmark2 = ror_train\n",
    "benchmark2.mean(1).cumsum().plot()\n",
    "\n",
    "alpha1 = ror_huice.mean(1).cumsum() - benchmark1.mean(1).cumsum()\n",
    "alpha2 = ror_huice.mean(1).cumsum() - benchmark2.mean(1).cumsum()\n",
    "alpha1.plot()\n",
    "alpha2.plot()\n",
    "#for i in industry:\n",
    "#    stock = industrys[i]\n",
    "#    ror_test.loc[:,stock].mean(1).cumsum().plot()\n",
    "plt.legend(['backtest', 'benchmark1', 'benchmark2', 'alpha1', 'alpha2'] + [i for i in industry])\n",
    "print(y_hat.iloc[-1,:].sort_values(ascending=False).dropna().iloc[:10])"
   ]
  },
  {
   "cell_type": "code",
   "execution_count": 598,
   "metadata": {},
   "outputs": [
    {
     "data": {
      "text/plain": [
       "2010-01-04     0\n",
       "2010-01-05     3\n",
       "2010-01-06     2\n",
       "2010-01-07     3\n",
       "2010-01-08     3\n",
       "              ..\n",
       "2020-05-25    10\n",
       "2020-05-26    10\n",
       "2020-05-27    10\n",
       "2020-05-28    10\n",
       "2020-05-29    10\n",
       "Length: 2528, dtype: int64"
      ]
     },
     "execution_count": 598,
     "metadata": {},
     "output_type": "execute_result"
    }
   ],
   "source": [
    "position.sum(1)"
   ]
  },
  {
   "cell_type": "code",
   "execution_count": 599,
   "metadata": {},
   "outputs": [
    {
     "name": "stdout",
     "output_type": "stream",
     "text": [
      "002177.SZ    0.160885\n",
      "300782.SZ    0.100463\n",
      "300561.SZ    0.099584\n",
      "300608.SZ    0.084976\n",
      "300556.SZ    0.081789\n",
      "300155.SZ    0.076845\n",
      "002153.SZ    0.073284\n",
      "603516.SH    0.073099\n",
      "300719.SZ    0.070291\n",
      "002985.SZ    0.069822\n",
      "Name: 2020-07-24 00:00:00, dtype: float64\n"
     ]
    },
    {
     "data": {
      "image/png": "[encoded data removed]",
      "text/plain": [
       "<Figure size 432x288 with 1 Axes>"
      ]
     },
     "metadata": {
      "needs_background": "light"
     },
     "output_type": "display_data"
    }
   ],
   "source": [
    "#调仓周期\n",
    "m = 2\n",
    "y_hat = DataFrame(model.predict(df_test).values.reshape(len(test_date), len(y.columns)), index=test_date, columns=y.columns)\n",
    "q1 = 0.96\n",
    "q2 = 1\n",
    "position = (y_hat.gt(y_hat.quantile(q1, 1), 0)) & (y_hat.lt(y_hat.quantile(q2, 1), 0))\n",
    "\n",
    "ror_test = ror.loc[test_date, :]\n",
    "r_rinei_test = r_rinei.loc[test_date, :]\n",
    "r_geye_test = r_geye.loc[test_date, :]\n",
    "\n",
    "ror_huice = (position * (ror_test.rolling(m).sum().shift(-m+1) - r_geye_test) / m).mul(len(y.columns) / position.sum(1), 0)\n",
    "ror_huice.mean(1).cumsum().plot()\n",
    "\n",
    "benchmark1 = (ror_test.rolling(m).sum().shift(-m+1) - r_geye_test) / m\n",
    "benchmark1.mean(1).cumsum().plot()\n",
    "benchmark2 = ror_test\n",
    "benchmark2.mean(1).cumsum().plot()\n",
    "\n",
    "alpha1 = ror_huice.mean(1).cumsum() - benchmark1.mean(1).cumsum()\n",
    "alpha2 = ror_huice.mean(1).cumsum() - benchmark2.mean(1).cumsum()\n",
    "alpha1.plot()\n",
    "alpha2.plot()\n",
    "#for i in industry:\n",
    "#    stock = industrys[i]\n",
    "#    ror_test.loc[:,stock].mean(1).cumsum().plot()\n",
    "plt.legend(['backtest', 'benchmark1', 'benchmark2', 'alpha1', 'alpha2'] + [i for i in industry])\n",
    "print(y_hat.iloc[-1,:].sort_values(ascending=False).dropna().iloc[:10])"
   ]
  },
  {
   "cell_type": "code",
   "execution_count": 600,
   "metadata": {},
   "outputs": [
    {
     "data": {
      "text/plain": [
       "2020-06-02     0\n",
       "2020-06-03    10\n",
       "2020-06-04    10\n",
       "2020-06-05    10\n",
       "2020-06-08    10\n",
       "2020-06-09    10\n",
       "2020-06-10    10\n",
       "2020-06-11    10\n",
       "2020-06-12    10\n",
       "2020-06-15    10\n",
       "2020-06-16    10\n",
       "2020-06-17    10\n",
       "2020-06-18    10\n",
       "2020-06-19    10\n",
       "2020-06-22    10\n",
       "2020-06-23    10\n",
       "2020-06-24    10\n",
       "2020-06-29    10\n",
       "2020-06-30    10\n",
       "2020-07-01    10\n",
       "2020-07-02    10\n",
       "2020-07-03    10\n",
       "2020-07-06    10\n",
       "2020-07-07    10\n",
       "2020-07-08    10\n",
       "2020-07-09    10\n",
       "2020-07-10    10\n",
       "2020-07-13    10\n",
       "2020-07-14    10\n",
       "2020-07-15    10\n",
       "2020-07-16    10\n",
       "2020-07-17    10\n",
       "2020-07-20    10\n",
       "2020-07-21    10\n",
       "2020-07-22    10\n",
       "2020-07-23    10\n",
       "2020-07-24    10\n",
       "dtype: int64"
      ]
     },
     "execution_count": 600,
     "metadata": {},
     "output_type": "execute_result"
    }
   ],
   "source": [
    "position.sum(1)"
   ]
  },
  {
   "cell_type": "code",
   "execution_count": 601,
   "metadata": {},
   "outputs": [
    {
     "data": {
      "text/plain": [
       "<matplotlib.axes._subplots.AxesSubplot at 0x1c2cf8b710>"
      ]
     },
     "execution_count": 601,
     "metadata": {},
     "output_type": "execute_result"
    },
    {
     "data": {
      "image/png": "[encoded data removed]",
      "text/plain": [
       "<Figure size 432x288 with 1 Axes>"
      ]
     },
     "metadata": {
      "needs_background": "light"
     },
     "output_type": "display_data"
    }
   ],
   "source": [
    "(ror_huice.mean(1)-0.0007+1).cumprod().plot()"
   ]
  },
  {
   "cell_type": "code",
   "execution_count": 602,
   "metadata": {},
   "outputs": [
    {
     "data": {
      "text/plain": [
       "<matplotlib.axes._subplots.AxesSubplot at 0x1c283d5dd8>"
      ]
     },
     "execution_count": 602,
     "metadata": {},
     "output_type": "execute_result"
    },
    {
     "data": {
      "image/png": "[encoded data removed]",
      "text/plain": [
       "<Figure size 432x288 with 1 Axes>"
      ]
     },
     "metadata": {
      "needs_background": "light"
     },
     "output_type": "display_data"
    }
   ],
   "source": [
    "(benchmark2.mean(1)+1).cumprod().plot()"
   ]
  },
  {
   "cell_type": "code",
   "execution_count": 603,
   "metadata": {},
   "outputs": [
    {
     "name": "stdout",
     "output_type": "stream",
     "text": [
      "300831.SZ    0.136725\n",
      "300229.SZ    0.135339\n",
      "300561.SZ    0.093531\n",
      "603189.SH    0.092456\n",
      "300719.SZ    0.092025\n",
      "002987.SZ    0.091413\n",
      "300659.SZ    0.089967\n",
      "300448.SZ    0.082928\n",
      "002401.SZ    0.082285\n",
      "300462.SZ    0.075604\n",
      "Name: 2020-07-24 00:00:00, dtype: float64\n"
     ]
    }
   ],
   "source": [
    "df_y_test2 = DataFrame({'y':y.loc[test_date, :].values.flatten()})\n",
    "df_x_test2 = DataFrame({k:factor[k].loc[test_date, :].values.flatten() for k in factor.keys()})\n",
    "df_test2 = pd.concat([df_y_test2, df_x_test2], axis=1)\n",
    "y_hat2 = DataFrame(model.predict(df_test2).values.reshape(len(ror_test), len(ror_test.columns)), index=ror_test.index, columns=ror_test.columns)\n",
    "print(y_hat2.iloc[-1,:].sort_values(ascending=False).dropna().iloc[:10])"
   ]
  },
  {
   "cell_type": "code",
   "execution_count": null,
   "metadata": {},
   "outputs": [],
   "source": []
  },
  {
   "cell_type": "code",
   "execution_count": null,
   "metadata": {},
   "outputs": [],
   "source": []
  },
  {
   "cell_type": "code",
   "execution_count": null,
   "metadata": {},
   "outputs": [],
   "source": []
  },
  {
   "cell_type": "code",
   "execution_count": null,
   "metadata": {},
   "outputs": [],
   "source": []
  },
  {
   "cell_type": "code",
   "execution_count": null,
   "metadata": {},
   "outputs": [],
   "source": []
  },
  {
   "cell_type": "code",
   "execution_count": 368,
   "metadata": {},
   "outputs": [
    {
     "ename": "ValueError",
     "evalue": "Input contains NaN, infinity or a value too large for dtype('float32').",
     "output_type": "error",
     "traceback": [
      "\u001b[0;31m---------------------------------------------------------------------------\u001b[0m",
      "\u001b[0;31mValueError\u001b[0m                                Traceback (most recent call last)",
      "\u001b[0;32m<ipython-input-368-1477b3a69603>\u001b[0m in \u001b[0;36m<module>\u001b[0;34m\u001b[0m\n\u001b[0;32m----> 1\u001b[0;31m \u001b[0mmodel\u001b[0m \u001b[0;34m=\u001b[0m \u001b[0mRandomForestRegressor\u001b[0m\u001b[0;34m(\u001b[0m\u001b[0mn_estimators\u001b[0m\u001b[0;34m=\u001b[0m\u001b[0;36m10\u001b[0m\u001b[0;34m)\u001b[0m\u001b[0;34m.\u001b[0m\u001b[0mfit\u001b[0m\u001b[0;34m(\u001b[0m\u001b[0mdf_train\u001b[0m\u001b[0;34m.\u001b[0m\u001b[0miloc\u001b[0m\u001b[0;34m[\u001b[0m\u001b[0;34m:\u001b[0m\u001b[0;34m,\u001b[0m \u001b[0;36m1\u001b[0m\u001b[0;34m:\u001b[0m\u001b[0;34m]\u001b[0m\u001b[0;34m,\u001b[0m \u001b[0mdf_train\u001b[0m\u001b[0;34m.\u001b[0m\u001b[0miloc\u001b[0m\u001b[0;34m[\u001b[0m\u001b[0;34m:\u001b[0m\u001b[0;34m,\u001b[0m \u001b[0;36m0\u001b[0m\u001b[0;34m]\u001b[0m\u001b[0;34m)\u001b[0m\u001b[0;34m\u001b[0m\u001b[0;34m\u001b[0m\u001b[0m\n\u001b[0m\u001b[1;32m      2\u001b[0m \u001b[0mmodel\u001b[0m\u001b[0;34m.\u001b[0m\u001b[0mfeature_importances_\u001b[0m\u001b[0;34m\u001b[0m\u001b[0;34m\u001b[0m\u001b[0m\n",
      "\u001b[0;32m~/anaconda3/lib/python3.7/site-packages/sklearn/ensemble/_forest.py\u001b[0m in \u001b[0;36mfit\u001b[0;34m(self, X, y, sample_weight)\u001b[0m\n\u001b[1;32m    293\u001b[0m         \"\"\"\n\u001b[1;32m    294\u001b[0m         \u001b[0;31m# Validate or convert input data\u001b[0m\u001b[0;34m\u001b[0m\u001b[0;34m\u001b[0m\u001b[0;34m\u001b[0m\u001b[0m\n\u001b[0;32m--> 295\u001b[0;31m         \u001b[0mX\u001b[0m \u001b[0;34m=\u001b[0m \u001b[0mcheck_array\u001b[0m\u001b[0;34m(\u001b[0m\u001b[0mX\u001b[0m\u001b[0;34m,\u001b[0m \u001b[0maccept_sparse\u001b[0m\u001b[0;34m=\u001b[0m\u001b[0;34m\"csc\"\u001b[0m\u001b[0;34m,\u001b[0m \u001b[0mdtype\u001b[0m\u001b[0;34m=\u001b[0m\u001b[0mDTYPE\u001b[0m\u001b[0;34m)\u001b[0m\u001b[0;34m\u001b[0m\u001b[0;34m\u001b[0m\u001b[0m\n\u001b[0m\u001b[1;32m    296\u001b[0m         \u001b[0my\u001b[0m \u001b[0;34m=\u001b[0m \u001b[0mcheck_array\u001b[0m\u001b[0;34m(\u001b[0m\u001b[0my\u001b[0m\u001b[0;34m,\u001b[0m \u001b[0maccept_sparse\u001b[0m\u001b[0;34m=\u001b[0m\u001b[0;34m'csc'\u001b[0m\u001b[0;34m,\u001b[0m \u001b[0mensure_2d\u001b[0m\u001b[0;34m=\u001b[0m\u001b[0;32mFalse\u001b[0m\u001b[0;34m,\u001b[0m \u001b[0mdtype\u001b[0m\u001b[0;34m=\u001b[0m\u001b[0;32mNone\u001b[0m\u001b[0;34m)\u001b[0m\u001b[0;34m\u001b[0m\u001b[0;34m\u001b[0m\u001b[0m\n\u001b[1;32m    297\u001b[0m         \u001b[0;32mif\u001b[0m \u001b[0msample_weight\u001b[0m \u001b[0;32mis\u001b[0m \u001b[0;32mnot\u001b[0m \u001b[0;32mNone\u001b[0m\u001b[0;34m:\u001b[0m\u001b[0;34m\u001b[0m\u001b[0;34m\u001b[0m\u001b[0m\n",
      "\u001b[0;32m~/anaconda3/lib/python3.7/site-packages/sklearn/utils/validation.py\u001b[0m in \u001b[0;36mcheck_array\u001b[0;34m(array, accept_sparse, accept_large_sparse, dtype, order, copy, force_all_finite, ensure_2d, allow_nd, ensure_min_samples, ensure_min_features, warn_on_dtype, estimator)\u001b[0m\n\u001b[1;32m    576\u001b[0m         \u001b[0;32mif\u001b[0m \u001b[0mforce_all_finite\u001b[0m\u001b[0;34m:\u001b[0m\u001b[0;34m\u001b[0m\u001b[0;34m\u001b[0m\u001b[0m\n\u001b[1;32m    577\u001b[0m             _assert_all_finite(array,\n\u001b[0;32m--> 578\u001b[0;31m                                allow_nan=force_all_finite == 'allow-nan')\n\u001b[0m\u001b[1;32m    579\u001b[0m \u001b[0;34m\u001b[0m\u001b[0m\n\u001b[1;32m    580\u001b[0m     \u001b[0;32mif\u001b[0m \u001b[0mensure_min_samples\u001b[0m \u001b[0;34m>\u001b[0m \u001b[0;36m0\u001b[0m\u001b[0;34m:\u001b[0m\u001b[0;34m\u001b[0m\u001b[0;34m\u001b[0m\u001b[0m\n",
      "\u001b[0;32m~/anaconda3/lib/python3.7/site-packages/sklearn/utils/validation.py\u001b[0m in \u001b[0;36m_assert_all_finite\u001b[0;34m(X, allow_nan, msg_dtype)\u001b[0m\n\u001b[1;32m     58\u001b[0m                     \u001b[0mmsg_err\u001b[0m\u001b[0;34m.\u001b[0m\u001b[0mformat\u001b[0m\u001b[0;34m\u001b[0m\u001b[0;34m\u001b[0m\u001b[0m\n\u001b[1;32m     59\u001b[0m                     (type_err,\n\u001b[0;32m---> 60\u001b[0;31m                      msg_dtype if msg_dtype is not None else X.dtype)\n\u001b[0m\u001b[1;32m     61\u001b[0m             )\n\u001b[1;32m     62\u001b[0m     \u001b[0;31m# for object dtype data, we only check for NaNs (GH-13254)\u001b[0m\u001b[0;34m\u001b[0m\u001b[0;34m\u001b[0m\u001b[0;34m\u001b[0m\u001b[0m\n",
      "\u001b[0;31mValueError\u001b[0m: Input contains NaN, infinity or a value too large for dtype('float32')."
     ]
    }
   ],
   "source": [
    "model = RandomForestRegressor(n_estimators=10).fit(df_train.iloc[:, 1:], df_train.iloc[:, 0])\n",
    "model.feature_importances_"
   ]
  },
  {
   "cell_type": "code",
   "execution_count": 386,
   "metadata": {},
   "outputs": [
    {
     "data": {
      "text/plain": [
       "'1'"
      ]
     },
     "execution_count": 386,
     "metadata": {},
     "output_type": "execute_result"
    }
   ],
   "source": [
    "Series([1,2,3]).rename('1').name"
   ]
  },
  {
   "cell_type": "code",
   "execution_count": 387,
   "metadata": {},
   "outputs": [],
   "source": [
    "factor = DataFrame(np.arange(12).reshape(3,4))"
   ]
  },
  {
   "cell_type": "code",
   "execution_count": 404,
   "metadata": {},
   "outputs": [
    {
     "data": {
      "text/html": [
       "<div>\n",
       "<style scoped>\n",
       "    .dataframe tbody tr th:only-of-type {\n",
       "        vertical-align: middle;\n",
       "    }\n",
       "\n",
       "    .dataframe tbody tr th {\n",
       "        vertical-align: top;\n",
       "    }\n",
       "\n",
       "    .dataframe thead th {\n",
       "        text-align: right;\n",
       "    }\n",
       "</style>\n",
       "<table border=\"1\" class=\"dataframe\">\n",
       "  <thead>\n",
       "    <tr style=\"text-align: right;\">\n",
       "      <th></th>\n",
       "      <th>0</th>\n",
       "      <th>1</th>\n",
       "      <th>2</th>\n",
       "      <th>3</th>\n",
       "    </tr>\n",
       "  </thead>\n",
       "  <tbody>\n",
       "    <tr>\n",
       "      <th>0</th>\n",
       "      <td>4.0</td>\n",
       "      <td>1.0</td>\n",
       "      <td>2.0</td>\n",
       "      <td>3.0</td>\n",
       "    </tr>\n",
       "    <tr>\n",
       "      <th>1</th>\n",
       "      <td>1.0</td>\n",
       "      <td>2.0</td>\n",
       "      <td>3.0</td>\n",
       "      <td>4.0</td>\n",
       "    </tr>\n",
       "    <tr>\n",
       "      <th>2</th>\n",
       "      <td>1.0</td>\n",
       "      <td>2.0</td>\n",
       "      <td>3.0</td>\n",
       "      <td>4.0</td>\n",
       "    </tr>\n",
       "  </tbody>\n",
       "</table>\n",
       "</div>"
      ],
      "text/plain": [
       "     0    1    2    3\n",
       "0  4.0  1.0  2.0  3.0\n",
       "1  1.0  2.0  3.0  4.0\n",
       "2  1.0  2.0  3.0  4.0"
      ]
     },
     "execution_count": 404,
     "metadata": {},
     "output_type": "execute_result"
    }
   ],
   "source": [
    "factor.apply(lambda a:Series(rankdata(a)), axis=1)"
   ]
  },
  {
   "cell_type": "code",
   "execution_count": 390,
   "metadata": {},
   "outputs": [],
   "source": [
    "factor.iloc[0,0] = 100"
   ]
  },
  {
   "cell_type": "code",
   "execution_count": 393,
   "metadata": {},
   "outputs": [
    {
     "data": {
      "text/html": [
       "<div>\n",
       "<style scoped>\n",
       "    .dataframe tbody tr th:only-of-type {\n",
       "        vertical-align: middle;\n",
       "    }\n",
       "\n",
       "    .dataframe tbody tr th {\n",
       "        vertical-align: top;\n",
       "    }\n",
       "\n",
       "    .dataframe thead th {\n",
       "        text-align: right;\n",
       "    }\n",
       "</style>\n",
       "<table border=\"1\" class=\"dataframe\">\n",
       "  <thead>\n",
       "    <tr style=\"text-align: right;\">\n",
       "      <th></th>\n",
       "      <th>0</th>\n",
       "      <th>1</th>\n",
       "      <th>2</th>\n",
       "      <th>3</th>\n",
       "    </tr>\n",
       "  </thead>\n",
       "  <tbody>\n",
       "    <tr>\n",
       "      <th>0</th>\n",
       "      <td>100</td>\n",
       "      <td>1</td>\n",
       "      <td>2</td>\n",
       "      <td>3</td>\n",
       "    </tr>\n",
       "    <tr>\n",
       "      <th>1</th>\n",
       "      <td>4</td>\n",
       "      <td>5</td>\n",
       "      <td>6</td>\n",
       "      <td>7</td>\n",
       "    </tr>\n",
       "    <tr>\n",
       "      <th>2</th>\n",
       "      <td>8</td>\n",
       "      <td>9</td>\n",
       "      <td>10</td>\n",
       "      <td>11</td>\n",
       "    </tr>\n",
       "  </tbody>\n",
       "</table>\n",
       "</div>"
      ],
      "text/plain": [
       "     0  1   2   3\n",
       "0  100  1   2   3\n",
       "1    4  5   6   7\n",
       "2    8  9  10  11"
      ]
     },
     "execution_count": 393,
     "metadata": {},
     "output_type": "execute_result"
    }
   ],
   "source": [
    "factor"
   ]
  },
  {
   "cell_type": "code",
   "execution_count": 398,
   "metadata": {},
   "outputs": [],
   "source": [
    "a=[200, 1,2,3]"
   ]
  },
  {
   "cell_type": "code",
   "execution_count": 399,
   "metadata": {},
   "outputs": [
    {
     "data": {
      "text/plain": [
       "[1, 2, 3, 0]"
      ]
     },
     "execution_count": 399,
     "metadata": {},
     "output_type": "execute_result"
    }
   ],
   "source": [
    "sorted(range(len(a)), key = a.__getitem__)"
   ]
  },
  {
   "cell_type": "code",
   "execution_count": 400,
   "metadata": {},
   "outputs": [],
   "source": [
    "from scipy.stats import rankdata"
   ]
  },
  {
   "cell_type": "code",
   "execution_count": 401,
   "metadata": {},
   "outputs": [
    {
     "data": {
      "text/plain": [
       "array([4., 1., 2., 3.])"
      ]
     },
     "execution_count": 401,
     "metadata": {},
     "output_type": "execute_result"
    }
   ],
   "source": [
    "rankdata(a)"
   ]
  },
  {
   "cell_type": "code",
   "execution_count": 403,
   "metadata": {},
   "outputs": [
    {
     "data": {
      "text/plain": [
       "array([12.,  1.,  2.,  3.,  4.,  5.,  6.,  7.,  8.,  9., 10., 11.])"
      ]
     },
     "execution_count": 403,
     "metadata": {},
     "output_type": "execute_result"
    }
   ],
   "source": [
    "rankdata(factor)"
   ]
  },
  {
   "cell_type": "code",
   "execution_count": 409,
   "metadata": {},
   "outputs": [],
   "source": [
    "s = Series([1,2]).rename(11)"
   ]
  },
  {
   "cell_type": "code",
   "execution_count": 410,
   "metadata": {},
   "outputs": [
    {
     "data": {
      "text/html": [
       "<div>\n",
       "<style scoped>\n",
       "    .dataframe tbody tr th:only-of-type {\n",
       "        vertical-align: middle;\n",
       "    }\n",
       "\n",
       "    .dataframe tbody tr th {\n",
       "        vertical-align: top;\n",
       "    }\n",
       "\n",
       "    .dataframe thead th {\n",
       "        text-align: right;\n",
       "    }\n",
       "</style>\n",
       "<table border=\"1\" class=\"dataframe\">\n",
       "  <thead>\n",
       "    <tr style=\"text-align: right;\">\n",
       "      <th></th>\n",
       "      <th>11</th>\n",
       "    </tr>\n",
       "  </thead>\n",
       "  <tbody>\n",
       "    <tr>\n",
       "      <th>0</th>\n",
       "      <td>1</td>\n",
       "    </tr>\n",
       "    <tr>\n",
       "      <th>1</th>\n",
       "      <td>2</td>\n",
       "    </tr>\n",
       "  </tbody>\n",
       "</table>\n",
       "</div>"
      ],
      "text/plain": [
       "   11\n",
       "0   1\n",
       "1   2"
      ]
     },
     "execution_count": 410,
     "metadata": {},
     "output_type": "execute_result"
    }
   ],
   "source": [
    "DataFrame(s)"
   ]
  },
  {
   "cell_type": "code",
   "execution_count": null,
   "metadata": {},
   "outputs": [],
   "source": []
  }
 ],
 "metadata": {
  "kernelspec": {
   "display_name": "Python 3",
   "language": "python",
   "name": "python3"
  },
  "language_info": {
   "codemirror_mode": {
    "name": "ipython",
    "version": 3
   },
   "file_extension": ".py",
   "mimetype": "text/x-python",
   "name": "python",
   "nbconvert_exporter": "python",
   "pygments_lexer": "ipython3",
   "version": "3.7.3"
  }
 },
 "nbformat": 4,
 "nbformat_minor": 4
}
