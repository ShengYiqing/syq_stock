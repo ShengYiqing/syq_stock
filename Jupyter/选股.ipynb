{
 "cells": [
  {
   "cell_type": "code",
   "execution_count": 460,
   "metadata": {},
   "outputs": [],
   "source": [
    "import tushare as ts\n",
    "import time\n",
    "import datetime\n",
    "import sys\n",
    "import os\n",
    "import numpy as np\n",
    "import pandas as pd\n",
    "from pandas import Series, DataFrame\n",
    "import matplotlib.pyplot as plt\n",
    "import statsmodels.api as sm\n",
    "import statsmodels.formula.api as smf\n",
    "import statsmodels\n",
    "from sklearn.ensemble import RandomForestRegressor\n",
    "sys.path.append('../Codes')\n",
    "import DataProcessor as DP\n",
    "from DataProcessor import centralize\n",
    "from DataProcessor import standardize\n",
    "from DataProcessor import standardize_industry\n",
    "from DataProcessor import get_industrys\n",
    "from DataProcessor import get_all_industrys\n",
    "from DataProcessor import get_stock_daily_data\n",
    "from DataProcessor import get_stock_money_data\n",
    "from DataProcessor import get_index_data\n",
    "import tools"
   ]
  },
  {
   "cell_type": "code",
   "execution_count": 2,
   "metadata": {},
   "outputs": [],
   "source": [
    "pro = ts.pro_api()"
   ]
  },
  {
   "cell_type": "code",
   "execution_count": 3,
   "metadata": {},
   "outputs": [],
   "source": [
    "#获取行业分类\n",
    "industrys = DP.get_all_industrys()"
   ]
  },
  {
   "cell_type": "code",
   "execution_count": 2917,
   "metadata": {},
   "outputs": [],
   "source": [
    "#industry = ['801010.SI', '801080.SI', '801120.SI', '801140.SI', '801150.SI', '801730.SI', '801740.SI', '801750.SI', '801760.SI' '801770.SI',]\n",
    "industry = ['801750.SI']\n",
    "#取行业内股票数据\n",
    "data = DP.get_stock_daily_data(industrys=industrys,\n",
    "                               industry=industry,\n",
    "                         fields=['open',\n",
    "                                 'high',\n",
    "                                 'low',\n",
    "                                 'close',\n",
    "                                 'vol',\n",
    "                                 'amount',\n",
    "                                 'adj_factor',\n",
    "                                 'turnover_rate_f',\n",
    "                                 'pe_ttm',\n",
    "                                 'pb',\n",
    "                                 'ps_ttm',\n",
    "                                 'dv_ttm',\n",
    "                                 'total_mv'])\n",
    "\n",
    "money_dic = DP.get_stock_money_data(industrys, industry)\n",
    "for k in money_dic.keys():\n",
    "    money_dic[k] = DataFrame(money_dic[k], index=data['open'].index, columns=data['open'].columns)"
   ]
  },
  {
   "cell_type": "code",
   "execution_count": 2918,
   "metadata": {},
   "outputs": [],
   "source": [
    "st = DP.get_st_data(industrys, industry, data['open'])"
   ]
  },
  {
   "cell_type": "code",
   "execution_count": 2919,
   "metadata": {},
   "outputs": [],
   "source": [
    "#因子构造\n",
    "OPEN = np.log(data['open'] * data['adj_factor'])\n",
    "HIGH = np.log(data['high'] * data['adj_factor'])\n",
    "LOW = np.log(data['low'] * data['adj_factor'])\n",
    "CLOSE = np.log(data['close'] * data['adj_factor'])\n",
    "\n",
    "vol = data['vol'] * 100\n",
    "amount = data['amount'] * 1000\n",
    "\n",
    "vwap = (amount / vol * data['adj_factor']).fillna(method='ffill')\n",
    "vwap = np.log(vwap)\n",
    "\n",
    "trf = data['turnover_rate_f']\n",
    "ltrf = np.log(trf)\n",
    "\n",
    "mv = data['total_mv']\n",
    "lmv = np.log(mv)\n",
    "\n",
    "pe = data['pe_ttm']\n",
    "pb = data['pb']\n",
    "ps = data['ps_ttm']\n",
    "pe = 1 / pe\n",
    "ps = 1 / ps\n",
    "pb = 1 / pb\n",
    "\n",
    "dv = data['dv_ttm']\n",
    "\n",
    "rzrqye = (money_dic['rzye'].fillna(method='ffill') - money_dic['rqye'].fillna(method='ffill')).fillna(method='ffill').loc[OPEN.index, :].fillna(method='ffill')\n",
    "gt = money_dic['gt_vol'].fillna(method='ffill').loc[OPEN.index, :].fillna(method='ffill')\n",
    "d_rzrq = rzrqye / rzrqye.shift()\n",
    "d_rzrq.fillna(1, inplace=True)\n",
    "d_gt = gt / gt.shift()\n",
    "d_gt.fillna(1, inplace=True)"
   ]
  },
  {
   "cell_type": "code",
   "execution_count": 2920,
   "metadata": {},
   "outputs": [],
   "source": [
    "ror = CLOSE - CLOSE.shift()\n",
    "r_rinei = CLOSE - OPEN\n",
    "r_geye = OPEN - CLOSE.shift()\n",
    "rh = HIGH - OPEN\n",
    "rl = LOW - OPEN\n",
    "hl = rh - rl\n",
    "vr = ltrf - ltrf.shift()"
   ]
  },
  {
   "cell_type": "code",
   "execution_count": 2921,
   "metadata": {},
   "outputs": [],
   "source": [
    "n = 2\n",
    "#y = standardize_industry(OPEN.shift(-n)-OPEN, industrys, industry)\n",
    "y = standardize_industry(CLOSE.shift(-n+1)-OPEN, industrys, industry)\n",
    "y[(r_geye > 0.09).fillna(False) & (r_rinei.abs() < 1e-6).fillna(False)] = 0"
   ]
  },
  {
   "cell_type": "code",
   "execution_count": 2922,
   "metadata": {},
   "outputs": [],
   "source": [
    "r1 = standardize_industry(ror, industrys, industry)\n",
    "r2 = standardize_industry(ror.rolling(3).sum(), industrys, industry)\n",
    "r3 = standardize_industry(ror.rolling(5).sum(), industrys, industry)\n",
    "r4 = standardize_industry(ror.rolling(10).sum(), industrys, industry)\n",
    "r5 = standardize_industry(ror.rolling(15).sum(), industrys, industry)\n",
    "\n",
    "x1 = standardize_industry(r_rinei, industrys, industry)\n",
    "x2 = standardize_industry(r_rinei.rolling(3).sum(), industrys, industry)\n",
    "x3 = standardize_industry(r_rinei.rolling(5).sum(), industrys, industry)\n",
    "x4 = standardize_industry(r_rinei.rolling(10).sum(), industrys, industry)\n",
    "x5 = standardize_industry(r_rinei.rolling(15).sum(), industrys, industry)\n",
    "\n",
    "rr1 = standardize_industry((r_rinei / ror), industrys, industry).fillna(0)\n",
    "rr2 = standardize_industry((r_rinei / ror).rolling(3).sum(), industrys, industry).fillna(0)\n",
    "rr3 = standardize_industry((r_rinei / ror).rolling(5).sum(), industrys, industry).fillna(0)\n",
    "rr4 = standardize_industry((r_rinei / ror).rolling(10).sum(), industrys, industry).fillna(0)\n",
    "rr5 = standardize_industry((r_rinei / ror).rolling(15).sum(), industrys, industry).fillna(0)\n",
    "\n",
    "z1 = standardize_industry(r_geye, industrys, industry)\n",
    "z2 = standardize_industry(r_geye.rolling(3).sum(), industrys, industry)\n",
    "z3 = standardize_industry(r_geye.rolling(5).sum(), industrys, industry)\n",
    "z4 = standardize_industry(r_geye.rolling(10).sum(), industrys, industry)\n",
    "z5 = standardize_industry(r_geye.rolling(15).sum(), industrys, industry)\n",
    "\n",
    "m1 = standardize_industry(np.exp(CLOSE)/np.exp(CLOSE).rolling(3).mean(), industrys, industry)\n",
    "m2 = standardize_industry(np.exp(CLOSE)/np.exp(CLOSE).rolling(5).mean(), industrys, industry)\n",
    "m3 = standardize_industry(np.exp(CLOSE)/np.exp(CLOSE).rolling(10).mean(), industrys, industry)\n",
    "m4 = standardize_industry(np.exp(CLOSE)/np.exp(CLOSE).rolling(15).mean(), industrys, industry)\n",
    "m5 = standardize_industry(np.exp(CLOSE)/np.exp(CLOSE).rolling(20).mean(), industrys, industry)\n",
    "\n",
    "h1 = standardize_industry(rh, industrys, industry)\n",
    "h2 = standardize_industry(rh.rolling(3).sum(), industrys, industry)\n",
    "h3 = standardize_industry(rh.rolling(5).sum(), industrys, industry)\n",
    "h4 = standardize_industry(rh.rolling(10).sum(), industrys, industry)\n",
    "h5 = standardize_industry(rh.rolling(15).sum(), industrys, industry)\n",
    "\n",
    "l1 = standardize_industry(rl, industrys, industry)\n",
    "l2 = standardize_industry(rl.rolling(3).sum(), industrys, industry)\n",
    "l3 = standardize_industry(rl.rolling(5).sum(), industrys, industry)\n",
    "l4 = standardize_industry(rl.rolling(10).sum(), industrys, industry)\n",
    "l5 = standardize_industry(rl.rolling(15).sum(), industrys, industry)\n",
    "\n",
    "hl1 = standardize_industry(hl, industrys, industry)\n",
    "hl2 = standardize_industry(hl.rolling(3).sum(), industrys, industry)\n",
    "hl3 = standardize_industry(hl.rolling(5).sum(), industrys, industry)\n",
    "hl4 = standardize_industry(hl.rolling(10).sum(), industrys, industry)\n",
    "hl5 = standardize_industry(hl.rolling(15).sum(), industrys, industry)\n",
    "\n",
    "vr1 = standardize_industry(vr, industrys, industry)\n",
    "vr2 = standardize_industry(vr.rolling(3).sum(), industrys, industry)\n",
    "vr3 = standardize_industry(vr.rolling(5).sum(), industrys, industry)\n",
    "vr4 = standardize_industry(vr.rolling(10).sum(), industrys, industry)\n",
    "vr5 = standardize_industry(vr.rolling(15).sum(), industrys, industry)\n",
    "\n",
    "\n",
    "rzrq1 = standardize_industry(d_rzrq, industrys, industry).fillna(0)\n",
    "rzrq2 = standardize_industry(d_rzrq.rolling(3).sum(), industrys, industry).fillna(0)\n",
    "rzrq3 = standardize_industry(d_rzrq.rolling(5).sum(), industrys, industry).fillna(0)\n",
    "rzrq4 = standardize_industry(d_rzrq.rolling(10).sum(), industrys, industry).fillna(0)\n",
    "rzrq5 = standardize_industry(d_rzrq.rolling(15).sum(), industrys, industry).fillna(0)\n",
    "\n",
    "gt1 = standardize_industry(d_gt, industrys, industry).fillna(0)\n",
    "gt2 = standardize_industry(d_gt.rolling(3).sum(), industrys, industry).fillna(0)\n",
    "gt3 = standardize_industry(d_gt.rolling(5).sum(), industrys, industry).fillna(0)\n",
    "gt4 = standardize_industry(d_gt.rolling(10).sum(), industrys, industry).fillna(0)\n",
    "gt5 = standardize_industry(d_gt.rolling(15).sum(), industrys, industry).fillna(0)\n",
    "\n",
    "pe = standardize_industry(pe, industrys, industry)\n",
    "pb = standardize_industry(pb, industrys, industry)\n",
    "ps = standardize_industry(ps, industrys, industry)\n",
    "dv = standardize_industry(dv, industrys, industry)\n",
    "lmv = standardize_industry(lmv, industrys, industry)\n",
    "\n",
    "vwap1 = np.log(((amount * data['adj_factor']) / vol).fillna(method='ffill'))\n",
    "vwap2 = np.log(((amount * data['adj_factor']).rolling(3).sum() / vol.rolling(3).sum()).fillna(method='ffill'))\n",
    "vwap3 = np.log(((amount * data['adj_factor']).rolling(5).sum() / vol.rolling(5).sum()).fillna(method='ffill'))\n",
    "vwap4 = np.log(((amount * data['adj_factor']).rolling(10).sum() / vol.rolling(10).sum()).fillna(method='ffill'))\n",
    "vwap5 = np.log(((amount * data['adj_factor']).rolling(15).sum() / vol.rolling(15).sum()).fillna(method='ffill'))\n",
    "\n",
    "ao = standardize_industry(vwap1-OPEN, industrys, industry)\n",
    "\n",
    "ca1 = standardize_industry(CLOSE-vwap1, industrys, industry)\n",
    "ca2 = standardize_industry(CLOSE-vwap2, industrys, industry)\n",
    "ca3 = standardize_industry(CLOSE-vwap3, industrys, industry)\n",
    "ca4 = standardize_industry(CLOSE-vwap4, industrys, industry)\n",
    "ca5 = standardize_industry(CLOSE-vwap5, industrys, industry)\n",
    "\n",
    "rv1 = standardize_industry((ror*vr).abs() * np.sign(ror), industrys, industry)\n",
    "rv2 = standardize_industry((ror.rolling(3).sum()*vr.rolling(3).sum()).abs() * np.sign(ror.rolling(3).sum()), industrys, industry)\n",
    "rv3 = standardize_industry((ror.rolling(5).sum()*vr.rolling(5).sum()).abs() * np.sign(ror.rolling(5).sum()), industrys, industry)\n",
    "rv4 = standardize_industry((ror.rolling(10).sum()*vr.rolling(10).sum()).abs() * np.sign(ror.rolling(10).sum()), industrys, industry)\n",
    "rv5 = standardize_industry((ror.rolling(15).sum()*vr.rolling(15).sum()).abs() * np.sign(ror.rolling(15).sum()), industrys, industry)"
   ]
  },
  {
   "cell_type": "code",
   "execution_count": 2923,
   "metadata": {},
   "outputs": [],
   "source": [
    "n_zhichengzuli = 60\n",
    "HH = HIGH.rolling(n_zhichengzuli).max()\n",
    "LL = LOW.rolling(n_zhichengzuli).min()\n",
    "w = (CLOSE - LL) / (HH - LL)\n",
    "w = standardize_industry(w, industrys, industry)\n",
    "w.fillna(0, inplace=True)"
   ]
  },
  {
   "cell_type": "code",
   "execution_count": 2924,
   "metadata": {},
   "outputs": [],
   "source": [
    "r_market = ror.mean(1)\n",
    "#回归天数\n",
    "n_reg = 20\n",
    "tmp = [{k:ror.loc[:, industrys[i]].mean(1) for k in industrys[i]} for i in industry]\n",
    "tmp1 = {}\n",
    "for d in tmp:\n",
    "    tmp1.update(d)\n",
    "\n",
    "def reg(y, x, n):\n",
    "    lxx = (x**2).rolling(n).sum() - n * (x.rolling(n).mean()**2)\n",
    "    lxy = (x * y).rolling(n).sum() - n * x.rolling(n).mean() * y.rolling(n).mean()\n",
    "    b = lxy / lxx\n",
    "    a = y.rolling(n).mean() - b * x.rolling(n).mean()\n",
    "    \n",
    "    return a, b\n",
    "\n",
    "a, b = reg(DataFrame(ror), DataFrame(tmp1), n_reg)\n",
    "e = DataFrame(ror) - a - b * DataFrame(tmp1)\n",
    "\n",
    "a = standardize_industry(a, industrys, industry)\n",
    "b = standardize_industry(b, industrys, industry)\n",
    "std_e = standardize_industry(e.rolling(n_reg).std(), industrys, industry)\n",
    "\n",
    "sk = a.rolling(n_reg).skew()\n",
    "ku = a.rolling(n_reg).kurt()\n",
    "sk = standardize_industry(sk, industrys, industry)\n",
    "ku = standardize_industry(ku, industrys, industry)"
   ]
  },
  {
   "cell_type": "code",
   "execution_count": 2925,
   "metadata": {},
   "outputs": [],
   "source": [
    "factor = {\n",
    "    'x1':x1, 'x2':x2, 'x3':x3, 'x4':x4, 'x5':x5,\n",
    "    'z1':z1, 'z2':z2, 'z3':z3, 'z4':z4, 'z5':z5,\n",
    "    'r1':r1, 'r2':r2, 'r3':r3, 'r4':r4, 'r5':r5,\n",
    "    'rr1':rr1, 'rr2':rr2, 'rr3':rr3, 'rr4':rr4, 'rr5':rr5,\n",
    "    'm1':m1, 'm2':m2, 'm3':m3, 'm4':m4, 'm5':m5,\n",
    "    'h1':h1, 'h2':h2, 'h3':h3, 'h4':h4, 'h5':h5,\n",
    "    'l1':l1, 'l2':l2, 'l3':l3, 'l4':l4, 'l5':l5,\n",
    "    'hl1':hl1, 'hl2':hl2, 'hl3':hl3, 'hl4':hl4, 'hl5':hl5,\n",
    "    'ao':ao,\n",
    "    'ca1':ca1, 'ca2':ca2, 'ca3':ca3, 'ca4':ca4, 'ca5':ca5,\n",
    "    'vr1':vr1, 'vr2':vr2, 'vr3':vr3, 'vr4':vr4, 'vr5':vr5,\n",
    "    'rv1':rv1, 'rv2':rv2, 'rv3':rv3, 'rv4':rv4, 'rv5':rv5,\n",
    "    'rzrq1':rzrq1, 'rzrq2':rzrq2, 'rzrq3':rzrq3, 'rzrq4':rzrq4, 'rzrq5':rzrq5,\n",
    "    'gt1':gt1, 'gt2':gt2, 'gt3':gt3, 'gt4':gt4, 'gt5':gt5,\n",
    "    'pe':pe, 'pb':pb, 'ps':ps, 'dv':dv, 'lmv':lmv,\n",
    "    'a':a, 'b':b, 'std_e':std_e,\n",
    "    'w':w,\n",
    "    'sk':sk, 'ku':ku,\n",
    "}"
   ]
  },
  {
   "cell_type": "code",
   "execution_count": 2926,
   "metadata": {},
   "outputs": [],
   "source": [
    "for k in factor.keys():\n",
    "    df = DataFrame(factor[k])\n",
    "    df[st] = 0\n",
    "    #df[st] = DataFrame({stock:df.mean(1) for stock in df.columns})\n",
    "    factor[k] = DataFrame(df)"
   ]
  },
  {
   "cell_type": "code",
   "execution_count": 2927,
   "metadata": {},
   "outputs": [],
   "source": [
    "#ic, ir = tools.icir(ku.shift().iloc[-500:,:], y.iloc[-500:,:], n=20)\n",
    "#ic.rolling(20).mean().plot()\n",
    "#statsmodels.graphics.tsaplots.plot_acf(ic)"
   ]
  },
  {
   "cell_type": "code",
   "execution_count": 2928,
   "metadata": {},
   "outputs": [],
   "source": [
    "#tools.group_backtest((gt2).shift().iloc[-500:,:], ((CLOSE.shift(-n+1)-OPEN) / n).iloc[-500:,:], n=5)"
   ]
  },
  {
   "cell_type": "code",
   "execution_count": 2939,
   "metadata": {},
   "outputs": [],
   "source": [
    "ca1.to_csv('../FactorBase/%s/ca.csv'%industry[0])"
   ]
  },
  {
   "cell_type": "code",
   "execution_count": 2940,
   "metadata": {},
   "outputs": [],
   "source": [
    "begin_date = '2017-01-01'\n",
    "split_date = '2019-01-01'\n",
    "train_date = y.index[(begin_date < y.index) & (y.index < split_date)]\n",
    "test_date = y.index[y.index > split_date]"
   ]
  },
  {
   "cell_type": "code",
   "execution_count": 2944,
   "metadata": {},
   "outputs": [],
   "source": [
    "df_y_train = DataFrame({'y':y.loc[train_date, :].fillna(0).values.flatten()})\n",
    "df_x_train = DataFrame({k:factor[k].loc[train_date, :].shift().fillna(0).values.flatten() for k in factor.keys()})\n",
    "df_y_test = DataFrame({'y':y.loc[test_date, :].fillna(0).values.flatten()})\n",
    "df_x_test = DataFrame({k:factor[k].loc[test_date, :].shift().fillna(0).values.flatten() for k in factor.keys()})\n",
    "df_train = pd.concat([df_y_train, df_x_train], axis=1)\n",
    "df_test = pd.concat([df_y_test, df_x_test], axis=1)"
   ]
  },
  {
   "cell_type": "code",
   "execution_count": 2931,
   "metadata": {},
   "outputs": [],
   "source": [
    "#df_x_train.loc[:,['ca1', 'ca5', 'ao', 'a', 'b', 'std_e', 'pe', 'lmv', 'gt2', 'sk', 'ku']].corr()"
   ]
  },
  {
   "cell_type": "code",
   "execution_count": null,
   "metadata": {},
   "outputs": [],
   "source": [
    "model = RandomForestRegressor(n_estimators=10).fit(df_train.iloc[:, 1:], df_train.iloc[:, 0])\n",
    "model.feature_importances_"
   ]
  },
  {
   "cell_type": "code",
   "execution_count": null,
   "metadata": {},
   "outputs": [],
   "source": [
    "#调仓周期\n",
    "y_hat = DataFrame(model.predict(df_train.iloc[:, 1:]).values.reshape(len(train_date), len(y.columns)), index=train_date, columns=y.columns)\n",
    "q = 0.98\n",
    "position = (y_hat.gt(y_hat.quantile(q, 1), 0)) & (y_hat.lt(y_hat.quantile(1, 1), 0))\n",
    "\n",
    "ror_train = ror.loc[train_date, :]\n",
    "r_rinei_train = r_rinei.loc[train_date, :]\n",
    "r_geye_train = r_geye.loc[train_date, :]\n",
    "\n",
    "#ror_huice = (position * (CLOSE - OPEN).loc[train_date, :] + position.shift() * (OPEN - CLOSE.shift()).loc[train_date, :]).mul(len(y.columns) / position.sum(1), 0)\n",
    "ror_huice = (position * (CLOSE - OPEN).loc[train_date, :] + position.shift() * (CLOSE - CLOSE.shift()).loc[train_date, :]).mul(len(y.columns) / position.sum(1), 0) / n\n",
    "#ror_huice = (position * (CLOSE.shift(-n+1) - OPEN).loc[train_date, :]).mul(len(y.columns) / position.sum(1), 0) / n\n",
    "\n",
    "ror_huice.mean(1).cumsum().plot()\n",
    "\n",
    "benchmark = ror_train\n",
    "benchmark.mean(1).cumsum().plot()\n",
    "\n",
    "alpha = ror_huice.mean(1) - benchmark.mean(1)\n",
    "alpha.cumsum().plot()\n",
    "'''\n",
    "for i in industry:\n",
    "    stock = industrys[i]\n",
    "    ror_test.loc[:,stock].mean(1).cumsum().plot()\n",
    "plt.legend(['backtest', 'benchmark', 'alpha'] + [i for i in industry])\n",
    "'''\n",
    "plt.legend(['backtest', 'benchmark', 'alpha'])\n",
    "print(y_hat.iloc[-1,:].sort_values(ascending=False).dropna().iloc[:10])"
   ]
  },
  {
   "cell_type": "code",
   "execution_count": null,
   "metadata": {},
   "outputs": [],
   "source": [
    "#调仓周期\n",
    "y_hat = DataFrame(model.predict(df_test.iloc[:, 1:]).values.reshape(len(test_date), len(y.columns)), index=test_date, columns=y.columns)\n",
    "q1 = 0.98\n",
    "q2 = 1\n",
    "position = (y_hat.gt(y_hat.quantile(q1, 1), 0)) & (y_hat.lt(y_hat.quantile(q2, 1), 0))\n",
    "\n",
    "ror_test = ror.loc[test_date, :]\n",
    "r_rinei_test = r_rinei.loc[test_date, :]\n",
    "r_geye_test = r_geye.loc[test_date, :]\n",
    "\n",
    "#ror_huice = (position * (CLOSE - OPEN).loc[test_date, :]).mul(len(y.columns) / position.sum(1), 0)\n",
    "ror_huice = (position * (CLOSE - OPEN).loc[test_date, :] + position.shift() * (CLOSE - CLOSE.shift()).loc[test_date, :]).mul(len(y.columns) / position.sum(1), 0) / n\n",
    "#ror_huice = (position * (CLOSE.shift(-n+1) - OPEN).loc[test_date, :]).mul(len(y.columns) / position.sum(1), 0) / n\n",
    "\n",
    "\n",
    "ror_huice.mean(1).cumsum().plot()\n",
    "\n",
    "benchmark = ror_test\n",
    "benchmark.mean(1).cumsum().plot()\n",
    "\n",
    "alpha = ror_huice.mean(1) - benchmark.mean(1)\n",
    "alpha.cumsum().plot()\n",
    "'''\n",
    "for i in industry:\n",
    "    stock = industrys[i]\n",
    "    ror_test.loc[:,stock].mean(1).cumsum().plot()\n",
    "plt.legend(['backtest', 'benchmark', 'alpha'] + [i for i in industry])\n",
    "'''\n",
    "plt.legend(['backtest', 'benchmark', 'alpha'])\n",
    "print(y_hat.iloc[-1,:].sort_values(ascending=False).dropna().iloc[:10])"
   ]
  },
  {
   "cell_type": "code",
   "execution_count": 2932,
   "metadata": {},
   "outputs": [
    {
     "data": {
      "text/plain": [
       "Intercept    -3.726193\n",
       "ca1         -12.992712\n",
       "ao            2.742586\n",
       "a            -4.277770\n",
       "b             6.415220\n",
       "std_e        -4.677303\n",
       "pe            4.089924\n",
       "lmv          -1.267346\n",
       "ku           -3.721299\n",
       "dtype: float64"
      ]
     },
     "execution_count": 2932,
     "metadata": {},
     "output_type": "execute_result"
    }
   ],
   "source": [
    "model = smf.ols('y~ca1+ao\\\n",
    "                  +a+b+std_e\\\n",
    "                  +pe\\\n",
    "                  +lmv\\\n",
    "                  +ku\\\n",
    "                  ', data=df_train).fit()\n",
    "model.tvalues"
   ]
  },
  {
   "cell_type": "code",
   "execution_count": 2933,
   "metadata": {},
   "outputs": [
    {
     "name": "stdout",
     "output_type": "stream",
     "text": [
      "300674.SZ    0.179568\n",
      "002766.SZ    0.148323\n",
      "000662.SZ    0.128896\n",
      "300150.SZ    0.111818\n",
      "300730.SZ    0.110474\n",
      "603660.SH    0.106847\n",
      "300167.SZ    0.097796\n",
      "300202.SZ    0.087624\n",
      "300386.SZ    0.086408\n",
      "300588.SZ    0.085720\n",
      "Name: 2018-12-28 00:00:00, dtype: float64\n"
     ]
    },
    {
     "data": {
      "image/png": "[encoded data removed]",
      "text/plain": [
       "<Figure size 432x288 with 1 Axes>"
      ]
     },
     "metadata": {
      "needs_background": "light"
     },
     "output_type": "display_data"
    }
   ],
   "source": [
    "#调仓周期\n",
    "y_hat = DataFrame(model.predict(df_train).values.reshape(len(train_date), len(y.columns)), index=train_date, columns=y.columns)\n",
    "q = 0.98\n",
    "position = (y_hat.gt(y_hat.quantile(q, 1), 0)) & (y_hat.lt(y_hat.quantile(1, 1), 0))\n",
    "\n",
    "ror_train = ror.loc[train_date, :]\n",
    "r_rinei_train = r_rinei.loc[train_date, :]\n",
    "r_geye_train = r_geye.loc[train_date, :]\n",
    "\n",
    "#ror_huice = (position * (CLOSE - OPEN).loc[train_date, :] + position.shift() * (OPEN - CLOSE.shift()).loc[train_date, :]).mul(len(y.columns) / position.sum(1), 0)\n",
    "ror_huice = (position * (CLOSE - OPEN).loc[train_date, :] + position.shift() * (CLOSE - CLOSE.shift()).loc[train_date, :]).mul(len(y.columns) / position.sum(1), 0) / n\n",
    "#ror_huice = (position * (CLOSE.shift(-n+1) - OPEN).loc[train_date, :]).mul(len(y.columns) / position.sum(1), 0) / n\n",
    "\n",
    "ror_huice.mean(1).cumsum().plot()\n",
    "\n",
    "benchmark = ror_train\n",
    "benchmark.mean(1).cumsum().plot()\n",
    "\n",
    "alpha = ror_huice.mean(1) - benchmark.mean(1)\n",
    "alpha.cumsum().plot()\n",
    "'''\n",
    "for i in industry:\n",
    "    stock = industrys[i]\n",
    "    ror_test.loc[:,stock].mean(1).cumsum().plot()\n",
    "plt.legend(['backtest', 'benchmark', 'alpha'] + [i for i in industry])\n",
    "'''\n",
    "plt.legend(['backtest', 'benchmark', 'alpha'])\n",
    "print(y_hat.iloc[-1,:].sort_values(ascending=False).dropna().iloc[:10])"
   ]
  },
  {
   "cell_type": "code",
   "execution_count": 2934,
   "metadata": {},
   "outputs": [
    {
     "name": "stdout",
     "output_type": "stream",
     "text": [
      "300552.SZ    0.083478\n",
      "300682.SZ    0.080032\n",
      "002530.SZ    0.078297\n",
      "000034.SZ    0.074730\n",
      "002439.SZ    0.074639\n",
      "300248.SZ    0.071309\n",
      "300462.SZ    0.071062\n",
      "300020.SZ    0.070476\n",
      "000158.SZ    0.067661\n",
      "300771.SZ    0.067190\n",
      "Name: 2020-08-04 00:00:00, dtype: float64\n"
     ]
    },
    {
     "data": {
      "image/png": "[encoded data removed]",
      "text/plain": [
       "<Figure size 432x288 with 1 Axes>"
      ]
     },
     "metadata": {
      "needs_background": "light"
     },
     "output_type": "display_data"
    }
   ],
   "source": [
    "#调仓周期\n",
    "y_hat = DataFrame(model.predict(df_test).values.reshape(len(test_date), len(y.columns)), index=test_date, columns=y.columns)\n",
    "q1 = 0.98\n",
    "q2 = 1\n",
    "position = (y_hat.gt(y_hat.quantile(q1, 1), 0)) & (y_hat.lt(y_hat.quantile(q2, 1), 0))\n",
    "\n",
    "ror_test = ror.loc[test_date, :]\n",
    "r_rinei_test = r_rinei.loc[test_date, :]\n",
    "r_geye_test = r_geye.loc[test_date, :]\n",
    "\n",
    "#ror_huice = (position * (CLOSE - OPEN).loc[test_date, :]).mul(len(y.columns) / position.sum(1), 0)\n",
    "ror_huice = (position * (CLOSE - OPEN).loc[test_date, :] + position.shift() * (CLOSE - CLOSE.shift()).loc[test_date, :]).mul(len(y.columns) / position.sum(1), 0) / n\n",
    "#ror_huice = (position * (CLOSE.shift(-n+1) - OPEN).loc[test_date, :]).mul(len(y.columns) / position.sum(1), 0) / n\n",
    "\n",
    "\n",
    "ror_huice.mean(1).cumsum().plot()\n",
    "\n",
    "benchmark = ror_test\n",
    "benchmark.mean(1).cumsum().plot()\n",
    "\n",
    "alpha = ror_huice.mean(1) - benchmark.mean(1)\n",
    "alpha.cumsum().plot()\n",
    "'''\n",
    "for i in industry:\n",
    "    stock = industrys[i]\n",
    "    ror_test.loc[:,stock].mean(1).cumsum().plot()\n",
    "plt.legend(['backtest', 'benchmark', 'alpha'] + [i for i in industry])\n",
    "'''\n",
    "plt.legend(['backtest', 'benchmark', 'alpha'])\n",
    "print(y_hat.iloc[-1,:].sort_values(ascending=False).dropna().iloc[:10])"
   ]
  },
  {
   "cell_type": "code",
   "execution_count": 2936,
   "metadata": {},
   "outputs": [
    {
     "data": {
      "text/plain": [
       "4"
      ]
     },
     "execution_count": 2936,
     "metadata": {},
     "output_type": "execute_result"
    }
   ],
   "source": [
    "position.sum(1).iloc[-1]"
   ]
  },
  {
   "cell_type": "code",
   "execution_count": 2842,
   "metadata": {},
   "outputs": [
    {
     "data": {
      "text/plain": [
       "4.511563207813363"
      ]
     },
     "execution_count": 2842,
     "metadata": {},
     "output_type": "execute_result"
    }
   ],
   "source": [
    "alpha.mean() / alpha.std() * np.sqrt(len(ror_huice))"
   ]
  },
  {
   "cell_type": "code",
   "execution_count": 2914,
   "metadata": {},
   "outputs": [
    {
     "data": {
      "text/plain": [
       "2020-07-22    0.004174\n",
       "2020-07-23   -0.001406\n",
       "2020-07-24   -0.009001\n",
       "2020-07-27    0.033534\n",
       "2020-07-28   -0.023779\n",
       "2020-07-29    0.033787\n",
       "2020-07-30    0.003475\n",
       "2020-07-31    0.001030\n",
       "2020-08-03   -0.019151\n",
       "2020-08-04    0.048935\n",
       "dtype: float64"
      ]
     },
     "execution_count": 2914,
     "metadata": {},
     "output_type": "execute_result"
    }
   ],
   "source": [
    "alpha.iloc[-10:]"
   ]
  },
  {
   "cell_type": "code",
   "execution_count": 2935,
   "metadata": {},
   "outputs": [
    {
     "name": "stdout",
     "output_type": "stream",
     "text": [
      "300155.SZ    0.147633\n",
      "300042.SZ    0.122856\n",
      "300468.SZ    0.120252\n",
      "300663.SZ    0.114992\n",
      "002530.SZ    0.088467\n",
      "002152.SZ    0.086053\n",
      "002308.SZ    0.083794\n",
      "603232.SH    0.078619\n",
      "300130.SZ    0.078086\n",
      "000066.SZ    0.076514\n",
      "Name: 2020-08-04 00:00:00, dtype: float64\n"
     ]
    }
   ],
   "source": [
    "df_y_test2 = DataFrame({'y':y.loc[test_date, :].values.flatten()})\n",
    "df_x_test2 = DataFrame({k:factor[k].loc[test_date, :].fillna(0).values.flatten() for k in factor.keys()})\n",
    "df_test2 = pd.concat([df_y_test2, df_x_test2], axis=1)\n",
    "y_hat2 = DataFrame(model.predict(df_test2).values.reshape(len(ror_test), len(ror_test.columns)), index=ror_test.index, columns=ror_test.columns)\n",
    "print(y_hat2.iloc[-1,:].sort_values(ascending=False).dropna().iloc[:10])"
   ]
  },
  {
   "cell_type": "code",
   "execution_count": 2916,
   "metadata": {},
   "outputs": [
    {
     "name": "stdout",
     "output_type": "stream",
     "text": [
      "300159.SZ    0.136740\n",
      "002664.SZ    0.069033\n",
      "002933.SZ    0.053740\n",
      "600879.SH    0.052696\n",
      "300810.SZ    0.052096\n",
      "600391.SH    0.051708\n",
      "600765.SH    0.045248\n",
      "600990.SH    0.041522\n",
      "600316.SH    0.041380\n",
      "600343.SH    0.034479\n",
      "Name: 2020-08-03 00:00:00, dtype: float64\n"
     ]
    }
   ],
   "source": [
    "print(y_hat2.iloc[-2,:].sort_values(ascending=False).dropna().iloc[:10])"
   ]
  },
  {
   "cell_type": "code",
   "execution_count": 1935,
   "metadata": {},
   "outputs": [
    {
     "data": {
      "text/plain": [
       "<matplotlib.axes._subplots.AxesSubplot at 0x1c2d031c50>"
      ]
     },
     "execution_count": 1935,
     "metadata": {},
     "output_type": "execute_result"
    },
    {
     "data": {
      "image/png": "[encoded data removed]",
      "text/plain": [
       "<Figure size 432x288 with 1 Axes>"
      ]
     },
     "metadata": {
      "needs_background": "light"
     },
     "output_type": "display_data"
    }
   ],
   "source": [
    "Series([len(y_hat2.iloc[-i,:].sort_values(ascending=False).dropna().iloc[:10].index & y_hat2.iloc[-i-1,:].sort_values(ascending=False).dropna().iloc[:10].index)/10 for i in range(1,100)]).rolling(10).mean().plot()"
   ]
  },
  {
   "cell_type": "code",
   "execution_count": null,
   "metadata": {},
   "outputs": [],
   "source": []
  },
  {
   "cell_type": "code",
   "execution_count": null,
   "metadata": {},
   "outputs": [],
   "source": []
  },
  {
   "cell_type": "code",
   "execution_count": null,
   "metadata": {},
   "outputs": [],
   "source": []
  },
  {
   "cell_type": "code",
   "execution_count": 368,
   "metadata": {},
   "outputs": [
    {
     "ename": "ValueError",
     "evalue": "Input contains NaN, infinity or a value too large for dtype('float32').",
     "output_type": "error",
     "traceback": [
      "\u001b[0;31m---------------------------------------------------------------------------\u001b[0m",
      "\u001b[0;31mValueError\u001b[0m                                Traceback (most recent call last)",
      "\u001b[0;32m<ipython-input-368-1477b3a69603>\u001b[0m in \u001b[0;36m<module>\u001b[0;34m\u001b[0m\n\u001b[0;32m----> 1\u001b[0;31m \u001b[0mmodel\u001b[0m \u001b[0;34m=\u001b[0m \u001b[0mRandomForestRegressor\u001b[0m\u001b[0;34m(\u001b[0m\u001b[0mn_estimators\u001b[0m\u001b[0;34m=\u001b[0m\u001b[0;36m10\u001b[0m\u001b[0;34m)\u001b[0m\u001b[0;34m.\u001b[0m\u001b[0mfit\u001b[0m\u001b[0;34m(\u001b[0m\u001b[0mdf_train\u001b[0m\u001b[0;34m.\u001b[0m\u001b[0miloc\u001b[0m\u001b[0;34m[\u001b[0m\u001b[0;34m:\u001b[0m\u001b[0;34m,\u001b[0m \u001b[0;36m1\u001b[0m\u001b[0;34m:\u001b[0m\u001b[0;34m]\u001b[0m\u001b[0;34m,\u001b[0m \u001b[0mdf_train\u001b[0m\u001b[0;34m.\u001b[0m\u001b[0miloc\u001b[0m\u001b[0;34m[\u001b[0m\u001b[0;34m:\u001b[0m\u001b[0;34m,\u001b[0m \u001b[0;36m0\u001b[0m\u001b[0;34m]\u001b[0m\u001b[0;34m)\u001b[0m\u001b[0;34m\u001b[0m\u001b[0;34m\u001b[0m\u001b[0m\n\u001b[0m\u001b[1;32m      2\u001b[0m \u001b[0mmodel\u001b[0m\u001b[0;34m.\u001b[0m\u001b[0mfeature_importances_\u001b[0m\u001b[0;34m\u001b[0m\u001b[0;34m\u001b[0m\u001b[0m\n",
      "\u001b[0;32m~/anaconda3/lib/python3.7/site-packages/sklearn/ensemble/_forest.py\u001b[0m in \u001b[0;36mfit\u001b[0;34m(self, X, y, sample_weight)\u001b[0m\n\u001b[1;32m    293\u001b[0m         \"\"\"\n\u001b[1;32m    294\u001b[0m         \u001b[0;31m# Validate or convert input data\u001b[0m\u001b[0;34m\u001b[0m\u001b[0;34m\u001b[0m\u001b[0;34m\u001b[0m\u001b[0m\n\u001b[0;32m--> 295\u001b[0;31m         \u001b[0mX\u001b[0m \u001b[0;34m=\u001b[0m \u001b[0mcheck_array\u001b[0m\u001b[0;34m(\u001b[0m\u001b[0mX\u001b[0m\u001b[0;34m,\u001b[0m \u001b[0maccept_sparse\u001b[0m\u001b[0;34m=\u001b[0m\u001b[0;34m\"csc\"\u001b[0m\u001b[0;34m,\u001b[0m \u001b[0mdtype\u001b[0m\u001b[0;34m=\u001b[0m\u001b[0mDTYPE\u001b[0m\u001b[0;34m)\u001b[0m\u001b[0;34m\u001b[0m\u001b[0;34m\u001b[0m\u001b[0m\n\u001b[0m\u001b[1;32m    296\u001b[0m         \u001b[0my\u001b[0m \u001b[0;34m=\u001b[0m \u001b[0mcheck_array\u001b[0m\u001b[0;34m(\u001b[0m\u001b[0my\u001b[0m\u001b[0;34m,\u001b[0m \u001b[0maccept_sparse\u001b[0m\u001b[0;34m=\u001b[0m\u001b[0;34m'csc'\u001b[0m\u001b[0;34m,\u001b[0m \u001b[0mensure_2d\u001b[0m\u001b[0;34m=\u001b[0m\u001b[0;32mFalse\u001b[0m\u001b[0;34m,\u001b[0m \u001b[0mdtype\u001b[0m\u001b[0;34m=\u001b[0m\u001b[0;32mNone\u001b[0m\u001b[0;34m)\u001b[0m\u001b[0;34m\u001b[0m\u001b[0;34m\u001b[0m\u001b[0m\n\u001b[1;32m    297\u001b[0m         \u001b[0;32mif\u001b[0m \u001b[0msample_weight\u001b[0m \u001b[0;32mis\u001b[0m \u001b[0;32mnot\u001b[0m \u001b[0;32mNone\u001b[0m\u001b[0;34m:\u001b[0m\u001b[0;34m\u001b[0m\u001b[0;34m\u001b[0m\u001b[0m\n",
      "\u001b[0;32m~/anaconda3/lib/python3.7/site-packages/sklearn/utils/validation.py\u001b[0m in \u001b[0;36mcheck_array\u001b[0;34m(array, accept_sparse, accept_large_sparse, dtype, order, copy, force_all_finite, ensure_2d, allow_nd, ensure_min_samples, ensure_min_features, warn_on_dtype, estimator)\u001b[0m\n\u001b[1;32m    576\u001b[0m         \u001b[0;32mif\u001b[0m \u001b[0mforce_all_finite\u001b[0m\u001b[0;34m:\u001b[0m\u001b[0;34m\u001b[0m\u001b[0;34m\u001b[0m\u001b[0m\n\u001b[1;32m    577\u001b[0m             _assert_all_finite(array,\n\u001b[0;32m--> 578\u001b[0;31m                                allow_nan=force_all_finite == 'allow-nan')\n\u001b[0m\u001b[1;32m    579\u001b[0m \u001b[0;34m\u001b[0m\u001b[0m\n\u001b[1;32m    580\u001b[0m     \u001b[0;32mif\u001b[0m \u001b[0mensure_min_samples\u001b[0m \u001b[0;34m>\u001b[0m \u001b[0;36m0\u001b[0m\u001b[0;34m:\u001b[0m\u001b[0;34m\u001b[0m\u001b[0;34m\u001b[0m\u001b[0m\n",
      "\u001b[0;32m~/anaconda3/lib/python3.7/site-packages/sklearn/utils/validation.py\u001b[0m in \u001b[0;36m_assert_all_finite\u001b[0;34m(X, allow_nan, msg_dtype)\u001b[0m\n\u001b[1;32m     58\u001b[0m                     \u001b[0mmsg_err\u001b[0m\u001b[0;34m.\u001b[0m\u001b[0mformat\u001b[0m\u001b[0;34m\u001b[0m\u001b[0;34m\u001b[0m\u001b[0m\n\u001b[1;32m     59\u001b[0m                     (type_err,\n\u001b[0;32m---> 60\u001b[0;31m                      msg_dtype if msg_dtype is not None else X.dtype)\n\u001b[0m\u001b[1;32m     61\u001b[0m             )\n\u001b[1;32m     62\u001b[0m     \u001b[0;31m# for object dtype data, we only check for NaNs (GH-13254)\u001b[0m\u001b[0;34m\u001b[0m\u001b[0;34m\u001b[0m\u001b[0;34m\u001b[0m\u001b[0m\n",
      "\u001b[0;31mValueError\u001b[0m: Input contains NaN, infinity or a value too large for dtype('float32')."
     ]
    }
   ],
   "source": [
    "model = RandomForestRegressor(n_estimators=10).fit(df_train.iloc[:, 1:], df_train.iloc[:, 0])\n",
    "model.feature_importances_"
   ]
  }
 ],
 "metadata": {
  "kernelspec": {
   "display_name": "Python 3",
   "language": "python",
   "name": "python3"
  },
  "language_info": {
   "codemirror_mode": {
    "name": "ipython",
    "version": 3
   },
   "file_extension": ".py",
   "mimetype": "text/x-python",
   "name": "python",
   "nbconvert_exporter": "python",
   "pygments_lexer": "ipython3",
   "version": "3.7.3"
  }
 },
 "nbformat": 4,
 "nbformat_minor": 4
}
