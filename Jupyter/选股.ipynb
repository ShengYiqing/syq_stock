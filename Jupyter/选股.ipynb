{
 "cells": [
  {
   "cell_type": "code",
   "execution_count": 460,
   "metadata": {},
   "outputs": [],
   "source": [
    "import tushare as ts\n",
    "import time\n",
    "import datetime\n",
    "import sys\n",
    "import os\n",
    "import numpy as np\n",
    "import pandas as pd\n",
    "from pandas import Series, DataFrame\n",
    "import matplotlib.pyplot as plt\n",
    "import statsmodels.api as sm\n",
    "import statsmodels.formula.api as smf\n",
    "import statsmodels\n",
    "from sklearn.ensemble import RandomForestRegressor\n",
    "sys.path.append('../Codes')\n",
    "import DataProcessor as DP\n",
    "from DataProcessor import centralize\n",
    "from DataProcessor import standardize\n",
    "from DataProcessor import standardize_industry\n",
    "from DataProcessor import get_industrys\n",
    "from DataProcessor import get_all_industrys\n",
    "from DataProcessor import get_stock_daily_data\n",
    "from DataProcessor import get_stock_money_data\n",
    "from DataProcessor import get_index_data\n",
    "import tools"
   ]
  },
  {
   "cell_type": "code",
   "execution_count": 2,
   "metadata": {},
   "outputs": [],
   "source": [
    "pro = ts.pro_api()"
   ]
  },
  {
   "cell_type": "code",
   "execution_count": 3,
   "metadata": {},
   "outputs": [],
   "source": [
    "#获取行业分类\n",
    "industrys = DP.get_all_industrys()"
   ]
  },
  {
   "cell_type": "code",
   "execution_count": 428,
   "metadata": {},
   "outputs": [],
   "source": [
    "industry = ['801750.SI', '801740.SI', '801080.SI', '801120.SI', '801150.SI']\n",
    "industry = ['801750.SI']\n",
    "industry = ['801750.SI', '801740.SI', '801080.SI',]\n",
    "#取行业内股票数据\n",
    "data = DP.get_stock_daily_data(industrys=industrys,\n",
    "                               industry=industry,\n",
    "                         fields=['open',\n",
    "                                 'high',\n",
    "                                 'low',\n",
    "                                 'close',\n",
    "                                 'vol',\n",
    "                                 'amount',\n",
    "                                 'adj_factor',\n",
    "                                 'turnover_rate_f',\n",
    "                                 'pe_ttm',\n",
    "                                 'pb',\n",
    "                                 'ps_ttm',\n",
    "                                 'dv_ttm',\n",
    "                                 'total_mv'])\n",
    "\n",
    "money_dic = DP.get_stock_money_data(industrys, industry)\n",
    "for k in money_dic.keys():\n",
    "    money_dic[k] = DataFrame(money_dic[k], index=data['open'].index, columns=data['open'].columns)"
   ]
  },
  {
   "cell_type": "code",
   "execution_count": 429,
   "metadata": {},
   "outputs": [],
   "source": [
    "st = DP.get_st_data(industrys, industry, data['open'])"
   ]
  },
  {
   "cell_type": "code",
   "execution_count": 430,
   "metadata": {},
   "outputs": [],
   "source": [
    "#因子构造\n",
    "OPEN = np.log(data['open'] * data['adj_factor'])\n",
    "HIGH = np.log(data['high'] * data['adj_factor'])\n",
    "LOW = np.log(data['low'] * data['adj_factor'])\n",
    "CLOSE = np.log(data['close'] * data['adj_factor'])\n",
    "\n",
    "vol = data['vol']\n",
    "amount = data['amount']\n",
    "\n",
    "vwap = (amount / vol * data['adj_factor']).fillna(method='ffill')\n",
    "vwap = np.log(vwap)\n",
    "\n",
    "trf = data['turnover_rate_f']\n",
    "ltrf = np.log(trf)\n",
    "\n",
    "mv = data['total_mv']\n",
    "lmv = np.log(mv)\n",
    "\n",
    "pe = data['pe_ttm']\n",
    "pb = data['pb']\n",
    "ps = data['ps_ttm']\n",
    "pe = 1 / pe\n",
    "ps = 1 / ps\n",
    "pb = 1 / pb\n",
    "\n",
    "dv = data['dv_ttm']\n",
    "\n",
    "rzrqye = (money_dic['rzye'].fillna(method='ffill') - money_dic['rqye'].fillna(method='ffill')).fillna(method='ffill').loc[OPEN.index, :].fillna(method='ffill')\n",
    "gt = money_dic['gt_vol'].fillna(method='ffill').loc[OPEN.index, :].fillna(method='ffill')\n",
    "d_rzrq = rzrqye / rzrqye.shift()\n",
    "d_rzrq.fillna(1, inplace=True)\n",
    "d_gt = gt / gt.shift()\n",
    "d_gt.fillna(1, inplace=True)"
   ]
  },
  {
   "cell_type": "code",
   "execution_count": 431,
   "metadata": {},
   "outputs": [],
   "source": [
    "ror = CLOSE - CLOSE.shift()\n",
    "r_rinei = CLOSE - OPEN\n",
    "r_geye = OPEN - CLOSE.shift()\n",
    "rh = HIGH - OPEN\n",
    "rl = LOW - OPEN\n",
    "hl = rh - rl\n",
    "vr = ltrf - ltrf.shift()"
   ]
  },
  {
   "cell_type": "code",
   "execution_count": 432,
   "metadata": {},
   "outputs": [],
   "source": [
    "n = 2\n",
    "#y = standardize_industry(OPEN.shift(-n)-OPEN, industrys, industry)\n",
    "y = standardize_industry(CLOSE.shift(-n+1)-OPEN, industrys, industry)\n",
    "y[(r_geye > 0.09).fillna(False) & (r_rinei.abs() < 1e-6).fillna(False)] = 0"
   ]
  },
  {
   "cell_type": "code",
   "execution_count": 672,
   "metadata": {},
   "outputs": [],
   "source": [
    "x1 = standardize_industry(r_rinei, industrys, industry)\n",
    "x2 = standardize_industry(r_rinei.rolling(1).sum().shift(1), industrys, industry)\n",
    "x3 = standardize_industry(r_rinei.rolling(3).sum().shift(2), industrys, industry)\n",
    "x4 = standardize_industry(r_rinei.rolling(5).sum().shift(5), industrys, industry)\n",
    "x5 = standardize_industry(r_rinei.rolling(10).sum().shift(10), industrys, industry)\n",
    "\n",
    "z1 = standardize_industry(r_geye, industrys, industry)\n",
    "z2 = standardize_industry(r_geye.rolling(1).sum().shift(1), industrys, industry)\n",
    "z3 = standardize_industry(r_geye.rolling(3).sum().shift(2), industrys, industry)\n",
    "z4 = standardize_industry(r_geye.rolling(5).sum().shift(5), industrys, industry)\n",
    "z5 = standardize_industry(r_geye.rolling(10).sum().shift(10), industrys, industry)\n",
    "\n",
    "m1 = standardize_industry(CLOSE/CLOSE.rolling(3).mean(), industrys, industry)\n",
    "m2 = standardize_industry(CLOSE/CLOSE.rolling(5).mean(), industrys, industry)\n",
    "m3 = standardize_industry(CLOSE/CLOSE.rolling(10).mean(), industrys, industry)\n",
    "m4 = standardize_industry(CLOSE/CLOSE.rolling(20).mean(), industrys, industry)\n",
    "m5 = standardize_industry(CLOSE/CLOSE.rolling(40).mean(), industrys, industry)\n",
    "\n",
    "u1 = x1 - z1\n",
    "u2 = x2 - z2\n",
    "u3 = x3 - z3\n",
    "u4 = x4 - z4\n",
    "u5 = x5 - z5\n",
    "\n",
    "r1 = x1 + z1\n",
    "r2 = x2 + z2\n",
    "r3 = x3 + z3\n",
    "r4 = x4 + z4\n",
    "r5 = x5 + z5\n",
    "\n",
    "h1 = standardize_industry(rh, industrys, industry)\n",
    "h2 = standardize_industry(rh.rolling(1).sum().shift(1), industrys, industry)\n",
    "h3 = standardize_industry(rh.rolling(3).sum().shift(2), industrys, industry)\n",
    "h4 = standardize_industry(rh.rolling(5).sum().shift(5), industrys, industry)\n",
    "h5 = standardize_industry(rh.rolling(10).sum().shift(10), industrys, industry)\n",
    "\n",
    "l1 = standardize_industry(rl, industrys, industry)\n",
    "l2 = standardize_industry(rl.rolling(1).sum().shift(1), industrys, industry)\n",
    "l3 = standardize_industry(rl.rolling(3).sum().shift(2), industrys, industry)\n",
    "l4 = standardize_industry(rl.rolling(5).sum().shift(5), industrys, industry)\n",
    "l5 = standardize_industry(rl.rolling(10).sum().shift(10), industrys, industry)\n",
    "\n",
    "hl1 = h1 - l1\n",
    "hl2 = h2 - l2\n",
    "hl3 = h3 - l3\n",
    "hl4 = h4 - l4\n",
    "hl5 = h5 - l5\n",
    "\n",
    "ch1 = x1 - h1\n",
    "ch2 = x2 - h2\n",
    "ch3 = x3 - h3\n",
    "ch4 = x4 - h4\n",
    "ch5 = x5 - h5\n",
    "\n",
    "cl1 = x1 - l1\n",
    "cl2 = x2 - l2\n",
    "cl3 = x3 - l3\n",
    "cl4 = x4 - l4\n",
    "cl5 = x5 - l5\n",
    "\n",
    "\n",
    "vr1 = standardize_industry(vr, industrys, industry)\n",
    "vr2 = standardize_industry(vr.rolling(1).sum().shift(1), industrys, industry)\n",
    "vr3 = standardize_industry(vr.rolling(3).sum().shift(2), industrys, industry)\n",
    "vr4 = standardize_industry(vr.rolling(5).sum().shift(5), industrys, industry)\n",
    "vr5 = standardize_industry(vr.rolling(10).sum().shift(10), industrys, industry)\n",
    "\n",
    "\n",
    "rzrq1 = standardize_industry(d_rzrq, industrys, industry).fillna(0)\n",
    "rzrq2 = standardize_industry(d_rzrq.rolling(1).sum().shift(1), industrys, industry).fillna(0)\n",
    "rzrq3 = standardize_industry(d_rzrq.rolling(3).sum().shift(2), industrys, industry).fillna(0)\n",
    "rzrq4 = standardize_industry(d_rzrq.rolling(5).sum().shift(5), industrys, industry).fillna(0)\n",
    "rzrq5 = standardize_industry(d_rzrq.rolling(10).sum().shift(10), industrys, industry).fillna(0)\n",
    "\n",
    "gt1 = standardize_industry(d_gt, industrys, industry).fillna(0)\n",
    "gt2 = standardize_industry(d_gt.rolling(1).sum().shift(1), industrys, industry).fillna(0)\n",
    "gt3 = standardize_industry(d_gt.rolling(3).sum().shift(2), industrys, industry).fillna(0)\n",
    "gt4 = standardize_industry(d_gt.rolling(5).sum().shift(5), industrys, industry).fillna(0)\n",
    "gt5 = standardize_industry(d_gt.rolling(10).sum().shift(10), industrys, industry).fillna(0)\n",
    "\n",
    "pe = standardize_industry(pe, industrys, industry)\n",
    "pb = standardize_industry(pb, industrys, industry)\n",
    "ps = standardize_industry(ps, industrys, industry)\n",
    "\n",
    "lmv = standardize_industry(lmv, industrys, industry)\n",
    "\n",
    "ao1 = standardize_industry(vwap-OPEN, industrys, industry)\n",
    "ao2 = standardize_industry((vwap-OPEN).shift(), industrys, industry)\n",
    "ca1 = standardize_industry(CLOSE-vwap, industrys, industry)\n",
    "ca2 = standardize_industry((CLOSE-vwap).shift(), industrys, industry)\n",
    "\n",
    "dv = standardize_industry(dv, industrys, industry)\n",
    "\n",
    "rv1 = standardize_industry(r1 * ltrf, industrys, industry)"
   ]
  },
  {
   "cell_type": "code",
   "execution_count": 723,
   "metadata": {},
   "outputs": [],
   "source": [
    "r_market = ror.mean(1)\n",
    "#回归天数\n",
    "n_reg = 10\n",
    "tmp = [{k:ror.loc[:, industrys[i]].mean(1) for k in industrys[i]} for i in industry]\n",
    "tmp1 = {}\n",
    "for d in tmp:\n",
    "    tmp1.update(d)\n",
    "\n",
    "def reg(y, x, n):\n",
    "    lxx = (x**2).rolling(n).sum() - n * (x.rolling(n).mean()**2)\n",
    "    lxy = (x * y).rolling(n).sum() - n * x.rolling(n).mean() * y.rolling(n).mean()\n",
    "    b = lxy / lxx\n",
    "    a = y.rolling(n).mean() - b * x.rolling(n).mean()\n",
    "    \n",
    "    return a, b\n",
    "\n",
    "a, b = reg(DataFrame(ror), DataFrame(tmp1), n_reg)\n",
    "e = DataFrame(ror) - a - b * DataFrame(tmp1)\n",
    "a = standardize_industry(a, industrys, industry)\n",
    "b = standardize_industry(b, industrys, industry)\n",
    "std_e = standardize_industry(e.rolling(n_reg).std(), industrys, industry)\n",
    "#b = (n_reg * ror.rolling(n_reg).mean().mul(r_market.rolling(n_reg).mean(), 0) - (ror.mul(r_market, 0)).rolling(n_reg).sum()) / (n_reg * ror.rolling(n_reg).mean()**2 - (ror**2).rolling(n_reg).sum())\n",
    "#a = (-b * ror.rolling(n_reg).mean()).add(r_market.rolling(n_reg).mean(), 0)"
   ]
  },
  {
   "cell_type": "code",
   "execution_count": 724,
   "metadata": {},
   "outputs": [],
   "source": [
    "n_zhichengzuli = 10\n",
    "HH = HIGH.rolling(n_zhichengzuli).max()\n",
    "LL = LOW.rolling(n_zhichengzuli).min()\n",
    "w = (CLOSE - LL) / (HH - LL)\n",
    "w = standardize_industry(w, industrys, industry)\n",
    "w.fillna(0, inplace=True)"
   ]
  },
  {
   "cell_type": "code",
   "execution_count": 809,
   "metadata": {},
   "outputs": [],
   "source": [
    "n_m = 10\n",
    "sk = ror.rolling(n_m).skew()\n",
    "ku = ror.rolling(n_m).kurt()\n",
    "sk = standardize_industry(sk, industrys, industry)\n",
    "ku = standardize_industry(ku, industrys, industry)"
   ]
  },
  {
   "cell_type": "code",
   "execution_count": 810,
   "metadata": {},
   "outputs": [],
   "source": [
    "factor = {\n",
    "    'x1':x1, 'x2':x2, 'x3':x3, 'x4':x4, 'x5':x5,\n",
    "    'z1':z1, 'z2':z2, 'z3':z3, 'z4':z4, 'z5':z5,\n",
    "    'u1':u1, 'u2':u2, 'u3':u3, 'u4':u4, 'u5':u5,#没啥用\n",
    "    'r1':r1, 'r2':r2, 'r3':r3, 'r4':r4, 'r5':r5,#多余\n",
    "    'h1':h1, 'h2':h2, 'h3':h3, 'h4':h4, 'h5':h5,#估计没ch好用\n",
    "    'l1':l1, 'l2':l2, 'l3':l3, 'l4':l4, 'l5':l5,#同下\n",
    "    'ch1':ch1, 'ch2':ch2, 'ch3':ch3, 'ch4':ch4, 'ch5':ch5,#试试看\n",
    "    'cl1':cl1, 'cl2':cl2, 'cl3':cl3, 'cl4':cl4, 'cl5':cl5,#试试看\n",
    "    'hl1':hl1, 'hl2':hl2, 'hl3':hl3, 'hl4':hl4, 'hl5':hl5,#逻辑不好\n",
    "    'ao1':ao1, 'ao2':ao2,\n",
    "    'ca1':ca1, 'ca2':ca2,\n",
    "    'm1':m1, 'm2':m2, 'm3':m3, 'm4':m4, 'm5':m5,\n",
    "    'vr1':vr1, 'vr2':vr2, 'vr3':vr3, 'vr4':vr4, 'vr5':vr5,\n",
    "    'rv1':rv1,\n",
    "    'rzrq1':rzrq1, 'rzrq2':rzrq2, 'rzrq3':rzrq3, 'rzrq4':rzrq4, 'rzrq5':rzrq5,\n",
    "    'gt1':gt1, 'gt2':gt2, 'gt3':gt3, 'gt4':gt4, 'gt5':gt5,\n",
    "    'pe':pe, 'pb':pb, 'ps':ps,\n",
    "    'dv':dv,\n",
    "    'lmv':lmv,\n",
    "    'a':a, 'b':b, 'std_e':std_e,\n",
    "    'w':w,\n",
    "    'sk':sk, 'ku':ku,\n",
    "}"
   ]
  },
  {
   "cell_type": "code",
   "execution_count": 811,
   "metadata": {},
   "outputs": [],
   "source": [
    "for k in factor.keys():\n",
    "    df = DataFrame(factor[k])\n",
    "    df[st] = 0\n",
    "    #df[st] = DataFrame({stock:df.mean(1) for stock in df.columns})\n",
    "    factor[k] = DataFrame(df)"
   ]
  },
  {
   "cell_type": "code",
   "execution_count": 812,
   "metadata": {},
   "outputs": [
    {
     "data": {
      "text/plain": [
       "<matplotlib.axes._subplots.AxesSubplot at 0x1c2949ff60>"
      ]
     },
     "execution_count": 812,
     "metadata": {},
     "output_type": "execute_result"
    },
    {
     "data": {
      "image/png": "[encoded data removed]",
      "text/plain": [
       "<Figure size 432x288 with 1 Axes>"
      ]
     },
     "metadata": {
      "needs_background": "light"
     },
     "output_type": "display_data"
    }
   ],
   "source": [
    "ic, ir = tools.icir(ku.shift().iloc[-500:,:], y.iloc[-500:,:], n=20, rank=True)\n",
    "ic.rolling(20).mean().plot()"
   ]
  },
  {
   "cell_type": "code",
   "execution_count": 813,
   "metadata": {},
   "outputs": [
    {
     "data": {
      "image/png": "[encoded data removed]",
      "text/plain": [
       "<Figure size 432x288 with 1 Axes>"
      ]
     },
     "execution_count": 813,
     "metadata": {},
     "output_type": "execute_result"
    },
    {
     "data": {
      "image/png": "[encoded data removed]",
      "text/plain": [
       "<Figure size 432x288 with 1 Axes>"
      ]
     },
     "metadata": {
      "needs_background": "light"
     },
     "output_type": "display_data"
    }
   ],
   "source": [
    "statsmodels.graphics.tsaplots.plot_acf(ic)"
   ]
  },
  {
   "cell_type": "code",
   "execution_count": 816,
   "metadata": {},
   "outputs": [
    {
     "data": {
      "image/png": "[encoded data removed]",
      "text/plain": [
       "<Figure size 432x288 with 1 Axes>"
      ]
     },
     "metadata": {
      "needs_background": "light"
     },
     "output_type": "display_data"
    }
   ],
   "source": [
    "tools.group_backtest((sk).shift().iloc[-500:,:], ((CLOSE.shift(-n+1)-OPEN) / n).iloc[-500:,:], n=5)"
   ]
  },
  {
   "cell_type": "code",
   "execution_count": 818,
   "metadata": {},
   "outputs": [],
   "source": [
    "begin_date = '2017-01-01'\n",
    "split_date = '2019-01-01'\n",
    "train_date = y.index[(begin_date < y.index) & (y.index < split_date)]\n",
    "test_date = y.index[y.index > split_date]"
   ]
  },
  {
   "cell_type": "code",
   "execution_count": 819,
   "metadata": {},
   "outputs": [],
   "source": [
    "df_y_train = DataFrame({'y':y.loc[train_date, :].values.flatten()})\n",
    "df_x_train = DataFrame({k:factor[k].loc[train_date, :].shift().values.flatten() for k in factor.keys()})\n",
    "df_y_test = DataFrame({'y':y.loc[test_date, :].values.flatten()})\n",
    "df_x_test = DataFrame({k:factor[k].loc[test_date, :].shift().values.flatten() for k in factor.keys()})\n",
    "df_train = pd.concat([df_y_train, df_x_train], axis=1)\n",
    "df_test = pd.concat([df_y_test, df_x_test], axis=1)"
   ]
  },
  {
   "cell_type": "code",
   "execution_count": 841,
   "metadata": {},
   "outputs": [
    {
     "data": {
      "text/plain": [
       "Intercept    -6.205689\n",
       "ca1         -18.605507\n",
       "a            -2.636969\n",
       "b            13.418027\n",
       "std_e        -3.617828\n",
       "z1           -5.099847\n",
       "m3           -4.620305\n",
       "w             7.030757\n",
       "rv1           5.361574\n",
       "pe            6.409557\n",
       "vr1           3.382220\n",
       "lmv          -4.174878\n",
       "gt1           3.177950\n",
       "sk            1.757502\n",
       "ku           -3.792833\n",
       "dtype: float64"
      ]
     },
     "execution_count": 841,
     "metadata": {},
     "output_type": "execute_result"
    }
   ],
   "source": [
    "model = smf.ols('y~ca1\\\n",
    "                  +a+b+std_e\\\n",
    "                  +z1\\\n",
    "                  +m3\\\n",
    "                  +w\\\n",
    "                  +rv1\\\n",
    "                  +pe\\\n",
    "                  +vr1\\\n",
    "                  +lmv\\\n",
    "                  +gt1\\\n",
    "                  +sk+ku\\\n",
    "                  ', data=df_train).fit()\n",
    "model.tvalues"
   ]
  },
  {
   "cell_type": "code",
   "execution_count": 842,
   "metadata": {},
   "outputs": [
    {
     "name": "stdout",
     "output_type": "stream",
     "text": [
      "002766.SZ    0.184241\n",
      "603660.SH    0.166670\n",
      "300600.SZ    0.140503\n",
      "002217.SZ    0.139002\n",
      "300730.SZ    0.138910\n",
      "300150.SZ    0.126246\n",
      "000662.SZ    0.122438\n",
      "002288.SZ    0.114605\n",
      "300550.SZ    0.110130\n",
      "300462.SZ    0.107676\n",
      "Name: 2018-12-28 00:00:00, dtype: float64\n"
     ]
    },
    {
     "data": {
      "image/png": "[encoded data removed]",
      "text/plain": [
       "<Figure size 432x288 with 1 Axes>"
      ]
     },
     "metadata": {
      "needs_background": "light"
     },
     "output_type": "display_data"
    }
   ],
   "source": [
    "#调仓周期\n",
    "y_hat = DataFrame(model.predict(df_train).values.reshape(len(train_date), len(y.columns)), index=train_date, columns=y.columns)\n",
    "q = 0.98\n",
    "position = (y_hat.gt(y_hat.quantile(q, 1), 0)) & (y_hat.lt(y_hat.quantile(1, 1), 0))\n",
    "\n",
    "ror_train = ror.loc[train_date, :]\n",
    "r_rinei_train = r_rinei.loc[train_date, :]\n",
    "r_geye_train = r_geye.loc[train_date, :]\n",
    "\n",
    "#ror_huice = (position * (CLOSE - OPEN).loc[train_date, :] + position.shift() * (OPEN - CLOSE.shift()).loc[train_date, :]).mul(len(y.columns) / position.sum(1), 0)\n",
    "ror_huice = (position * (CLOSE - OPEN).loc[train_date, :] + position.shift() * (CLOSE - CLOSE.shift()).loc[train_date, :]).mul(len(y.columns) / position.sum(1), 0) / n\n",
    "#ror_huice = (position * (CLOSE.shift(-n+1) - OPEN).loc[train_date, :]).mul(len(y.columns) / position.sum(1), 0) / n\n",
    "\n",
    "ror_huice.mean(1).cumsum().plot()\n",
    "\n",
    "benchmark = ror_train\n",
    "benchmark.mean(1).cumsum().plot()\n",
    "\n",
    "alpha = ror_huice.mean(1) - benchmark.mean(1)\n",
    "alpha.cumsum().plot()\n",
    "'''\n",
    "for i in industry:\n",
    "    stock = industrys[i]\n",
    "    ror_test.loc[:,stock].mean(1).cumsum().plot()\n",
    "plt.legend(['backtest', 'benchmark', 'alpha'] + [i for i in industry])\n",
    "'''\n",
    "plt.legend(['backtest', 'benchmark', 'alpha'])\n",
    "print(y_hat.iloc[-1,:].sort_values(ascending=False).dropna().iloc[:10])"
   ]
  },
  {
   "cell_type": "code",
   "execution_count": 843,
   "metadata": {},
   "outputs": [
    {
     "name": "stdout",
     "output_type": "stream",
     "text": [
      "300303.SZ    0.151697\n",
      "300657.SZ    0.139472\n",
      "600765.SH    0.114858\n",
      "002885.SZ    0.113924\n",
      "300227.SZ    0.102024\n",
      "000738.SZ    0.101079\n",
      "603678.SH    0.099629\n",
      "300625.SZ    0.097920\n",
      "300663.SZ    0.097564\n",
      "300462.SZ    0.094937\n",
      "Name: 2020-07-31 00:00:00, dtype: float64\n"
     ]
    },
    {
     "data": {
      "image/png": "[encoded data removed]",
      "text/plain": [
       "<Figure size 432x288 with 1 Axes>"
      ]
     },
     "metadata": {
      "needs_background": "light"
     },
     "output_type": "display_data"
    }
   ],
   "source": [
    "#调仓周期\n",
    "y_hat = DataFrame(model.predict(df_test).values.reshape(len(test_date), len(y.columns)), index=test_date, columns=y.columns)\n",
    "q1 = 0.98\n",
    "q2 = 1\n",
    "position = (y_hat.gt(y_hat.quantile(q1, 1), 0)) & (y_hat.lt(y_hat.quantile(q2, 1), 0))\n",
    "\n",
    "ror_test = ror.loc[test_date, :]\n",
    "r_rinei_test = r_rinei.loc[test_date, :]\n",
    "r_geye_test = r_geye.loc[test_date, :]\n",
    "\n",
    "#ror_huice = (position * (CLOSE - OPEN).loc[test_date, :]).mul(len(y.columns) / position.sum(1), 0)\n",
    "ror_huice = (position * (CLOSE - OPEN).loc[test_date, :] + position.shift() * (CLOSE - CLOSE.shift()).loc[test_date, :]).mul(len(y.columns) / position.sum(1), 0) / n\n",
    "#ror_huice = (position * (CLOSE.shift(-n+1) - OPEN).loc[test_date, :]).mul(len(y.columns) / position.sum(1), 0) / n\n",
    "\n",
    "\n",
    "ror_huice.mean(1).cumsum().plot()\n",
    "\n",
    "benchmark = ror_test\n",
    "benchmark.mean(1).cumsum().plot()\n",
    "\n",
    "alpha = ror_huice.mean(1) - benchmark.mean(1)\n",
    "alpha.cumsum().plot()\n",
    "'''\n",
    "for i in industry:\n",
    "    stock = industrys[i]\n",
    "    ror_test.loc[:,stock].mean(1).cumsum().plot()\n",
    "plt.legend(['backtest', 'benchmark', 'alpha'] + [i for i in industry])\n",
    "'''\n",
    "plt.legend(['backtest', 'benchmark', 'alpha'])\n",
    "print(y_hat.iloc[-1,:].sort_values(ascending=False).dropna().iloc[:10])"
   ]
  },
  {
   "cell_type": "code",
   "execution_count": 641,
   "metadata": {},
   "outputs": [
    {
     "data": {
      "text/plain": [
       "2020-07-13    0.035085\n",
       "2020-07-14   -0.019383\n",
       "2020-07-15   -0.048139\n",
       "2020-07-16   -0.050202\n",
       "2020-07-17   -0.007861\n",
       "2020-07-20    0.028997\n",
       "2020-07-21   -0.007809\n",
       "2020-07-22    0.022296\n",
       "2020-07-23    0.009515\n",
       "2020-07-24   -0.049276\n",
       "2020-07-27    0.002137\n",
       "2020-07-28    0.000069\n",
       "2020-07-29    0.036275\n",
       "2020-07-30   -0.028916\n",
       "2020-07-31    0.015701\n",
       "dtype: float64"
      ]
     },
     "execution_count": 641,
     "metadata": {},
     "output_type": "execute_result"
    }
   ],
   "source": [
    "ror_huice.mean(1).iloc[-15:]"
   ]
  },
  {
   "cell_type": "code",
   "execution_count": 414,
   "metadata": {},
   "outputs": [
    {
     "data": {
      "text/plain": [
       "2018-01-02    0\n",
       "2018-01-03    3\n",
       "2018-01-04    3\n",
       "2018-01-05    3\n",
       "2018-01-08    3\n",
       "             ..\n",
       "2020-07-27    3\n",
       "2020-07-28    3\n",
       "2020-07-29    3\n",
       "2020-07-30    3\n",
       "2020-07-31    3\n",
       "Length: 627, dtype: int64"
      ]
     },
     "execution_count": 414,
     "metadata": {},
     "output_type": "execute_result"
    }
   ],
   "source": [
    "position.sum(1)"
   ]
  },
  {
   "cell_type": "code",
   "execution_count": 35,
   "metadata": {},
   "outputs": [],
   "source": [
    "#((ror_huice).mean(1)-0.0007+1).cumprod().plot()"
   ]
  },
  {
   "cell_type": "code",
   "execution_count": 36,
   "metadata": {},
   "outputs": [
    {
     "data": {
      "text/plain": [
       "2.4887268226920445"
      ]
     },
     "execution_count": 36,
     "metadata": {},
     "output_type": "execute_result"
    }
   ],
   "source": [
    "ror_huice.mean(1).mean() / ror_huice.mean(1).std() * np.sqrt(len(ror_huice))"
   ]
  },
  {
   "cell_type": "code",
   "execution_count": 927,
   "metadata": {},
   "outputs": [],
   "source": [
    "#(benchmark.mean(1)+1).cumprod().plot()"
   ]
  },
  {
   "cell_type": "code",
   "execution_count": 1108,
   "metadata": {},
   "outputs": [
    {
     "name": "stdout",
     "output_type": "stream",
     "text": [
      "300227.SZ    0.142833\n",
      "002885.SZ    0.134738\n",
      "002417.SZ    0.134002\n",
      "300303.SZ    0.129450\n",
      "300625.SZ    0.125569\n",
      "300479.SZ    0.114250\n",
      "300462.SZ    0.097601\n",
      "603636.SH    0.087639\n",
      "300657.SZ    0.086552\n",
      "300556.SZ    0.081536\n",
      "Name: 2020-07-30 00:00:00, dtype: float64\n"
     ]
    }
   ],
   "source": [
    "df_y_test2 = DataFrame({'y':y.loc[test_date, :].values.flatten()})\n",
    "df_x_test2 = DataFrame({k:factor[k].loc[test_date, :].values.flatten() for k in factor.keys()})\n",
    "df_test2 = pd.concat([df_y_test2, df_x_test2], axis=1)\n",
    "y_hat2 = DataFrame(model.predict(df_test2).values.reshape(len(ror_test), len(ror_test.columns)), index=ror_test.index, columns=ror_test.columns)\n",
    "print(y_hat2.iloc[-1,:].sort_values(ascending=False).dropna().iloc[:10])"
   ]
  },
  {
   "cell_type": "code",
   "execution_count": 1109,
   "metadata": {},
   "outputs": [
    {
     "name": "stdout",
     "output_type": "stream",
     "text": [
      "300227.SZ    0.156490\n",
      "002664.SZ    0.106134\n",
      "603303.SH    0.089545\n",
      "300775.SZ    0.082711\n",
      "300650.SZ    0.077913\n",
      "600850.SH    0.077593\n",
      "002922.SZ    0.077363\n",
      "300605.SZ    0.074249\n",
      "300600.SZ    0.073699\n",
      "300032.SZ    0.072268\n",
      "Name: 2020-07-29 00:00:00, dtype: float64\n"
     ]
    }
   ],
   "source": [
    "print(y_hat2.iloc[-2,:].sort_values(ascending=False).dropna().iloc[:10])"
   ]
  },
  {
   "cell_type": "code",
   "execution_count": 930,
   "metadata": {},
   "outputs": [
    {
     "data": {
      "text/plain": [
       "<matplotlib.axes._subplots.AxesSubplot at 0x1c416a5048>"
      ]
     },
     "execution_count": 930,
     "metadata": {},
     "output_type": "execute_result"
    },
    {
     "data": {
      "image/png": "[encoded data removed]",
      "text/plain": [
       "<Figure size 432x288 with 1 Axes>"
      ]
     },
     "metadata": {
      "needs_background": "light"
     },
     "output_type": "display_data"
    }
   ],
   "source": [
    "Series([len(y_hat2.iloc[-i,:].sort_values(ascending=False).dropna().iloc[:10].index & y_hat2.iloc[-i-1,:].sort_values(ascending=False).dropna().iloc[:10].index)/10 for i in range(1,100)]).rolling(10).mean().plot()"
   ]
  },
  {
   "cell_type": "code",
   "execution_count": null,
   "metadata": {},
   "outputs": [],
   "source": []
  },
  {
   "cell_type": "code",
   "execution_count": null,
   "metadata": {},
   "outputs": [],
   "source": []
  },
  {
   "cell_type": "code",
   "execution_count": null,
   "metadata": {},
   "outputs": [],
   "source": []
  },
  {
   "cell_type": "code",
   "execution_count": 368,
   "metadata": {},
   "outputs": [
    {
     "ename": "ValueError",
     "evalue": "Input contains NaN, infinity or a value too large for dtype('float32').",
     "output_type": "error",
     "traceback": [
      "\u001b[0;31m---------------------------------------------------------------------------\u001b[0m",
      "\u001b[0;31mValueError\u001b[0m                                Traceback (most recent call last)",
      "\u001b[0;32m<ipython-input-368-1477b3a69603>\u001b[0m in \u001b[0;36m<module>\u001b[0;34m\u001b[0m\n\u001b[0;32m----> 1\u001b[0;31m \u001b[0mmodel\u001b[0m \u001b[0;34m=\u001b[0m \u001b[0mRandomForestRegressor\u001b[0m\u001b[0;34m(\u001b[0m\u001b[0mn_estimators\u001b[0m\u001b[0;34m=\u001b[0m\u001b[0;36m10\u001b[0m\u001b[0;34m)\u001b[0m\u001b[0;34m.\u001b[0m\u001b[0mfit\u001b[0m\u001b[0;34m(\u001b[0m\u001b[0mdf_train\u001b[0m\u001b[0;34m.\u001b[0m\u001b[0miloc\u001b[0m\u001b[0;34m[\u001b[0m\u001b[0;34m:\u001b[0m\u001b[0;34m,\u001b[0m \u001b[0;36m1\u001b[0m\u001b[0;34m:\u001b[0m\u001b[0;34m]\u001b[0m\u001b[0;34m,\u001b[0m \u001b[0mdf_train\u001b[0m\u001b[0;34m.\u001b[0m\u001b[0miloc\u001b[0m\u001b[0;34m[\u001b[0m\u001b[0;34m:\u001b[0m\u001b[0;34m,\u001b[0m \u001b[0;36m0\u001b[0m\u001b[0;34m]\u001b[0m\u001b[0;34m)\u001b[0m\u001b[0;34m\u001b[0m\u001b[0;34m\u001b[0m\u001b[0m\n\u001b[0m\u001b[1;32m      2\u001b[0m \u001b[0mmodel\u001b[0m\u001b[0;34m.\u001b[0m\u001b[0mfeature_importances_\u001b[0m\u001b[0;34m\u001b[0m\u001b[0;34m\u001b[0m\u001b[0m\n",
      "\u001b[0;32m~/anaconda3/lib/python3.7/site-packages/sklearn/ensemble/_forest.py\u001b[0m in \u001b[0;36mfit\u001b[0;34m(self, X, y, sample_weight)\u001b[0m\n\u001b[1;32m    293\u001b[0m         \"\"\"\n\u001b[1;32m    294\u001b[0m         \u001b[0;31m# Validate or convert input data\u001b[0m\u001b[0;34m\u001b[0m\u001b[0;34m\u001b[0m\u001b[0;34m\u001b[0m\u001b[0m\n\u001b[0;32m--> 295\u001b[0;31m         \u001b[0mX\u001b[0m \u001b[0;34m=\u001b[0m \u001b[0mcheck_array\u001b[0m\u001b[0;34m(\u001b[0m\u001b[0mX\u001b[0m\u001b[0;34m,\u001b[0m \u001b[0maccept_sparse\u001b[0m\u001b[0;34m=\u001b[0m\u001b[0;34m\"csc\"\u001b[0m\u001b[0;34m,\u001b[0m \u001b[0mdtype\u001b[0m\u001b[0;34m=\u001b[0m\u001b[0mDTYPE\u001b[0m\u001b[0;34m)\u001b[0m\u001b[0;34m\u001b[0m\u001b[0;34m\u001b[0m\u001b[0m\n\u001b[0m\u001b[1;32m    296\u001b[0m         \u001b[0my\u001b[0m \u001b[0;34m=\u001b[0m \u001b[0mcheck_array\u001b[0m\u001b[0;34m(\u001b[0m\u001b[0my\u001b[0m\u001b[0;34m,\u001b[0m \u001b[0maccept_sparse\u001b[0m\u001b[0;34m=\u001b[0m\u001b[0;34m'csc'\u001b[0m\u001b[0;34m,\u001b[0m \u001b[0mensure_2d\u001b[0m\u001b[0;34m=\u001b[0m\u001b[0;32mFalse\u001b[0m\u001b[0;34m,\u001b[0m \u001b[0mdtype\u001b[0m\u001b[0;34m=\u001b[0m\u001b[0;32mNone\u001b[0m\u001b[0;34m)\u001b[0m\u001b[0;34m\u001b[0m\u001b[0;34m\u001b[0m\u001b[0m\n\u001b[1;32m    297\u001b[0m         \u001b[0;32mif\u001b[0m \u001b[0msample_weight\u001b[0m \u001b[0;32mis\u001b[0m \u001b[0;32mnot\u001b[0m \u001b[0;32mNone\u001b[0m\u001b[0;34m:\u001b[0m\u001b[0;34m\u001b[0m\u001b[0;34m\u001b[0m\u001b[0m\n",
      "\u001b[0;32m~/anaconda3/lib/python3.7/site-packages/sklearn/utils/validation.py\u001b[0m in \u001b[0;36mcheck_array\u001b[0;34m(array, accept_sparse, accept_large_sparse, dtype, order, copy, force_all_finite, ensure_2d, allow_nd, ensure_min_samples, ensure_min_features, warn_on_dtype, estimator)\u001b[0m\n\u001b[1;32m    576\u001b[0m         \u001b[0;32mif\u001b[0m \u001b[0mforce_all_finite\u001b[0m\u001b[0;34m:\u001b[0m\u001b[0;34m\u001b[0m\u001b[0;34m\u001b[0m\u001b[0m\n\u001b[1;32m    577\u001b[0m             _assert_all_finite(array,\n\u001b[0;32m--> 578\u001b[0;31m                                allow_nan=force_all_finite == 'allow-nan')\n\u001b[0m\u001b[1;32m    579\u001b[0m \u001b[0;34m\u001b[0m\u001b[0m\n\u001b[1;32m    580\u001b[0m     \u001b[0;32mif\u001b[0m \u001b[0mensure_min_samples\u001b[0m \u001b[0;34m>\u001b[0m \u001b[0;36m0\u001b[0m\u001b[0;34m:\u001b[0m\u001b[0;34m\u001b[0m\u001b[0;34m\u001b[0m\u001b[0m\n",
      "\u001b[0;32m~/anaconda3/lib/python3.7/site-packages/sklearn/utils/validation.py\u001b[0m in \u001b[0;36m_assert_all_finite\u001b[0;34m(X, allow_nan, msg_dtype)\u001b[0m\n\u001b[1;32m     58\u001b[0m                     \u001b[0mmsg_err\u001b[0m\u001b[0;34m.\u001b[0m\u001b[0mformat\u001b[0m\u001b[0;34m\u001b[0m\u001b[0;34m\u001b[0m\u001b[0m\n\u001b[1;32m     59\u001b[0m                     (type_err,\n\u001b[0;32m---> 60\u001b[0;31m                      msg_dtype if msg_dtype is not None else X.dtype)\n\u001b[0m\u001b[1;32m     61\u001b[0m             )\n\u001b[1;32m     62\u001b[0m     \u001b[0;31m# for object dtype data, we only check for NaNs (GH-13254)\u001b[0m\u001b[0;34m\u001b[0m\u001b[0;34m\u001b[0m\u001b[0;34m\u001b[0m\u001b[0m\n",
      "\u001b[0;31mValueError\u001b[0m: Input contains NaN, infinity or a value too large for dtype('float32')."
     ]
    }
   ],
   "source": [
    "model = RandomForestRegressor(n_estimators=10).fit(df_train.iloc[:, 1:], df_train.iloc[:, 0])\n",
    "model.feature_importances_"
   ]
  },
  {
   "cell_type": "code",
   "execution_count": 386,
   "metadata": {},
   "outputs": [
    {
     "data": {
      "text/plain": [
       "'1'"
      ]
     },
     "execution_count": 386,
     "metadata": {},
     "output_type": "execute_result"
    }
   ],
   "source": [
    "Series([1,2,3]).rename('1').name"
   ]
  },
  {
   "cell_type": "code",
   "execution_count": 387,
   "metadata": {},
   "outputs": [],
   "source": [
    "factor = DataFrame(np.arange(12).reshape(3,4))"
   ]
  },
  {
   "cell_type": "code",
   "execution_count": 404,
   "metadata": {},
   "outputs": [
    {
     "data": {
      "text/html": [
       "<div>\n",
       "<style scoped>\n",
       "    .dataframe tbody tr th:only-of-type {\n",
       "        vertical-align: middle;\n",
       "    }\n",
       "\n",
       "    .dataframe tbody tr th {\n",
       "        vertical-align: top;\n",
       "    }\n",
       "\n",
       "    .dataframe thead th {\n",
       "        text-align: right;\n",
       "    }\n",
       "</style>\n",
       "<table border=\"1\" class=\"dataframe\">\n",
       "  <thead>\n",
       "    <tr style=\"text-align: right;\">\n",
       "      <th></th>\n",
       "      <th>0</th>\n",
       "      <th>1</th>\n",
       "      <th>2</th>\n",
       "      <th>3</th>\n",
       "    </tr>\n",
       "  </thead>\n",
       "  <tbody>\n",
       "    <tr>\n",
       "      <th>0</th>\n",
       "      <td>4.0</td>\n",
       "      <td>1.0</td>\n",
       "      <td>2.0</td>\n",
       "      <td>3.0</td>\n",
       "    </tr>\n",
       "    <tr>\n",
       "      <th>1</th>\n",
       "      <td>1.0</td>\n",
       "      <td>2.0</td>\n",
       "      <td>3.0</td>\n",
       "      <td>4.0</td>\n",
       "    </tr>\n",
       "    <tr>\n",
       "      <th>2</th>\n",
       "      <td>1.0</td>\n",
       "      <td>2.0</td>\n",
       "      <td>3.0</td>\n",
       "      <td>4.0</td>\n",
       "    </tr>\n",
       "  </tbody>\n",
       "</table>\n",
       "</div>"
      ],
      "text/plain": [
       "     0    1    2    3\n",
       "0  4.0  1.0  2.0  3.0\n",
       "1  1.0  2.0  3.0  4.0\n",
       "2  1.0  2.0  3.0  4.0"
      ]
     },
     "execution_count": 404,
     "metadata": {},
     "output_type": "execute_result"
    }
   ],
   "source": [
    "factor.apply(lambda a:Series(rankdata(a)), axis=1)"
   ]
  },
  {
   "cell_type": "code",
   "execution_count": 390,
   "metadata": {},
   "outputs": [],
   "source": [
    "factor.iloc[0,0] = 100"
   ]
  },
  {
   "cell_type": "code",
   "execution_count": 393,
   "metadata": {},
   "outputs": [
    {
     "data": {
      "text/html": [
       "<div>\n",
       "<style scoped>\n",
       "    .dataframe tbody tr th:only-of-type {\n",
       "        vertical-align: middle;\n",
       "    }\n",
       "\n",
       "    .dataframe tbody tr th {\n",
       "        vertical-align: top;\n",
       "    }\n",
       "\n",
       "    .dataframe thead th {\n",
       "        text-align: right;\n",
       "    }\n",
       "</style>\n",
       "<table border=\"1\" class=\"dataframe\">\n",
       "  <thead>\n",
       "    <tr style=\"text-align: right;\">\n",
       "      <th></th>\n",
       "      <th>0</th>\n",
       "      <th>1</th>\n",
       "      <th>2</th>\n",
       "      <th>3</th>\n",
       "    </tr>\n",
       "  </thead>\n",
       "  <tbody>\n",
       "    <tr>\n",
       "      <th>0</th>\n",
       "      <td>100</td>\n",
       "      <td>1</td>\n",
       "      <td>2</td>\n",
       "      <td>3</td>\n",
       "    </tr>\n",
       "    <tr>\n",
       "      <th>1</th>\n",
       "      <td>4</td>\n",
       "      <td>5</td>\n",
       "      <td>6</td>\n",
       "      <td>7</td>\n",
       "    </tr>\n",
       "    <tr>\n",
       "      <th>2</th>\n",
       "      <td>8</td>\n",
       "      <td>9</td>\n",
       "      <td>10</td>\n",
       "      <td>11</td>\n",
       "    </tr>\n",
       "  </tbody>\n",
       "</table>\n",
       "</div>"
      ],
      "text/plain": [
       "     0  1   2   3\n",
       "0  100  1   2   3\n",
       "1    4  5   6   7\n",
       "2    8  9  10  11"
      ]
     },
     "execution_count": 393,
     "metadata": {},
     "output_type": "execute_result"
    }
   ],
   "source": [
    "factor"
   ]
  },
  {
   "cell_type": "code",
   "execution_count": 398,
   "metadata": {},
   "outputs": [],
   "source": [
    "a=[200, 1,2,3]"
   ]
  },
  {
   "cell_type": "code",
   "execution_count": 399,
   "metadata": {},
   "outputs": [
    {
     "data": {
      "text/plain": [
       "[1, 2, 3, 0]"
      ]
     },
     "execution_count": 399,
     "metadata": {},
     "output_type": "execute_result"
    }
   ],
   "source": [
    "sorted(range(len(a)), key = a.__getitem__)"
   ]
  },
  {
   "cell_type": "code",
   "execution_count": 400,
   "metadata": {},
   "outputs": [],
   "source": [
    "from scipy.stats import rankdata"
   ]
  },
  {
   "cell_type": "code",
   "execution_count": 401,
   "metadata": {},
   "outputs": [
    {
     "data": {
      "text/plain": [
       "array([4., 1., 2., 3.])"
      ]
     },
     "execution_count": 401,
     "metadata": {},
     "output_type": "execute_result"
    }
   ],
   "source": [
    "rankdata(a)"
   ]
  },
  {
   "cell_type": "code",
   "execution_count": 403,
   "metadata": {},
   "outputs": [
    {
     "data": {
      "text/plain": [
       "array([12.,  1.,  2.,  3.,  4.,  5.,  6.,  7.,  8.,  9., 10., 11.])"
      ]
     },
     "execution_count": 403,
     "metadata": {},
     "output_type": "execute_result"
    }
   ],
   "source": [
    "rankdata(factor)"
   ]
  },
  {
   "cell_type": "code",
   "execution_count": 409,
   "metadata": {},
   "outputs": [],
   "source": [
    "s = Series([1,2]).rename(11)"
   ]
  },
  {
   "cell_type": "code",
   "execution_count": 410,
   "metadata": {},
   "outputs": [
    {
     "data": {
      "text/html": [
       "<div>\n",
       "<style scoped>\n",
       "    .dataframe tbody tr th:only-of-type {\n",
       "        vertical-align: middle;\n",
       "    }\n",
       "\n",
       "    .dataframe tbody tr th {\n",
       "        vertical-align: top;\n",
       "    }\n",
       "\n",
       "    .dataframe thead th {\n",
       "        text-align: right;\n",
       "    }\n",
       "</style>\n",
       "<table border=\"1\" class=\"dataframe\">\n",
       "  <thead>\n",
       "    <tr style=\"text-align: right;\">\n",
       "      <th></th>\n",
       "      <th>11</th>\n",
       "    </tr>\n",
       "  </thead>\n",
       "  <tbody>\n",
       "    <tr>\n",
       "      <th>0</th>\n",
       "      <td>1</td>\n",
       "    </tr>\n",
       "    <tr>\n",
       "      <th>1</th>\n",
       "      <td>2</td>\n",
       "    </tr>\n",
       "  </tbody>\n",
       "</table>\n",
       "</div>"
      ],
      "text/plain": [
       "   11\n",
       "0   1\n",
       "1   2"
      ]
     },
     "execution_count": 410,
     "metadata": {},
     "output_type": "execute_result"
    }
   ],
   "source": [
    "DataFrame(s)"
   ]
  },
  {
   "cell_type": "code",
   "execution_count": 622,
   "metadata": {},
   "outputs": [],
   "source": [
    "df = DataFrame(np.arange(12).reshape(3,4))"
   ]
  },
  {
   "cell_type": "code",
   "execution_count": 623,
   "metadata": {},
   "outputs": [],
   "source": [
    "df2 = df + 1"
   ]
  },
  {
   "cell_type": "code",
   "execution_count": 627,
   "metadata": {},
   "outputs": [
    {
     "data": {
      "text/html": [
       "<div>\n",
       "<style scoped>\n",
       "    .dataframe tbody tr th:only-of-type {\n",
       "        vertical-align: middle;\n",
       "    }\n",
       "\n",
       "    .dataframe tbody tr th {\n",
       "        vertical-align: top;\n",
       "    }\n",
       "\n",
       "    .dataframe thead th {\n",
       "        text-align: right;\n",
       "    }\n",
       "</style>\n",
       "<table border=\"1\" class=\"dataframe\">\n",
       "  <thead>\n",
       "    <tr style=\"text-align: right;\">\n",
       "      <th></th>\n",
       "      <th>0</th>\n",
       "      <th>1</th>\n",
       "      <th>2</th>\n",
       "      <th>3</th>\n",
       "    </tr>\n",
       "  </thead>\n",
       "  <tbody>\n",
       "    <tr>\n",
       "      <th>0</th>\n",
       "      <td>inf</td>\n",
       "      <td>2.000000</td>\n",
       "      <td>1.500000</td>\n",
       "      <td>1.333333</td>\n",
       "    </tr>\n",
       "    <tr>\n",
       "      <th>1</th>\n",
       "      <td>1.250</td>\n",
       "      <td>1.200000</td>\n",
       "      <td>1.166667</td>\n",
       "      <td>1.142857</td>\n",
       "    </tr>\n",
       "    <tr>\n",
       "      <th>2</th>\n",
       "      <td>1.125</td>\n",
       "      <td>1.111111</td>\n",
       "      <td>1.100000</td>\n",
       "      <td>1.090909</td>\n",
       "    </tr>\n",
       "  </tbody>\n",
       "</table>\n",
       "</div>"
      ],
      "text/plain": [
       "       0         1         2         3\n",
       "0    inf  2.000000  1.500000  1.333333\n",
       "1  1.250  1.200000  1.166667  1.142857\n",
       "2  1.125  1.111111  1.100000  1.090909"
      ]
     },
     "execution_count": 627,
     "metadata": {},
     "output_type": "execute_result"
    }
   ],
   "source": [
    "df2.divide(df)"
   ]
  },
  {
   "cell_type": "code",
   "execution_count": 671,
   "metadata": {},
   "outputs": [],
   "source": [
    "df = pro.us_basic()"
   ]
  },
  {
   "cell_type": "code",
   "execution_count": 672,
   "metadata": {},
   "outputs": [
    {
     "data": {
      "text/html": [
       "<div>\n",
       "<style scoped>\n",
       "    .dataframe tbody tr th:only-of-type {\n",
       "        vertical-align: middle;\n",
       "    }\n",
       "\n",
       "    .dataframe tbody tr th {\n",
       "        vertical-align: top;\n",
       "    }\n",
       "\n",
       "    .dataframe thead th {\n",
       "        text-align: right;\n",
       "    }\n",
       "</style>\n",
       "<table border=\"1\" class=\"dataframe\">\n",
       "  <thead>\n",
       "    <tr style=\"text-align: right;\">\n",
       "      <th></th>\n",
       "      <th>ts_code</th>\n",
       "      <th>name</th>\n",
       "      <th>classify</th>\n",
       "      <th>list_date</th>\n",
       "      <th>delist_date</th>\n",
       "    </tr>\n",
       "  </thead>\n",
       "  <tbody>\n",
       "    <tr>\n",
       "      <th>0</th>\n",
       "      <td>ONCY</td>\n",
       "      <td>None</td>\n",
       "      <td>EQT</td>\n",
       "      <td>20011005</td>\n",
       "      <td>None</td>\n",
       "    </tr>\n",
       "    <tr>\n",
       "      <th>1</th>\n",
       "      <td>SCCO</td>\n",
       "      <td>None</td>\n",
       "      <td>EQT</td>\n",
       "      <td>19950124</td>\n",
       "      <td>None</td>\n",
       "    </tr>\n",
       "    <tr>\n",
       "      <th>2</th>\n",
       "      <td>KAOCF</td>\n",
       "      <td>None</td>\n",
       "      <td>EQT</td>\n",
       "      <td>19740319</td>\n",
       "      <td>None</td>\n",
       "    </tr>\n",
       "    <tr>\n",
       "      <th>3</th>\n",
       "      <td>BOIRF</td>\n",
       "      <td>None</td>\n",
       "      <td>EQT</td>\n",
       "      <td>19880628</td>\n",
       "      <td>None</td>\n",
       "    </tr>\n",
       "    <tr>\n",
       "      <th>4</th>\n",
       "      <td>SDXOF</td>\n",
       "      <td>None</td>\n",
       "      <td>EQT</td>\n",
       "      <td>19830304</td>\n",
       "      <td>None</td>\n",
       "    </tr>\n",
       "    <tr>\n",
       "      <th>...</th>\n",
       "      <td>...</td>\n",
       "      <td>...</td>\n",
       "      <td>...</td>\n",
       "      <td>...</td>\n",
       "      <td>...</td>\n",
       "    </tr>\n",
       "    <tr>\n",
       "      <th>5995</th>\n",
       "      <td>ESESQ</td>\n",
       "      <td>None</td>\n",
       "      <td>EQT</td>\n",
       "      <td>20031014</td>\n",
       "      <td>None</td>\n",
       "    </tr>\n",
       "    <tr>\n",
       "      <th>5996</th>\n",
       "      <td>TRKX</td>\n",
       "      <td>None</td>\n",
       "      <td>EQT</td>\n",
       "      <td>20000718</td>\n",
       "      <td>None</td>\n",
       "    </tr>\n",
       "    <tr>\n",
       "      <th>5997</th>\n",
       "      <td>ELAMF</td>\n",
       "      <td>None</td>\n",
       "      <td>EQT</td>\n",
       "      <td>19960320</td>\n",
       "      <td>None</td>\n",
       "    </tr>\n",
       "    <tr>\n",
       "      <th>5998</th>\n",
       "      <td>CZNB</td>\n",
       "      <td>None</td>\n",
       "      <td>EQT</td>\n",
       "      <td>20120724</td>\n",
       "      <td>None</td>\n",
       "    </tr>\n",
       "    <tr>\n",
       "      <th>5999</th>\n",
       "      <td>CRRSQ</td>\n",
       "      <td>None</td>\n",
       "      <td>EQT</td>\n",
       "      <td>20010619</td>\n",
       "      <td>None</td>\n",
       "    </tr>\n",
       "  </tbody>\n",
       "</table>\n",
       "<p>6000 rows × 5 columns</p>\n",
       "</div>"
      ],
      "text/plain": [
       "     ts_code  name classify list_date delist_date\n",
       "0       ONCY  None      EQT  20011005        None\n",
       "1       SCCO  None      EQT  19950124        None\n",
       "2      KAOCF  None      EQT  19740319        None\n",
       "3      BOIRF  None      EQT  19880628        None\n",
       "4      SDXOF  None      EQT  19830304        None\n",
       "...      ...   ...      ...       ...         ...\n",
       "5995   ESESQ  None      EQT  20031014        None\n",
       "5996    TRKX  None      EQT  20000718        None\n",
       "5997   ELAMF  None      EQT  19960320        None\n",
       "5998    CZNB  None      EQT  20120724        None\n",
       "5999   CRRSQ  None      EQT  20010619        None\n",
       "\n",
       "[6000 rows x 5 columns]"
      ]
     },
     "execution_count": 672,
     "metadata": {},
     "output_type": "execute_result"
    }
   ],
   "source": [
    "df"
   ]
  },
  {
   "cell_type": "code",
   "execution_count": 680,
   "metadata": {},
   "outputs": [
    {
     "ename": "KeyboardInterrupt",
     "evalue": "",
     "output_type": "error",
     "traceback": [
      "\u001b[0;31m---------------------------------------------------------------------------\u001b[0m",
      "\u001b[0;31mKeyboardInterrupt\u001b[0m                         Traceback (most recent call last)",
      "\u001b[0;32m<ipython-input-680-33d339da3b9b>\u001b[0m in \u001b[0;36m<module>\u001b[0;34m\u001b[0m\n\u001b[1;32m      3\u001b[0m \u001b[0;32mfor\u001b[0m \u001b[0mstock\u001b[0m \u001b[0;32min\u001b[0m \u001b[0mdf\u001b[0m\u001b[0;34m.\u001b[0m\u001b[0mts_code\u001b[0m\u001b[0;34m:\u001b[0m\u001b[0;34m\u001b[0m\u001b[0;34m\u001b[0m\u001b[0m\n\u001b[1;32m      4\u001b[0m     \u001b[0mtmp\u001b[0m \u001b[0;34m=\u001b[0m \u001b[0mpro\u001b[0m\u001b[0;34m.\u001b[0m\u001b[0mus_daily\u001b[0m\u001b[0;34m(\u001b[0m\u001b[0mts_code\u001b[0m\u001b[0;34m=\u001b[0m\u001b[0mstock\u001b[0m\u001b[0;34m,\u001b[0m \u001b[0mstart_date\u001b[0m\u001b[0;34m=\u001b[0m\u001b[0;34m'20100101'\u001b[0m\u001b[0;34m,\u001b[0m \u001b[0mend_date\u001b[0m\u001b[0;34m=\u001b[0m\u001b[0;34m'20200101'\u001b[0m\u001b[0;34m)\u001b[0m\u001b[0;34m.\u001b[0m\u001b[0mset_index\u001b[0m\u001b[0;34m(\u001b[0m\u001b[0;34m'trade_date'\u001b[0m\u001b[0;34m)\u001b[0m\u001b[0;34m\u001b[0m\u001b[0;34m\u001b[0m\u001b[0m\n\u001b[0;32m----> 5\u001b[0;31m     \u001b[0mtime\u001b[0m\u001b[0;34m.\u001b[0m\u001b[0msleep\u001b[0m\u001b[0;34m(\u001b[0m\u001b[0;36m30\u001b[0m\u001b[0;34m)\u001b[0m\u001b[0;34m\u001b[0m\u001b[0;34m\u001b[0m\u001b[0m\n\u001b[0m\u001b[1;32m      6\u001b[0m     \u001b[0mO\u001b[0m\u001b[0;34m.\u001b[0m\u001b[0mloc\u001b[0m\u001b[0;34m[\u001b[0m\u001b[0;34m:\u001b[0m\u001b[0;34m,\u001b[0m\u001b[0mstock\u001b[0m\u001b[0;34m]\u001b[0m \u001b[0;34m=\u001b[0m \u001b[0mtmp\u001b[0m\u001b[0;34m.\u001b[0m\u001b[0mopen\u001b[0m\u001b[0;34m\u001b[0m\u001b[0;34m\u001b[0m\u001b[0m\n\u001b[1;32m      7\u001b[0m     \u001b[0mC\u001b[0m\u001b[0;34m.\u001b[0m\u001b[0mloc\u001b[0m\u001b[0;34m[\u001b[0m\u001b[0;34m:\u001b[0m\u001b[0;34m,\u001b[0m\u001b[0mstock\u001b[0m\u001b[0;34m]\u001b[0m \u001b[0;34m=\u001b[0m \u001b[0mtmp\u001b[0m\u001b[0;34m.\u001b[0m\u001b[0mclose\u001b[0m\u001b[0;34m\u001b[0m\u001b[0;34m\u001b[0m\u001b[0m\n",
      "\u001b[0;31mKeyboardInterrupt\u001b[0m: "
     ]
    }
   ],
   "source": [
    "O = DataFrame()\n",
    "C = DataFrame()\n",
    "for stock in df.ts_code:\n",
    "    tmp = pro.us_daily(ts_code=stock, start_date='20100101', end_date='20200101').set_index('trade_date')\n",
    "    time.sleep(30)\n",
    "    O.loc[:,stock] = tmp.open\n",
    "    C.loc[:,stock] = tmp.close"
   ]
  },
  {
   "cell_type": "code",
   "execution_count": 689,
   "metadata": {},
   "outputs": [
    {
     "data": {
      "text/html": [
       "<div>\n",
       "<style scoped>\n",
       "    .dataframe tbody tr th:only-of-type {\n",
       "        vertical-align: middle;\n",
       "    }\n",
       "\n",
       "    .dataframe tbody tr th {\n",
       "        vertical-align: top;\n",
       "    }\n",
       "\n",
       "    .dataframe thead th {\n",
       "        text-align: right;\n",
       "    }\n",
       "</style>\n",
       "<table border=\"1\" class=\"dataframe\">\n",
       "  <thead>\n",
       "    <tr style=\"text-align: right;\">\n",
       "      <th></th>\n",
       "      <th>ONCY</th>\n",
       "      <th>SCCO</th>\n",
       "      <th>KAOCF</th>\n",
       "      <th>BOIRF</th>\n",
       "      <th>SDXOF</th>\n",
       "      <th>ODMUF</th>\n",
       "      <th>CHJHF</th>\n",
       "      <th>DBOXF</th>\n",
       "      <th>IMNPQ</th>\n",
       "      <th>CYUFF</th>\n",
       "      <th>...</th>\n",
       "      <th>ABCE</th>\n",
       "      <th>BWEN</th>\n",
       "      <th>PYT</th>\n",
       "      <th>ICBT</th>\n",
       "      <th>HOSZY</th>\n",
       "      <th>ICE</th>\n",
       "      <th>AQSP</th>\n",
       "      <th>YHDT</th>\n",
       "      <th>OSUR</th>\n",
       "      <th>PSBQ</th>\n",
       "    </tr>\n",
       "    <tr>\n",
       "      <th>trade_date</th>\n",
       "      <th></th>\n",
       "      <th></th>\n",
       "      <th></th>\n",
       "      <th></th>\n",
       "      <th></th>\n",
       "      <th></th>\n",
       "      <th></th>\n",
       "      <th></th>\n",
       "      <th></th>\n",
       "      <th></th>\n",
       "      <th></th>\n",
       "      <th></th>\n",
       "      <th></th>\n",
       "      <th></th>\n",
       "      <th></th>\n",
       "      <th></th>\n",
       "      <th></th>\n",
       "      <th></th>\n",
       "      <th></th>\n",
       "      <th></th>\n",
       "      <th></th>\n",
       "    </tr>\n",
       "  </thead>\n",
       "  <tbody>\n",
       "    <tr>\n",
       "      <th>20191231</th>\n",
       "      <td>4.76</td>\n",
       "      <td>42.48</td>\n",
       "      <td>NaN</td>\n",
       "      <td>NaN</td>\n",
       "      <td>NaN</td>\n",
       "      <td>NaN</td>\n",
       "      <td>0.55</td>\n",
       "      <td>0.08</td>\n",
       "      <td>0.00</td>\n",
       "      <td>NaN</td>\n",
       "      <td>...</td>\n",
       "      <td>0.00</td>\n",
       "      <td>1.66</td>\n",
       "      <td>NaN</td>\n",
       "      <td>NaN</td>\n",
       "      <td>NaN</td>\n",
       "      <td>92.55</td>\n",
       "      <td>2.50</td>\n",
       "      <td>NaN</td>\n",
       "      <td>8.03</td>\n",
       "      <td>27.50</td>\n",
       "    </tr>\n",
       "    <tr>\n",
       "      <th>20191230</th>\n",
       "      <td>3.87</td>\n",
       "      <td>42.49</td>\n",
       "      <td>NaN</td>\n",
       "      <td>NaN</td>\n",
       "      <td>NaN</td>\n",
       "      <td>NaN</td>\n",
       "      <td>0.40</td>\n",
       "      <td>0.08</td>\n",
       "      <td>0.00</td>\n",
       "      <td>NaN</td>\n",
       "      <td>...</td>\n",
       "      <td>0.00</td>\n",
       "      <td>1.65</td>\n",
       "      <td>NaN</td>\n",
       "      <td>NaN</td>\n",
       "      <td>NaN</td>\n",
       "      <td>92.44</td>\n",
       "      <td>2.77</td>\n",
       "      <td>NaN</td>\n",
       "      <td>7.81</td>\n",
       "      <td>27.50</td>\n",
       "    </tr>\n",
       "    <tr>\n",
       "      <th>20191227</th>\n",
       "      <td>2.84</td>\n",
       "      <td>42.57</td>\n",
       "      <td>NaN</td>\n",
       "      <td>NaN</td>\n",
       "      <td>NaN</td>\n",
       "      <td>NaN</td>\n",
       "      <td>0.40</td>\n",
       "      <td>0.08</td>\n",
       "      <td>0.00</td>\n",
       "      <td>NaN</td>\n",
       "      <td>...</td>\n",
       "      <td>0.00</td>\n",
       "      <td>1.65</td>\n",
       "      <td>23.13</td>\n",
       "      <td>NaN</td>\n",
       "      <td>NaN</td>\n",
       "      <td>93.00</td>\n",
       "      <td>2.70</td>\n",
       "      <td>NaN</td>\n",
       "      <td>7.92</td>\n",
       "      <td>27.50</td>\n",
       "    </tr>\n",
       "    <tr>\n",
       "      <th>20191226</th>\n",
       "      <td>2.82</td>\n",
       "      <td>43.19</td>\n",
       "      <td>NaN</td>\n",
       "      <td>NaN</td>\n",
       "      <td>NaN</td>\n",
       "      <td>NaN</td>\n",
       "      <td>0.40</td>\n",
       "      <td>0.09</td>\n",
       "      <td>0.00</td>\n",
       "      <td>NaN</td>\n",
       "      <td>...</td>\n",
       "      <td>0.00</td>\n",
       "      <td>1.69</td>\n",
       "      <td>22.33</td>\n",
       "      <td>NaN</td>\n",
       "      <td>NaN</td>\n",
       "      <td>92.87</td>\n",
       "      <td>2.70</td>\n",
       "      <td>NaN</td>\n",
       "      <td>8.01</td>\n",
       "      <td>27.50</td>\n",
       "    </tr>\n",
       "    <tr>\n",
       "      <th>20191224</th>\n",
       "      <td>1.83</td>\n",
       "      <td>42.59</td>\n",
       "      <td>NaN</td>\n",
       "      <td>NaN</td>\n",
       "      <td>NaN</td>\n",
       "      <td>NaN</td>\n",
       "      <td>0.40</td>\n",
       "      <td>0.09</td>\n",
       "      <td>0.00</td>\n",
       "      <td>NaN</td>\n",
       "      <td>...</td>\n",
       "      <td>0.00</td>\n",
       "      <td>1.70</td>\n",
       "      <td>22.99</td>\n",
       "      <td>NaN</td>\n",
       "      <td>NaN</td>\n",
       "      <td>92.19</td>\n",
       "      <td>2.51</td>\n",
       "      <td>NaN</td>\n",
       "      <td>8.29</td>\n",
       "      <td>27.40</td>\n",
       "    </tr>\n",
       "    <tr>\n",
       "      <th>...</th>\n",
       "      <td>...</td>\n",
       "      <td>...</td>\n",
       "      <td>...</td>\n",
       "      <td>...</td>\n",
       "      <td>...</td>\n",
       "      <td>...</td>\n",
       "      <td>...</td>\n",
       "      <td>...</td>\n",
       "      <td>...</td>\n",
       "      <td>...</td>\n",
       "      <td>...</td>\n",
       "      <td>...</td>\n",
       "      <td>...</td>\n",
       "      <td>...</td>\n",
       "      <td>...</td>\n",
       "      <td>...</td>\n",
       "      <td>...</td>\n",
       "      <td>...</td>\n",
       "      <td>...</td>\n",
       "      <td>...</td>\n",
       "      <td>...</td>\n",
       "    </tr>\n",
       "    <tr>\n",
       "      <th>20100108</th>\n",
       "      <td>2.94</td>\n",
       "      <td>36.26</td>\n",
       "      <td>24.74</td>\n",
       "      <td>45.9</td>\n",
       "      <td>58.48</td>\n",
       "      <td>1.64</td>\n",
       "      <td>0.47</td>\n",
       "      <td>0.34</td>\n",
       "      <td>0.64</td>\n",
       "      <td>2.85</td>\n",
       "      <td>...</td>\n",
       "      <td>0.02</td>\n",
       "      <td>7.34</td>\n",
       "      <td>18.74</td>\n",
       "      <td>0.0</td>\n",
       "      <td>NaN</td>\n",
       "      <td>108.48</td>\n",
       "      <td>3.25</td>\n",
       "      <td>0.2</td>\n",
       "      <td>4.95</td>\n",
       "      <td>16.50</td>\n",
       "    </tr>\n",
       "    <tr>\n",
       "      <th>20100107</th>\n",
       "      <td>2.87</td>\n",
       "      <td>35.56</td>\n",
       "      <td>24.74</td>\n",
       "      <td>45.9</td>\n",
       "      <td>58.15</td>\n",
       "      <td>1.64</td>\n",
       "      <td>0.47</td>\n",
       "      <td>0.34</td>\n",
       "      <td>0.64</td>\n",
       "      <td>2.85</td>\n",
       "      <td>...</td>\n",
       "      <td>0.02</td>\n",
       "      <td>7.43</td>\n",
       "      <td>18.73</td>\n",
       "      <td>0.0</td>\n",
       "      <td>NaN</td>\n",
       "      <td>108.14</td>\n",
       "      <td>3.25</td>\n",
       "      <td>0.2</td>\n",
       "      <td>4.88</td>\n",
       "      <td>16.50</td>\n",
       "    </tr>\n",
       "    <tr>\n",
       "      <th>20100106</th>\n",
       "      <td>2.92</td>\n",
       "      <td>35.90</td>\n",
       "      <td>24.74</td>\n",
       "      <td>45.9</td>\n",
       "      <td>60.23</td>\n",
       "      <td>1.64</td>\n",
       "      <td>0.47</td>\n",
       "      <td>0.34</td>\n",
       "      <td>0.63</td>\n",
       "      <td>2.85</td>\n",
       "      <td>...</td>\n",
       "      <td>0.02</td>\n",
       "      <td>7.05</td>\n",
       "      <td>18.45</td>\n",
       "      <td>0.0</td>\n",
       "      <td>NaN</td>\n",
       "      <td>105.27</td>\n",
       "      <td>3.25</td>\n",
       "      <td>0.2</td>\n",
       "      <td>4.94</td>\n",
       "      <td>15.05</td>\n",
       "    </tr>\n",
       "    <tr>\n",
       "      <th>20100105</th>\n",
       "      <td>2.91</td>\n",
       "      <td>34.77</td>\n",
       "      <td>24.74</td>\n",
       "      <td>45.9</td>\n",
       "      <td>58.00</td>\n",
       "      <td>1.64</td>\n",
       "      <td>0.42</td>\n",
       "      <td>0.33</td>\n",
       "      <td>0.63</td>\n",
       "      <td>2.85</td>\n",
       "      <td>...</td>\n",
       "      <td>0.02</td>\n",
       "      <td>7.81</td>\n",
       "      <td>18.12</td>\n",
       "      <td>0.0</td>\n",
       "      <td>NaN</td>\n",
       "      <td>108.62</td>\n",
       "      <td>3.25</td>\n",
       "      <td>0.2</td>\n",
       "      <td>5.10</td>\n",
       "      <td>16.25</td>\n",
       "    </tr>\n",
       "    <tr>\n",
       "      <th>20100104</th>\n",
       "      <td>2.73</td>\n",
       "      <td>34.43</td>\n",
       "      <td>24.74</td>\n",
       "      <td>45.9</td>\n",
       "      <td>57.96</td>\n",
       "      <td>1.64</td>\n",
       "      <td>0.42</td>\n",
       "      <td>0.33</td>\n",
       "      <td>0.62</td>\n",
       "      <td>2.85</td>\n",
       "      <td>...</td>\n",
       "      <td>0.02</td>\n",
       "      <td>8.12</td>\n",
       "      <td>18.00</td>\n",
       "      <td>0.0</td>\n",
       "      <td>NaN</td>\n",
       "      <td>112.87</td>\n",
       "      <td>3.25</td>\n",
       "      <td>0.2</td>\n",
       "      <td>5.29</td>\n",
       "      <td>16.25</td>\n",
       "    </tr>\n",
       "  </tbody>\n",
       "</table>\n",
       "<p>2516 rows × 77 columns</p>\n",
       "</div>"
      ],
      "text/plain": [
       "            ONCY   SCCO  KAOCF  BOIRF  SDXOF  ODMUF  CHJHF  DBOXF  IMNPQ  \\\n",
       "trade_date                                                                 \n",
       "20191231    4.76  42.48    NaN    NaN    NaN    NaN   0.55   0.08   0.00   \n",
       "20191230    3.87  42.49    NaN    NaN    NaN    NaN   0.40   0.08   0.00   \n",
       "20191227    2.84  42.57    NaN    NaN    NaN    NaN   0.40   0.08   0.00   \n",
       "20191226    2.82  43.19    NaN    NaN    NaN    NaN   0.40   0.09   0.00   \n",
       "20191224    1.83  42.59    NaN    NaN    NaN    NaN   0.40   0.09   0.00   \n",
       "...          ...    ...    ...    ...    ...    ...    ...    ...    ...   \n",
       "20100108    2.94  36.26  24.74   45.9  58.48   1.64   0.47   0.34   0.64   \n",
       "20100107    2.87  35.56  24.74   45.9  58.15   1.64   0.47   0.34   0.64   \n",
       "20100106    2.92  35.90  24.74   45.9  60.23   1.64   0.47   0.34   0.63   \n",
       "20100105    2.91  34.77  24.74   45.9  58.00   1.64   0.42   0.33   0.63   \n",
       "20100104    2.73  34.43  24.74   45.9  57.96   1.64   0.42   0.33   0.62   \n",
       "\n",
       "            CYUFF  ...  ABCE  BWEN    PYT  ICBT  HOSZY     ICE  AQSP  YHDT  \\\n",
       "trade_date         ...                                                       \n",
       "20191231      NaN  ...  0.00  1.66    NaN   NaN    NaN   92.55  2.50   NaN   \n",
       "20191230      NaN  ...  0.00  1.65    NaN   NaN    NaN   92.44  2.77   NaN   \n",
       "20191227      NaN  ...  0.00  1.65  23.13   NaN    NaN   93.00  2.70   NaN   \n",
       "20191226      NaN  ...  0.00  1.69  22.33   NaN    NaN   92.87  2.70   NaN   \n",
       "20191224      NaN  ...  0.00  1.70  22.99   NaN    NaN   92.19  2.51   NaN   \n",
       "...           ...  ...   ...   ...    ...   ...    ...     ...   ...   ...   \n",
       "20100108     2.85  ...  0.02  7.34  18.74   0.0    NaN  108.48  3.25   0.2   \n",
       "20100107     2.85  ...  0.02  7.43  18.73   0.0    NaN  108.14  3.25   0.2   \n",
       "20100106     2.85  ...  0.02  7.05  18.45   0.0    NaN  105.27  3.25   0.2   \n",
       "20100105     2.85  ...  0.02  7.81  18.12   0.0    NaN  108.62  3.25   0.2   \n",
       "20100104     2.85  ...  0.02  8.12  18.00   0.0    NaN  112.87  3.25   0.2   \n",
       "\n",
       "            OSUR   PSBQ  \n",
       "trade_date               \n",
       "20191231    8.03  27.50  \n",
       "20191230    7.81  27.50  \n",
       "20191227    7.92  27.50  \n",
       "20191226    8.01  27.50  \n",
       "20191224    8.29  27.40  \n",
       "...          ...    ...  \n",
       "20100108    4.95  16.50  \n",
       "20100107    4.88  16.50  \n",
       "20100106    4.94  15.05  \n",
       "20100105    5.10  16.25  \n",
       "20100104    5.29  16.25  \n",
       "\n",
       "[2516 rows x 77 columns]"
      ]
     },
     "execution_count": 689,
     "metadata": {},
     "output_type": "execute_result"
    }
   ],
   "source": [
    "C.fillna(method='ffill')"
   ]
  },
  {
   "cell_type": "code",
   "execution_count": 695,
   "metadata": {},
   "outputs": [],
   "source": [
    "O=O.sort_index()\n",
    "C=C.sort_index()"
   ]
  },
  {
   "cell_type": "code",
   "execution_count": 717,
   "metadata": {},
   "outputs": [],
   "source": [
    "rgeye=(O/C.shift()-1).fillna(0)\n",
    "rgeye[rgeye==np.inf]=0\n",
    "rgeye[rgeye>5]=0\n",
    "rgeye[rgeye<-5]=0"
   ]
  },
  {
   "cell_type": "code",
   "execution_count": 718,
   "metadata": {},
   "outputs": [
    {
     "data": {
      "text/plain": [
       "<matplotlib.axes._subplots.AxesSubplot at 0x1c2c39db00>"
      ]
     },
     "execution_count": 718,
     "metadata": {},
     "output_type": "execute_result"
    },
    {
     "data": {
      "image/png": "[encoded data removed]",
      "text/plain": [
       "<Figure size 432x288 with 1 Axes>"
      ]
     },
     "metadata": {
      "needs_background": "light"
     },
     "output_type": "display_data"
    }
   ],
   "source": [
    "rgeye.mean(1).cumsum().plot()"
   ]
  },
  {
   "cell_type": "code",
   "execution_count": 704,
   "metadata": {},
   "outputs": [
    {
     "data": {
      "text/plain": [
       "ONCY     9.189189\n",
       "SCCO     0.050389\n",
       "KAOCF    0.048622\n",
       "BOIRF    0.025781\n",
       "SDXOF    0.113889\n",
       "           ...   \n",
       "ICE      0.058221\n",
       "AQSP     1.750000\n",
       "YHDT     1.352941\n",
       "OSUR     0.214545\n",
       "PSBQ     0.166667\n",
       "Length: 77, dtype: float64"
      ]
     },
     "execution_count": 704,
     "metadata": {},
     "output_type": "execute_result"
    }
   ],
   "source": [
    "rgeye.max()"
   ]
  },
  {
   "cell_type": "code",
   "execution_count": 688,
   "metadata": {},
   "outputs": [
    {
     "data": {
      "text/html": [
       "<div>\n",
       "<style scoped>\n",
       "    .dataframe tbody tr th:only-of-type {\n",
       "        vertical-align: middle;\n",
       "    }\n",
       "\n",
       "    .dataframe tbody tr th {\n",
       "        vertical-align: top;\n",
       "    }\n",
       "\n",
       "    .dataframe thead th {\n",
       "        text-align: right;\n",
       "    }\n",
       "</style>\n",
       "<table border=\"1\" class=\"dataframe\">\n",
       "  <thead>\n",
       "    <tr style=\"text-align: right;\">\n",
       "      <th></th>\n",
       "      <th>ONCY</th>\n",
       "      <th>SCCO</th>\n",
       "      <th>KAOCF</th>\n",
       "      <th>BOIRF</th>\n",
       "      <th>SDXOF</th>\n",
       "      <th>ODMUF</th>\n",
       "      <th>CHJHF</th>\n",
       "      <th>DBOXF</th>\n",
       "      <th>IMNPQ</th>\n",
       "      <th>CYUFF</th>\n",
       "      <th>...</th>\n",
       "      <th>ABCE</th>\n",
       "      <th>BWEN</th>\n",
       "      <th>PYT</th>\n",
       "      <th>ICBT</th>\n",
       "      <th>HOSZY</th>\n",
       "      <th>ICE</th>\n",
       "      <th>AQSP</th>\n",
       "      <th>YHDT</th>\n",
       "      <th>OSUR</th>\n",
       "      <th>PSBQ</th>\n",
       "    </tr>\n",
       "    <tr>\n",
       "      <th>trade_date</th>\n",
       "      <th></th>\n",
       "      <th></th>\n",
       "      <th></th>\n",
       "      <th></th>\n",
       "      <th></th>\n",
       "      <th></th>\n",
       "      <th></th>\n",
       "      <th></th>\n",
       "      <th></th>\n",
       "      <th></th>\n",
       "      <th></th>\n",
       "      <th></th>\n",
       "      <th></th>\n",
       "      <th></th>\n",
       "      <th></th>\n",
       "      <th></th>\n",
       "      <th></th>\n",
       "      <th></th>\n",
       "      <th></th>\n",
       "      <th></th>\n",
       "      <th></th>\n",
       "    </tr>\n",
       "  </thead>\n",
       "  <tbody>\n",
       "    <tr>\n",
       "      <th>20191231</th>\n",
       "      <td>0.000000</td>\n",
       "      <td>0.000000</td>\n",
       "      <td>0.0</td>\n",
       "      <td>0.0</td>\n",
       "      <td>0.000000</td>\n",
       "      <td>0.0</td>\n",
       "      <td>0.000000</td>\n",
       "      <td>0.000</td>\n",
       "      <td>0.000000</td>\n",
       "      <td>0.0</td>\n",
       "      <td>...</td>\n",
       "      <td>0.0</td>\n",
       "      <td>0.000000</td>\n",
       "      <td>0.000000</td>\n",
       "      <td>0.0</td>\n",
       "      <td>0</td>\n",
       "      <td>0.000000</td>\n",
       "      <td>0.000000</td>\n",
       "      <td>0.0</td>\n",
       "      <td>0.000000</td>\n",
       "      <td>0.000000</td>\n",
       "    </tr>\n",
       "    <tr>\n",
       "      <th>20191230</th>\n",
       "      <td>-0.399160</td>\n",
       "      <td>0.002119</td>\n",
       "      <td>0.0</td>\n",
       "      <td>0.0</td>\n",
       "      <td>0.000000</td>\n",
       "      <td>0.0</td>\n",
       "      <td>-0.272727</td>\n",
       "      <td>-0.125</td>\n",
       "      <td>0.000000</td>\n",
       "      <td>0.0</td>\n",
       "      <td>...</td>\n",
       "      <td>0.0</td>\n",
       "      <td>0.000000</td>\n",
       "      <td>0.000000</td>\n",
       "      <td>0.0</td>\n",
       "      <td>0</td>\n",
       "      <td>0.005727</td>\n",
       "      <td>0.108000</td>\n",
       "      <td>0.0</td>\n",
       "      <td>-0.012453</td>\n",
       "      <td>-0.014182</td>\n",
       "    </tr>\n",
       "    <tr>\n",
       "      <th>20191227</th>\n",
       "      <td>-0.320413</td>\n",
       "      <td>0.020946</td>\n",
       "      <td>0.0</td>\n",
       "      <td>0.0</td>\n",
       "      <td>0.000000</td>\n",
       "      <td>0.0</td>\n",
       "      <td>0.000000</td>\n",
       "      <td>0.000</td>\n",
       "      <td>0.000000</td>\n",
       "      <td>0.0</td>\n",
       "      <td>...</td>\n",
       "      <td>0.0</td>\n",
       "      <td>0.024242</td>\n",
       "      <td>0.000000</td>\n",
       "      <td>0.0</td>\n",
       "      <td>0</td>\n",
       "      <td>0.006166</td>\n",
       "      <td>-0.025271</td>\n",
       "      <td>0.0</td>\n",
       "      <td>0.029449</td>\n",
       "      <td>-0.007273</td>\n",
       "    </tr>\n",
       "    <tr>\n",
       "      <th>20191226</th>\n",
       "      <td>-0.348592</td>\n",
       "      <td>0.004933</td>\n",
       "      <td>0.0</td>\n",
       "      <td>0.0</td>\n",
       "      <td>0.000000</td>\n",
       "      <td>0.0</td>\n",
       "      <td>0.000000</td>\n",
       "      <td>0.000</td>\n",
       "      <td>0.000000</td>\n",
       "      <td>0.0</td>\n",
       "      <td>...</td>\n",
       "      <td>0.0</td>\n",
       "      <td>0.042424</td>\n",
       "      <td>-0.009511</td>\n",
       "      <td>0.0</td>\n",
       "      <td>0</td>\n",
       "      <td>-0.005806</td>\n",
       "      <td>0.000000</td>\n",
       "      <td>0.0</td>\n",
       "      <td>0.049242</td>\n",
       "      <td>0.000000</td>\n",
       "    </tr>\n",
       "    <tr>\n",
       "      <th>20191224</th>\n",
       "      <td>-0.375887</td>\n",
       "      <td>-0.009030</td>\n",
       "      <td>0.0</td>\n",
       "      <td>0.0</td>\n",
       "      <td>0.000000</td>\n",
       "      <td>0.0</td>\n",
       "      <td>0.000000</td>\n",
       "      <td>0.000</td>\n",
       "      <td>0.000000</td>\n",
       "      <td>0.0</td>\n",
       "      <td>...</td>\n",
       "      <td>0.0</td>\n",
       "      <td>0.029586</td>\n",
       "      <td>0.029557</td>\n",
       "      <td>0.0</td>\n",
       "      <td>0</td>\n",
       "      <td>-0.005061</td>\n",
       "      <td>0.125926</td>\n",
       "      <td>0.0</td>\n",
       "      <td>0.049938</td>\n",
       "      <td>0.000000</td>\n",
       "    </tr>\n",
       "    <tr>\n",
       "      <th>...</th>\n",
       "      <td>...</td>\n",
       "      <td>...</td>\n",
       "      <td>...</td>\n",
       "      <td>...</td>\n",
       "      <td>...</td>\n",
       "      <td>...</td>\n",
       "      <td>...</td>\n",
       "      <td>...</td>\n",
       "      <td>...</td>\n",
       "      <td>...</td>\n",
       "      <td>...</td>\n",
       "      <td>...</td>\n",
       "      <td>...</td>\n",
       "      <td>...</td>\n",
       "      <td>...</td>\n",
       "      <td>...</td>\n",
       "      <td>...</td>\n",
       "      <td>...</td>\n",
       "      <td>...</td>\n",
       "      <td>...</td>\n",
       "      <td>...</td>\n",
       "    </tr>\n",
       "    <tr>\n",
       "      <th>20100108</th>\n",
       "      <td>-0.003436</td>\n",
       "      <td>-0.019559</td>\n",
       "      <td>0.0</td>\n",
       "      <td>0.0</td>\n",
       "      <td>0.000000</td>\n",
       "      <td>0.0</td>\n",
       "      <td>0.000000</td>\n",
       "      <td>0.000</td>\n",
       "      <td>-0.247059</td>\n",
       "      <td>0.0</td>\n",
       "      <td>...</td>\n",
       "      <td>0.0</td>\n",
       "      <td>0.031989</td>\n",
       "      <td>0.005365</td>\n",
       "      <td>0.0</td>\n",
       "      <td>0</td>\n",
       "      <td>-0.007281</td>\n",
       "      <td>0.000000</td>\n",
       "      <td>0.0</td>\n",
       "      <td>-0.043222</td>\n",
       "      <td>0.000000</td>\n",
       "    </tr>\n",
       "    <tr>\n",
       "      <th>20100107</th>\n",
       "      <td>-0.013605</td>\n",
       "      <td>-0.015168</td>\n",
       "      <td>0.0</td>\n",
       "      <td>0.0</td>\n",
       "      <td>-0.005643</td>\n",
       "      <td>0.0</td>\n",
       "      <td>0.000000</td>\n",
       "      <td>0.000</td>\n",
       "      <td>0.000000</td>\n",
       "      <td>0.0</td>\n",
       "      <td>...</td>\n",
       "      <td>0.0</td>\n",
       "      <td>-0.038147</td>\n",
       "      <td>-0.012807</td>\n",
       "      <td>0.0</td>\n",
       "      <td>0</td>\n",
       "      <td>-0.034200</td>\n",
       "      <td>0.000000</td>\n",
       "      <td>0.0</td>\n",
       "      <td>0.000000</td>\n",
       "      <td>0.000000</td>\n",
       "    </tr>\n",
       "    <tr>\n",
       "      <th>20100106</th>\n",
       "      <td>0.020906</td>\n",
       "      <td>-0.014904</td>\n",
       "      <td>0.0</td>\n",
       "      <td>0.0</td>\n",
       "      <td>0.037317</td>\n",
       "      <td>0.0</td>\n",
       "      <td>0.000000</td>\n",
       "      <td>0.000</td>\n",
       "      <td>-0.031250</td>\n",
       "      <td>0.0</td>\n",
       "      <td>...</td>\n",
       "      <td>0.0</td>\n",
       "      <td>0.014805</td>\n",
       "      <td>-0.034170</td>\n",
       "      <td>0.0</td>\n",
       "      <td>0</td>\n",
       "      <td>-0.008692</td>\n",
       "      <td>0.000000</td>\n",
       "      <td>0.0</td>\n",
       "      <td>0.043033</td>\n",
       "      <td>0.000000</td>\n",
       "    </tr>\n",
       "    <tr>\n",
       "      <th>20100105</th>\n",
       "      <td>-0.041096</td>\n",
       "      <td>-0.043733</td>\n",
       "      <td>0.0</td>\n",
       "      <td>0.0</td>\n",
       "      <td>-0.034368</td>\n",
       "      <td>0.0</td>\n",
       "      <td>0.000000</td>\n",
       "      <td>0.000</td>\n",
       "      <td>-0.063492</td>\n",
       "      <td>0.0</td>\n",
       "      <td>...</td>\n",
       "      <td>0.0</td>\n",
       "      <td>0.151773</td>\n",
       "      <td>-0.024932</td>\n",
       "      <td>0.0</td>\n",
       "      <td>0</td>\n",
       "      <td>0.063931</td>\n",
       "      <td>0.000000</td>\n",
       "      <td>0.0</td>\n",
       "      <td>0.072874</td>\n",
       "      <td>0.079734</td>\n",
       "    </tr>\n",
       "    <tr>\n",
       "      <th>20100104</th>\n",
       "      <td>-0.079038</td>\n",
       "      <td>-0.041127</td>\n",
       "      <td>0.0</td>\n",
       "      <td>0.0</td>\n",
       "      <td>-0.012069</td>\n",
       "      <td>0.0</td>\n",
       "      <td>0.000000</td>\n",
       "      <td>0.000</td>\n",
       "      <td>-0.079365</td>\n",
       "      <td>0.0</td>\n",
       "      <td>...</td>\n",
       "      <td>0.0</td>\n",
       "      <td>0.048656</td>\n",
       "      <td>0.029249</td>\n",
       "      <td>0.0</td>\n",
       "      <td>0</td>\n",
       "      <td>0.041153</td>\n",
       "      <td>0.000000</td>\n",
       "      <td>0.0</td>\n",
       "      <td>0.013725</td>\n",
       "      <td>0.000000</td>\n",
       "    </tr>\n",
       "  </tbody>\n",
       "</table>\n",
       "<p>2516 rows × 77 columns</p>\n",
       "</div>"
      ],
      "text/plain": [
       "                ONCY      SCCO  KAOCF  BOIRF     SDXOF  ODMUF     CHJHF  \\\n",
       "trade_date                                                                \n",
       "20191231    0.000000  0.000000    0.0    0.0  0.000000    0.0  0.000000   \n",
       "20191230   -0.399160  0.002119    0.0    0.0  0.000000    0.0 -0.272727   \n",
       "20191227   -0.320413  0.020946    0.0    0.0  0.000000    0.0  0.000000   \n",
       "20191226   -0.348592  0.004933    0.0    0.0  0.000000    0.0  0.000000   \n",
       "20191224   -0.375887 -0.009030    0.0    0.0  0.000000    0.0  0.000000   \n",
       "...              ...       ...    ...    ...       ...    ...       ...   \n",
       "20100108   -0.003436 -0.019559    0.0    0.0  0.000000    0.0  0.000000   \n",
       "20100107   -0.013605 -0.015168    0.0    0.0 -0.005643    0.0  0.000000   \n",
       "20100106    0.020906 -0.014904    0.0    0.0  0.037317    0.0  0.000000   \n",
       "20100105   -0.041096 -0.043733    0.0    0.0 -0.034368    0.0  0.000000   \n",
       "20100104   -0.079038 -0.041127    0.0    0.0 -0.012069    0.0  0.000000   \n",
       "\n",
       "            DBOXF     IMNPQ  CYUFF  ...  ABCE      BWEN       PYT  ICBT  \\\n",
       "trade_date                          ...                                   \n",
       "20191231    0.000  0.000000    0.0  ...   0.0  0.000000  0.000000   0.0   \n",
       "20191230   -0.125  0.000000    0.0  ...   0.0  0.000000  0.000000   0.0   \n",
       "20191227    0.000  0.000000    0.0  ...   0.0  0.024242  0.000000   0.0   \n",
       "20191226    0.000  0.000000    0.0  ...   0.0  0.042424 -0.009511   0.0   \n",
       "20191224    0.000  0.000000    0.0  ...   0.0  0.029586  0.029557   0.0   \n",
       "...           ...       ...    ...  ...   ...       ...       ...   ...   \n",
       "20100108    0.000 -0.247059    0.0  ...   0.0  0.031989  0.005365   0.0   \n",
       "20100107    0.000  0.000000    0.0  ...   0.0 -0.038147 -0.012807   0.0   \n",
       "20100106    0.000 -0.031250    0.0  ...   0.0  0.014805 -0.034170   0.0   \n",
       "20100105    0.000 -0.063492    0.0  ...   0.0  0.151773 -0.024932   0.0   \n",
       "20100104    0.000 -0.079365    0.0  ...   0.0  0.048656  0.029249   0.0   \n",
       "\n",
       "            HOSZY       ICE      AQSP  YHDT      OSUR      PSBQ  \n",
       "trade_date                                                       \n",
       "20191231        0  0.000000  0.000000   0.0  0.000000  0.000000  \n",
       "20191230        0  0.005727  0.108000   0.0 -0.012453 -0.014182  \n",
       "20191227        0  0.006166 -0.025271   0.0  0.029449 -0.007273  \n",
       "20191226        0 -0.005806  0.000000   0.0  0.049242  0.000000  \n",
       "20191224        0 -0.005061  0.125926   0.0  0.049938  0.000000  \n",
       "...           ...       ...       ...   ...       ...       ...  \n",
       "20100108        0 -0.007281  0.000000   0.0 -0.043222  0.000000  \n",
       "20100107        0 -0.034200  0.000000   0.0  0.000000  0.000000  \n",
       "20100106        0 -0.008692  0.000000   0.0  0.043033  0.000000  \n",
       "20100105        0  0.063931  0.000000   0.0  0.072874  0.079734  \n",
       "20100104        0  0.041153  0.000000   0.0  0.013725  0.000000  \n",
       "\n",
       "[2516 rows x 77 columns]"
      ]
     },
     "execution_count": 688,
     "metadata": {},
     "output_type": "execute_result"
    }
   ],
   "source": [
    "rgeye"
   ]
  },
  {
   "cell_type": "code",
   "execution_count": null,
   "metadata": {},
   "outputs": [],
   "source": []
  },
  {
   "cell_type": "code",
   "execution_count": null,
   "metadata": {},
   "outputs": [],
   "source": []
  },
  {
   "cell_type": "code",
   "execution_count": null,
   "metadata": {},
   "outputs": [],
   "source": []
  },
  {
   "cell_type": "code",
   "execution_count": null,
   "metadata": {},
   "outputs": [],
   "source": []
  },
  {
   "cell_type": "code",
   "execution_count": null,
   "metadata": {},
   "outputs": [],
   "source": []
  },
  {
   "cell_type": "code",
   "execution_count": null,
   "metadata": {},
   "outputs": [],
   "source": []
  },
  {
   "cell_type": "code",
   "execution_count": 635,
   "metadata": {},
   "outputs": [],
   "source": [
    "df = DataFrame(np.arange(12).reshape(3, 4))"
   ]
  },
  {
   "cell_type": "code",
   "execution_count": 640,
   "metadata": {},
   "outputs": [],
   "source": [
    "df2 = df + 1\n",
    "df.iloc[-1,-1] = 0"
   ]
  },
  {
   "cell_type": "code",
   "execution_count": 641,
   "metadata": {},
   "outputs": [
    {
     "data": {
      "text/plain": [
       "0    1.000000\n",
       "1    1.000000\n",
       "2    1.000000\n",
       "3   -0.427121\n",
       "dtype: float64"
      ]
     },
     "execution_count": 641,
     "metadata": {},
     "output_type": "execute_result"
    }
   ],
   "source": [
    "df.iloc[-6:,:].corrwith(df2.iloc[-6:,:])"
   ]
  },
  {
   "cell_type": "code",
   "execution_count": 273,
   "metadata": {},
   "outputs": [
    {
     "data": {
      "text/plain": [
       "000066.SZ    True\n",
       "000977.SZ    True\n",
       "002063.SZ    True\n",
       "002152.SZ    True\n",
       "002153.SZ    True\n",
       "             ... \n",
       "603976.SH    True\n",
       "002923.SZ    True\n",
       "002898.SZ    True\n",
       "002880.SZ    True\n",
       "300725.SZ    True\n",
       "Length: 932, dtype: bool"
      ]
     },
     "execution_count": 273,
     "metadata": {},
     "output_type": "execute_result"
    }
   ],
   "source": [
    "gt1.apply(lambda x:(np.abs(x)>1e-6).any())"
   ]
  },
  {
   "cell_type": "code",
   "execution_count": 274,
   "metadata": {},
   "outputs": [
    {
     "data": {
      "text/plain": [
       "000066.SZ      3.058870\n",
       "000977.SZ      1.247908\n",
       "002063.SZ     16.045800\n",
       "002152.SZ    -29.453465\n",
       "002153.SZ     -5.858971\n",
       "                ...    \n",
       "603976.SH    -46.050127\n",
       "002923.SZ    -46.050127\n",
       "002898.SZ    -46.050127\n",
       "002880.SZ    -20.518216\n",
       "300725.SZ    102.406118\n",
       "Length: 932, dtype: float64"
      ]
     },
     "execution_count": 274,
     "metadata": {},
     "output_type": "execute_result"
    }
   ],
   "source": [
    "gt1.sum()"
   ]
  },
  {
   "cell_type": "code",
   "execution_count": 281,
   "metadata": {},
   "outputs": [
    {
     "data": {
      "text/plain": [
       "000066.SZ     True\n",
       "000977.SZ     True\n",
       "002063.SZ     True\n",
       "002152.SZ     True\n",
       "002153.SZ     True\n",
       "             ...  \n",
       "603976.SH    False\n",
       "002923.SZ    False\n",
       "002898.SZ    False\n",
       "002880.SZ     True\n",
       "300725.SZ     True\n",
       "Length: 932, dtype: bool"
      ]
     },
     "execution_count": 281,
     "metadata": {},
     "output_type": "execute_result"
    }
   ],
   "source": [
    "gt.notna().any()"
   ]
  },
  {
   "cell_type": "code",
   "execution_count": null,
   "metadata": {},
   "outputs": [],
   "source": []
  }
 ],
 "metadata": {
  "kernelspec": {
   "display_name": "Python 3",
   "language": "python",
   "name": "python3"
  },
  "language_info": {
   "codemirror_mode": {
    "name": "ipython",
    "version": 3
   },
   "file_extension": ".py",
   "mimetype": "text/x-python",
   "name": "python",
   "nbconvert_exporter": "python",
   "pygments_lexer": "ipython3",
   "version": "3.7.3"
  }
 },
 "nbformat": 4,
 "nbformat_minor": 4
}
