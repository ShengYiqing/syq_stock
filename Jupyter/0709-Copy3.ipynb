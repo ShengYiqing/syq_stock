{
 "cells": [
  {
   "cell_type": "code",
   "execution_count": 1,
   "metadata": {},
   "outputs": [],
   "source": [
    "import tushare as ts\n",
    "import time\n",
    "import datetime\n",
    "import sys\n",
    "import os\n",
    "import numpy as np\n",
    "import pandas as pd\n",
    "from pandas import Series, DataFrame\n",
    "import matplotlib.pyplot as plt\n",
    "import statsmodels.api as sm\n",
    "import statsmodels.formula.api as smf\n",
    "from sklearn.ensemble import RandomForestRegressor\n",
    "from sklearn.impute import SimpleImputer\n",
    "#df = Imputer().fit_transform(df)\n",
    "sys.path.append('../Codes')\n",
    "import DataProcessor as DP\n",
    "from DataProcessor import centralize\n",
    "from DataProcessor import standardize\n",
    "from DataProcessor import standardize_industry\n",
    "from DataProcessor import ma_ratio"
   ]
  },
  {
   "cell_type": "code",
   "execution_count": 887,
   "metadata": {},
   "outputs": [],
   "source": [
    "def get_industrys(level='L1'):\n",
    "    #获取行业分类\n",
    "    pro = ts.pro_api()\n",
    "    industrys = {i:pro.index_member(index_code=i).con_code.values for i in pro.index_classify(level=level, src='SW').sort_values('index_code').loc[:, 'index_code']}\n",
    "    \n",
    "    return industrys\n",
    "\n",
    "def get_stock_money_data(industry='all', fields=['gt_vol', 'rzye', 'rqye']):\n",
    "    industrys = get_industrys(level='L1')\n",
    "    \n",
    "    data = {field:DataFrame() for field in fields}\n",
    "    \n",
    "    if industry == 'all':\n",
    "        stocks = [j for i in industrys.values() for j in i]\n",
    "    else:\n",
    "        stocks = [j for i in industry for j in industrys[i]]\n",
    "    \n",
    "    for stock in stocks:\n",
    "        if os.path.exists('../DataBase/StockMoneyData/Stock/%s.csv'%stock):\n",
    "            df = pd.read_csv('../DataBase/StockMoneyData/Stock/%s.csv'%stock, index_col=[0], parse_dates=[0])\n",
    "            for field in df.columns:\n",
    "                data[field].loc[:, stock] = df.loc[:, field]\n",
    "    \n",
    "    return data"
   ]
  },
  {
   "cell_type": "code",
   "execution_count": 889,
   "metadata": {},
   "outputs": [],
   "source": [
    "money_dic = get_stock_money_data(industry)"
   ]
  },
  {
   "cell_type": "code",
   "execution_count": 2,
   "metadata": {},
   "outputs": [],
   "source": [
    "#获取行业分类\n",
    "industrys = DP.get_industrys()"
   ]
  },
  {
   "cell_type": "code",
   "execution_count": 858,
   "metadata": {},
   "outputs": [],
   "source": [
    "industry=['801080.SI',\n",
    "          '801760.SI',\n",
    "          '801740.SI',\n",
    "          '801750.SI',\n",
    "          '801010.SI',\n",
    "          '801770.SI',\n",
    "         ]\n",
    "industry = ['801010.SI']\n",
    "#industry='all'\n",
    "#取行业内股票数据\n",
    "data = DP.get_daily_data(industry=industry,\n",
    "                         fields=['open',\n",
    "                                 'high',\n",
    "                                 'low',\n",
    "                                 'close',\n",
    "                                 'adj_factor',\n",
    "                                 'turnover_rate_f',\n",
    "                                 'pe_ttm',\n",
    "                                 'pb',\n",
    "                                 'ps_ttm',\n",
    "                                 'total_mv'])\n",
    "\n",
    "money_dic = get_stock_money_data(industry)"
   ]
  },
  {
   "cell_type": "code",
   "execution_count": 1014,
   "metadata": {},
   "outputs": [],
   "source": [
    "rzrqye = DataFrame(np.log((money_dic['rzye'] - money_dic['rqye']).fillna(method='bfill')), index=OPEN.index).fillna(method='bfill')\n",
    "gt_vol = DataFrame(np.log(money_dic['gt_vol'].fillna(method='bfill')), index=OPEN.index).fillna(method='bfill')\n",
    "\n",
    "d_rzrqye = (rzrqye - rzrqye.shift()).fillna(0)\n",
    "d_gt_vol = (gt_vol - gt_vol.shift()).fillna(0)"
   ]
  },
  {
   "cell_type": "code",
   "execution_count": 1015,
   "metadata": {},
   "outputs": [],
   "source": [
    "#因子构造\n",
    "OPEN = np.log(data['open'] * data['adj_factor'])\n",
    "HIGH = np.log(data['high'] * data['adj_factor'])\n",
    "LOW = np.log(data['low'] * data['adj_factor'])\n",
    "CLOSE = np.log(data['close'] * data['adj_factor'])\n",
    "\n",
    "trf = data['turnover_rate_f']\n",
    "ltrf = np.log(trf)\n",
    "\n",
    "mv = data['total_mv']\n",
    "lmv = np.log(mv)\n",
    "tmv = mv ** 3\n",
    "\n",
    "pe = data['pe_ttm']\n",
    "pb = data['pb']\n",
    "ps = data['ps_ttm']\n",
    "pe = 1 / pe\n",
    "ps = 1 / ps\n",
    "pb = 1 / pb"
   ]
  },
  {
   "cell_type": "code",
   "execution_count": 1016,
   "metadata": {},
   "outputs": [],
   "source": [
    "ror = CLOSE - CLOSE.shift()\n",
    "r_rinei = CLOSE - OPEN\n",
    "r_geye = OPEN - CLOSE.shift()\n",
    "rh = HIGH - OPEN\n",
    "rl = LOW - OPEN\n",
    "hl = rh - rl\n",
    "vr = ltrf - ltrf.shift()"
   ]
  },
  {
   "cell_type": "code",
   "execution_count": 1017,
   "metadata": {},
   "outputs": [],
   "source": [
    "n = 2\n",
    "y = standardize_industry(ror.rolling(n).sum().shift(-n+1) - r_geye, industrys, industry)\n",
    "y[(r_geye > 0.09).fillna(False) & (r_rinei.abs() < 1e-6).fillna(False)] = 0"
   ]
  },
  {
   "cell_type": "code",
   "execution_count": 1021,
   "metadata": {},
   "outputs": [],
   "source": [
    "x1 = standardize_industry(r_rinei, industrys, industry)\n",
    "x2 = standardize_industry(r_rinei, industrys, industry).rolling(1).mean().shift(1)\n",
    "x3 = standardize_industry(r_rinei, industrys, industry).rolling(1).mean().shift(2)\n",
    "x4 = standardize_industry(r_rinei, industrys, industry).rolling(2).mean().shift(3)\n",
    "x5 = standardize_industry(r_rinei, industrys, industry).rolling(5).mean().shift(5)\n",
    "x6 = standardize_industry(r_rinei, industrys, industry).rolling(5).mean().shift(10)\n",
    "x7 = standardize_industry(r_rinei, industrys, industry).rolling(5).mean().shift(15)\n",
    "\n",
    "z1 = standardize_industry(r_geye, industrys, industry)\n",
    "z2 = standardize_industry(r_geye, industrys, industry).rolling(1).mean().shift(1)\n",
    "z3 = standardize_industry(r_geye, industrys, industry).rolling(1).mean().shift(2)\n",
    "z4 = standardize_industry(r_geye, industrys, industry).rolling(2).mean().shift(3)\n",
    "z5 = standardize_industry(r_geye, industrys, industry).rolling(5).mean().shift(5)\n",
    "z6 = standardize_industry(r_geye, industrys, industry).rolling(5).mean().shift(10)\n",
    "z7 = standardize_industry(r_geye, industrys, industry).rolling(5).mean().shift(15)\n",
    "\n",
    "u1 = standardize_industry(ror, industrys, industry)\n",
    "u2 = standardize_industry(ror, industrys, industry).rolling(1).mean().shift(1)\n",
    "u3 = standardize_industry(ror, industrys, industry).rolling(1).mean().shift(2)\n",
    "u4 = standardize_industry(ror, industrys, industry).rolling(2).mean().shift(3)\n",
    "u5 = standardize_industry(ror, industrys, industry).rolling(5).mean().shift(5)\n",
    "u6 = standardize_industry(ror, industrys, industry).rolling(5).mean().shift(10)\n",
    "u7 = standardize_industry(ror, industrys, industry).rolling(5).mean().shift(15)\n",
    "\n",
    "h1 = standardize_industry(rh, industrys, industry)\n",
    "h2 = standardize_industry(rh, industrys, industry).rolling(1).mean().shift(1)\n",
    "h3 = standardize_industry(rh, industrys, industry).rolling(1).mean().shift(2)\n",
    "h4 = standardize_industry(rh, industrys, industry).rolling(2).mean().shift(3)\n",
    "h5 = standardize_industry(rh, industrys, industry).rolling(5).mean().shift(5)\n",
    "h6 = standardize_industry(rh, industrys, industry).rolling(5).mean().shift(10)\n",
    "h7 = standardize_industry(rh, industrys, industry).rolling(5).mean().shift(15)\n",
    "\n",
    "l1 = standardize_industry(rl, industrys, industry)\n",
    "l2 = standardize_industry(rl, industrys, industry).rolling(1).mean().shift(1)\n",
    "l3 = standardize_industry(rl, industrys, industry).rolling(1).mean().shift(2)\n",
    "l4 = standardize_industry(rl, industrys, industry).rolling(2).mean().shift(3)\n",
    "l5 = standardize_industry(rl, industrys, industry).rolling(5).mean().shift(5)\n",
    "l6 = standardize_industry(rl, industrys, industry).rolling(5).mean().shift(10)\n",
    "l7 = standardize_industry(rl, industrys, industry).rolling(5).mean().shift(15)\n",
    "\n",
    "hl1 = standardize_industry(hl, industrys, industry)\n",
    "hl2 = standardize_industry(hl, industrys, industry).rolling(1).mean().shift(1)\n",
    "hl3 = standardize_industry(hl, industrys, industry).rolling(1).mean().shift(2)\n",
    "hl4 = standardize_industry(hl, industrys, industry).rolling(2).mean().shift(3)\n",
    "hl5 = standardize_industry(hl, industrys, industry).rolling(5).mean().shift(5)\n",
    "hl6 = standardize_industry(hl, industrys, industry).rolling(5).mean().shift(10)\n",
    "hl7 = standardize_industry(hl, industrys, industry).rolling(5).mean().shift(15)\n",
    "\n",
    "vr1 = standardize_industry(vr, industrys, industry)\n",
    "vr2 = standardize_industry(vr, industrys, industry).rolling(1).mean().shift(1)\n",
    "vr3 = standardize_industry(vr, industrys, industry).rolling(1).mean().shift(2)\n",
    "vr4 = standardize_industry(vr, industrys, industry).rolling(2).mean().shift(3)\n",
    "vr5 = standardize_industry(vr, industrys, industry).rolling(5).mean().shift(5)\n",
    "vr6 = standardize_industry(vr, industrys, industry).rolling(5).mean().shift(10)\n",
    "vr7 = standardize_industry(vr, industrys, industry).rolling(5).mean().shift(15)\n",
    "\n",
    "pe = standardize_industry(pe, industrys, industry)\n",
    "pb = standardize_industry(pb, industrys, industry)\n",
    "ps = standardize_industry(ps, industrys, industry)\n",
    "\n",
    "mv = standardize_industry(mv, industrys, industry)\n",
    "lmv = standardize_industry(lmv, industrys, industry)\n",
    "tmv = standardize_industry(tmv, industrys, industry)\n",
    "\n",
    "rzrq = standardize_industry(d_rzrqye, industrys, industry).rolling(5).mean()\n",
    "gt = centralize(d_gt_vol).rolling(5).mean()"
   ]
  },
  {
   "cell_type": "code",
   "execution_count": 1022,
   "metadata": {},
   "outputs": [],
   "source": [
    "factor = {\n",
    "    'x1':x1, 'x2':x2, 'x3':x3, 'x4':x4, 'x5':x5, 'x6':x6, 'x7':x7,\n",
    "    'z1':z1, 'z2':z2, 'z3':z3, 'z4':z4, 'z5':z5, 'z6':z6, 'z7':z7,\n",
    "    'u1':u1, 'u2':u2, 'u3':u3, 'u4':u4, 'u5':u5, 'u6':u6, 'u7':u7,\n",
    "    'h1':h1, 'h2':h2, 'h3':h3, 'h4':h4, 'h5':h5, 'h6':h6, 'h7':h7,\n",
    "    'l1':l1, 'l2':l2, 'l3':l3, 'l4':l4, 'l5':l5, 'l6':l6, 'l7':l7,\n",
    "    'hl1':hl1, 'hl2':hl2, 'hl3':hl3, 'hl4':hl4, 'hl5':hl5, 'hl6':hl6, 'hl7':hl7,\n",
    "    'vr1':vr1, 'vr2':vr2, 'vr3':vr3, 'vr4':vr4, 'vr5':vr5, 'vr6':vr6, 'vr7':vr7,\n",
    "    'pe':pe, 'pb':pb, 'ps':ps,\n",
    "    'mv':mv, 'lmv':lmv, 'tmv':tmv,\n",
    "    'rzrq':rzrq, 'gt':gt,\n",
    "}"
   ]
  },
  {
   "cell_type": "code",
   "execution_count": 1023,
   "metadata": {},
   "outputs": [],
   "source": [
    "begin_date = '2010-01-01'\n",
    "split_date = '2020-01-01'\n",
    "train_date = y.index[(begin_date < y.index) & (y.index < split_date)]\n",
    "test_date = y.index[y.index > split_date]"
   ]
  },
  {
   "cell_type": "code",
   "execution_count": 1024,
   "metadata": {},
   "outputs": [],
   "source": [
    "df_y_train = DataFrame({'y':y.loc[train_date, :].values.flatten()})\n",
    "df_x_train = DataFrame({k:factor[k].loc[train_date, :].shift().values.flatten() for k in factor.keys()})"
   ]
  },
  {
   "cell_type": "code",
   "execution_count": 1025,
   "metadata": {},
   "outputs": [],
   "source": [
    "df_y_test = DataFrame({'y':y.loc[test_date, :].values.flatten()})\n",
    "df_x_test = DataFrame({k:factor[k].loc[test_date, :].shift().values.flatten() for k in factor.keys()})"
   ]
  },
  {
   "cell_type": "code",
   "execution_count": 1026,
   "metadata": {},
   "outputs": [],
   "source": [
    "df_train = pd.concat([df_y_train, df_x_train], axis=1)\n",
    "df_test = pd.concat([df_y_test, df_x_test], axis=1)"
   ]
  },
  {
   "cell_type": "code",
   "execution_count": 1027,
   "metadata": {},
   "outputs": [
    {
     "data": {
      "text/plain": [
       "lmv    -0.031194\n",
       "u4     -0.023640\n",
       "mv     -0.020755\n",
       "x2     -0.019562\n",
       "vr4    -0.019460\n",
       "x4     -0.018966\n",
       "x1     -0.017618\n",
       "u2     -0.015898\n",
       "tmv    -0.014931\n",
       "h4     -0.014717\n",
       "u1     -0.012871\n",
       "z5     -0.012054\n",
       "z4     -0.011746\n",
       "h2     -0.009475\n",
       "l1     -0.009151\n",
       "hl4    -0.007440\n",
       "l2     -0.006987\n",
       "hl7    -0.006905\n",
       "u7     -0.006902\n",
       "rzrq   -0.006533\n",
       "z6     -0.006362\n",
       "h7     -0.006058\n",
       "h1     -0.005603\n",
       "vr7    -0.003931\n",
       "z7     -0.003870\n",
       "x7     -0.003724\n",
       "vr1    -0.003061\n",
       "hl3    -0.002324\n",
       "l4     -0.001983\n",
       "vr5    -0.000799\n",
       "pe     -0.000116\n",
       "h3      0.000175\n",
       "hl2     0.000538\n",
       "x3      0.001561\n",
       "vr6     0.001805\n",
       "gt      0.002087\n",
       "vr2     0.002140\n",
       "vr3     0.003026\n",
       "ps      0.003055\n",
       "u6      0.003566\n",
       "u3      0.003662\n",
       "l6      0.003814\n",
       "hl5     0.004276\n",
       "hl6     0.004409\n",
       "l7      0.004443\n",
       "hl1     0.004843\n",
       "z2      0.004876\n",
       "z3      0.005489\n",
       "u5      0.006997\n",
       "h6      0.007063\n",
       "l3      0.007080\n",
       "z1      0.007475\n",
       "l5      0.009195\n",
       "x6      0.009250\n",
       "h5      0.009350\n",
       "pb      0.011102\n",
       "x5      0.014857\n",
       "y       1.000000\n",
       "Name: y, dtype: float64"
      ]
     },
     "execution_count": 1027,
     "metadata": {},
     "output_type": "execute_result"
    }
   ],
   "source": [
    "df_train.corr().iloc[0,:].sort_values()"
   ]
  },
  {
   "cell_type": "code",
   "execution_count": 1029,
   "metadata": {},
   "outputs": [
    {
     "name": "stdout",
     "output_type": "stream",
     "text": [
      "Intercept   -1.421372\n",
      "gt           0.834305\n",
      "dtype: float64\n"
     ]
    }
   ],
   "source": [
    "model = smf.ols('y~gt', data=df_train).fit()\n",
    "print(model.tvalues)\n"
   ]
  },
  {
   "cell_type": "code",
   "execution_count": 1030,
   "metadata": {},
   "outputs": [
    {
     "data": {
      "text/html": [
       "<table class=\"simpletable\">\n",
       "<caption>OLS Regression Results</caption>\n",
       "<tr>\n",
       "  <th>Dep. Variable:</th>            <td>y</td>        <th>  R-squared:         </th>  <td>   0.003</td>  \n",
       "</tr>\n",
       "<tr>\n",
       "  <th>Model:</th>                   <td>OLS</td>       <th>  Adj. R-squared:    </th>  <td>   0.003</td>  \n",
       "</tr>\n",
       "<tr>\n",
       "  <th>Method:</th>             <td>Least Squares</td>  <th>  F-statistic:       </th>  <td>   30.64</td>  \n",
       "</tr>\n",
       "<tr>\n",
       "  <th>Date:</th>             <td>Fri, 17 Jul 2020</td> <th>  Prob (F-statistic):</th>  <td>1.68e-65</td>  \n",
       "</tr>\n",
       "<tr>\n",
       "  <th>Time:</th>                 <td>00:10:45</td>     <th>  Log-Likelihood:    </th> <td>-1.7071e+05</td>\n",
       "</tr>\n",
       "<tr>\n",
       "  <th>No. Observations:</th>      <td>123485</td>      <th>  AIC:               </th>  <td>3.414e+05</td> \n",
       "</tr>\n",
       "<tr>\n",
       "  <th>Df Residuals:</th>          <td>123473</td>      <th>  BIC:               </th>  <td>3.416e+05</td> \n",
       "</tr>\n",
       "<tr>\n",
       "  <th>Df Model:</th>              <td>    11</td>      <th>                     </th>      <td> </td>     \n",
       "</tr>\n",
       "<tr>\n",
       "  <th>Covariance Type:</th>      <td>nonrobust</td>    <th>                     </th>      <td> </td>     \n",
       "</tr>\n",
       "</table>\n",
       "<table class=\"simpletable\">\n",
       "<tr>\n",
       "      <td></td>         <th>coef</th>     <th>std err</th>      <th>t</th>      <th>P>|t|</th>  <th>[0.025</th>    <th>0.975]</th>  \n",
       "</tr>\n",
       "<tr>\n",
       "  <th>Intercept</th> <td>   -0.0010</td> <td>    0.003</td> <td>   -0.377</td> <td> 0.706</td> <td>   -0.006</td> <td>    0.004</td>\n",
       "</tr>\n",
       "<tr>\n",
       "  <th>x1</th>        <td>   -0.0339</td> <td>    0.005</td> <td>   -7.162</td> <td> 0.000</td> <td>   -0.043</td> <td>   -0.025</td>\n",
       "</tr>\n",
       "<tr>\n",
       "  <th>x2</th>        <td>   -0.0304</td> <td>    0.005</td> <td>   -6.489</td> <td> 0.000</td> <td>   -0.040</td> <td>   -0.021</td>\n",
       "</tr>\n",
       "<tr>\n",
       "  <th>x4</th>        <td>   -0.0337</td> <td>    0.004</td> <td>   -8.224</td> <td> 0.000</td> <td>   -0.042</td> <td>   -0.026</td>\n",
       "</tr>\n",
       "<tr>\n",
       "  <th>x5</th>        <td>    0.0211</td> <td>    0.006</td> <td>    3.261</td> <td> 0.001</td> <td>    0.008</td> <td>    0.034</td>\n",
       "</tr>\n",
       "<tr>\n",
       "  <th>z1</th>        <td>    0.0075</td> <td>    0.003</td> <td>    2.482</td> <td> 0.013</td> <td>    0.002</td> <td>    0.014</td>\n",
       "</tr>\n",
       "<tr>\n",
       "  <th>z4</th>        <td>   -0.0150</td> <td>    0.004</td> <td>   -3.667</td> <td> 0.000</td> <td>   -0.023</td> <td>   -0.007</td>\n",
       "</tr>\n",
       "<tr>\n",
       "  <th>h1</th>        <td>    0.0227</td> <td>    0.005</td> <td>    4.661</td> <td> 0.000</td> <td>    0.013</td> <td>    0.032</td>\n",
       "</tr>\n",
       "<tr>\n",
       "  <th>h2</th>        <td>    0.0154</td> <td>    0.005</td> <td>    3.169</td> <td> 0.002</td> <td>    0.006</td> <td>    0.025</td>\n",
       "</tr>\n",
       "<tr>\n",
       "  <th>pe</th>        <td>    0.0124</td> <td>    0.003</td> <td>    4.191</td> <td> 0.000</td> <td>    0.007</td> <td>    0.018</td>\n",
       "</tr>\n",
       "<tr>\n",
       "  <th>gt</th>        <td>    0.0677</td> <td>    0.053</td> <td>    1.272</td> <td> 0.203</td> <td>   -0.037</td> <td>    0.172</td>\n",
       "</tr>\n",
       "<tr>\n",
       "  <th>lmv</th>       <td>   -0.0336</td> <td>    0.003</td> <td>  -11.669</td> <td> 0.000</td> <td>   -0.039</td> <td>   -0.028</td>\n",
       "</tr>\n",
       "</table>\n",
       "<table class=\"simpletable\">\n",
       "<tr>\n",
       "  <th>Omnibus:</th>       <td>14829.763</td> <th>  Durbin-Watson:     </th> <td>   1.992</td> \n",
       "</tr>\n",
       "<tr>\n",
       "  <th>Prob(Omnibus):</th>  <td> 0.000</td>   <th>  Jarque-Bera (JB):  </th> <td>45576.001</td>\n",
       "</tr>\n",
       "<tr>\n",
       "  <th>Skew:</th>           <td> 0.635</td>   <th>  Prob(JB):          </th> <td>    0.00</td> \n",
       "</tr>\n",
       "<tr>\n",
       "  <th>Kurtosis:</th>       <td> 5.692</td>   <th>  Cond. No.          </th> <td>    26.7</td> \n",
       "</tr>\n",
       "</table><br/><br/>Warnings:<br/>[1] Standard Errors assume that the covariance matrix of the errors is correctly specified."
      ],
      "text/plain": [
       "<class 'statsmodels.iolib.summary.Summary'>\n",
       "\"\"\"\n",
       "                            OLS Regression Results                            \n",
       "==============================================================================\n",
       "Dep. Variable:                      y   R-squared:                       0.003\n",
       "Model:                            OLS   Adj. R-squared:                  0.003\n",
       "Method:                 Least Squares   F-statistic:                     30.64\n",
       "Date:                Fri, 17 Jul 2020   Prob (F-statistic):           1.68e-65\n",
       "Time:                        00:10:45   Log-Likelihood:            -1.7071e+05\n",
       "No. Observations:              123485   AIC:                         3.414e+05\n",
       "Df Residuals:                  123473   BIC:                         3.416e+05\n",
       "Df Model:                          11                                         \n",
       "Covariance Type:            nonrobust                                         \n",
       "==============================================================================\n",
       "                 coef    std err          t      P>|t|      [0.025      0.975]\n",
       "------------------------------------------------------------------------------\n",
       "Intercept     -0.0010      0.003     -0.377      0.706      -0.006       0.004\n",
       "x1            -0.0339      0.005     -7.162      0.000      -0.043      -0.025\n",
       "x2            -0.0304      0.005     -6.489      0.000      -0.040      -0.021\n",
       "x4            -0.0337      0.004     -8.224      0.000      -0.042      -0.026\n",
       "x5             0.0211      0.006      3.261      0.001       0.008       0.034\n",
       "z1             0.0075      0.003      2.482      0.013       0.002       0.014\n",
       "z4            -0.0150      0.004     -3.667      0.000      -0.023      -0.007\n",
       "h1             0.0227      0.005      4.661      0.000       0.013       0.032\n",
       "h2             0.0154      0.005      3.169      0.002       0.006       0.025\n",
       "pe             0.0124      0.003      4.191      0.000       0.007       0.018\n",
       "gt             0.0677      0.053      1.272      0.203      -0.037       0.172\n",
       "lmv           -0.0336      0.003    -11.669      0.000      -0.039      -0.028\n",
       "==============================================================================\n",
       "Omnibus:                    14829.763   Durbin-Watson:                   1.992\n",
       "Prob(Omnibus):                  0.000   Jarque-Bera (JB):            45576.001\n",
       "Skew:                           0.635   Prob(JB):                         0.00\n",
       "Kurtosis:                       5.692   Cond. No.                         26.7\n",
       "==============================================================================\n",
       "\n",
       "Warnings:\n",
       "[1] Standard Errors assume that the covariance matrix of the errors is correctly specified.\n",
       "\"\"\""
      ]
     },
     "execution_count": 1030,
     "metadata": {},
     "output_type": "execute_result"
    }
   ],
   "source": [
    "model = smf.ols('y~x1+x2+x4+x5\\\n",
    "                  +z1+z4\\\n",
    "                  \\\n",
    "                  +h1+h2\\\n",
    "                  \\\n",
    "                  \\\n",
    "                  \\\n",
    "                  +pe\\\n",
    "                  +gt\\\n",
    "                  +lmv', data=df_train).fit()\n",
    "model.summary()"
   ]
  },
  {
   "cell_type": "code",
   "execution_count": 1031,
   "metadata": {},
   "outputs": [
    {
     "name": "stdout",
     "output_type": "stream",
     "text": [
      "300829.SZ    0.096433\n",
      "002286.SZ    0.081947\n",
      "300021.SZ    0.072891\n",
      "000911.SZ    0.061352\n",
      "300175.SZ    0.057876\n",
      "000798.SZ    0.045439\n",
      "300087.SZ    0.042445\n",
      "603363.SH    0.042344\n",
      "603566.SH    0.035917\n",
      "600097.SH    0.035342\n",
      "Name: 2020-07-15 00:00:00, dtype: float64\n"
     ]
    },
    {
     "data": {
      "image/png": "[encoded data removed]",
      "text/plain": [
       "<Figure size 432x288 with 1 Axes>"
      ]
     },
     "metadata": {
      "needs_background": "light"
     },
     "output_type": "display_data"
    }
   ],
   "source": [
    "#调仓周期\n",
    "m = 2\n",
    "y_hat = DataFrame(model.predict(df_test).values.reshape(len(test_date), len(y.columns)), index=test_date, columns=y.columns)\n",
    "position = (y_hat.gt(y_hat.quantile(0.9, 1), 0))\n",
    "\n",
    "ror_test = ror.loc[test_date, :]\n",
    "r_rinei_test = r_rinei.loc[test_date, :]\n",
    "r_geye_test = r_geye.loc[test_date, :]\n",
    "\n",
    "ror_huice = position * (ror_test.rolling(m).sum().shift(-m+1) - r_geye_test) / m\n",
    "ror_huice[ror_huice==0] = np.nan\n",
    "ror_huice.mean(1).cumsum().plot()\n",
    "\n",
    "benchmark1 = (ror_test.rolling(m).sum().shift(-m+1) - r_geye_test) / m\n",
    "benchmark1.mean(1).cumsum().plot()\n",
    "benchmark2 = ror_test\n",
    "benchmark2.mean(1).cumsum().plot()\n",
    "\n",
    "alpha1 = ror_huice.mean(1).cumsum() - benchmark1.mean(1).cumsum()\n",
    "alpha2 = ror_huice.mean(1).cumsum() - benchmark2.mean(1).cumsum()\n",
    "alpha1.plot()\n",
    "alpha2.plot()\n",
    "#for i in industry:\n",
    "#    stock = industrys[i]\n",
    "#    ror_test.loc[:,stock].mean(1).cumsum().plot()\n",
    "plt.legend(['backtest', 'benchmark1', 'benchmark2', 'alpha1', 'alpha2'] + [i for i in industry])\n",
    "print(y_hat.iloc[-1,:].sort_values(ascending=False).dropna().iloc[:10])"
   ]
  },
  {
   "cell_type": "code",
   "execution_count": 883,
   "metadata": {},
   "outputs": [
    {
     "data": {
      "text/plain": [
       "2018-01-02    0\n",
       "2018-01-03    7\n",
       "2018-01-04    7\n",
       "2018-01-05    7\n",
       "2018-01-08    7\n",
       "             ..\n",
       "2020-07-09    7\n",
       "2020-07-10    7\n",
       "2020-07-13    7\n",
       "2020-07-14    7\n",
       "2020-07-15    7\n",
       "Length: 615, dtype: int64"
      ]
     },
     "execution_count": 883,
     "metadata": {},
     "output_type": "execute_result"
    }
   ],
   "source": [
    "position.sum(1)"
   ]
  },
  {
   "cell_type": "code",
   "execution_count": 884,
   "metadata": {},
   "outputs": [
    {
     "name": "stdout",
     "output_type": "stream",
     "text": [
      "603363.SH    0.113558\n",
      "300829.SZ    0.089692\n",
      "002852.SZ    0.088179\n",
      "600540.SH    0.075239\n",
      "603668.SH    0.072485\n",
      "000592.SZ    0.068906\n",
      "600195.SH    0.068519\n",
      "600467.SH    0.068034\n",
      "000798.SZ    0.054606\n",
      "300087.SZ    0.053120\n",
      "Name: 2020-07-15 00:00:00, dtype: float64\n"
     ]
    }
   ],
   "source": [
    "df_y_test2 = DataFrame({'y':y.loc[test_date, :].values.flatten()})\n",
    "df_x_test2 = DataFrame({k:factor[k].loc[test_date, :].values.flatten() for k in factor.keys()})\n",
    "df_test2 = pd.concat([df_y_test2, df_x_test2], axis=1)\n",
    "y_hat2 = DataFrame(model.predict(df_test2).values.reshape(len(ror_test), len(ror_test.columns)), index=ror_test.index, columns=ror_test.columns)\n",
    "print(y_hat2.iloc[-1,:].sort_values(ascending=False).dropna().iloc[:10])"
   ]
  },
  {
   "cell_type": "code",
   "execution_count": 465,
   "metadata": {},
   "outputs": [
    {
     "data": {
      "text/plain": [
       "array([0.05159753, 0.05007378, 0.04443164, 0.04619165, 0.04480049,\n",
       "       0.04128151, 0.04127881, 0.05454827, 0.05270984, 0.05264996,\n",
       "       0.04963717, 0.05406033, 0.04655707, 0.04854932, 0.0502602 ,\n",
       "       0.0494474 , 0.04531465, 0.04479211, 0.04590302, 0.0421521 ,\n",
       "       0.04376315])"
      ]
     },
     "execution_count": 465,
     "metadata": {},
     "output_type": "execute_result"
    }
   ],
   "source": [
    "df_train = df_train.dropna()\n",
    "model = RandomForestRegressor(n_estimators=10).fit(df_train.iloc[:, 1:], df_train.iloc[:, 0])\n",
    "model.feature_importances_"
   ]
  },
  {
   "cell_type": "code",
   "execution_count": null,
   "metadata": {},
   "outputs": [],
   "source": []
  }
 ],
 "metadata": {
  "kernelspec": {
   "display_name": "Python 3",
   "language": "python",
   "name": "python3"
  },
  "language_info": {
   "codemirror_mode": {
    "name": "ipython",
    "version": 3
   },
   "file_extension": ".py",
   "mimetype": "text/x-python",
   "name": "python",
   "nbconvert_exporter": "python",
   "pygments_lexer": "ipython3",
   "version": "3.7.3"
  }
 },
 "nbformat": 4,
 "nbformat_minor": 4
}
