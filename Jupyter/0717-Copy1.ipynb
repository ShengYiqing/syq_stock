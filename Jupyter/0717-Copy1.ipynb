{
 "cells": [
  {
   "cell_type": "code",
   "execution_count": 1,
   "metadata": {},
   "outputs": [],
   "source": [
    "import tushare as ts\n",
    "import time\n",
    "import datetime\n",
    "import sys\n",
    "import os\n",
    "import numpy as np\n",
    "import pandas as pd\n",
    "from pandas import Series, DataFrame\n",
    "import matplotlib.pyplot as plt\n",
    "import statsmodels.api as sm\n",
    "import statsmodels.formula.api as smf\n",
    "from sklearn.ensemble import RandomForestRegressor\n",
    "from sklearn.impute import SimpleImputer\n",
    "sys.path.append('../Codes')\n",
    "import DataProcessor as DP\n",
    "from DataProcessor import centralize\n",
    "from DataProcessor import standardize\n",
    "from DataProcessor import standardize_industry\n",
    "from DataProcessor import get_industrys\n",
    "from DataProcessor import get_stock_money_data"
   ]
  },
  {
   "cell_type": "code",
   "execution_count": 2,
   "metadata": {},
   "outputs": [],
   "source": [
    "#行业轮动"
   ]
  },
  {
   "cell_type": "code",
   "execution_count": 3,
   "metadata": {},
   "outputs": [],
   "source": [
    "#获取行业分类\n",
    "industrys = DP.get_industrys('L2')"
   ]
  },
  {
   "cell_type": "code",
   "execution_count": 54,
   "metadata": {},
   "outputs": [],
   "source": [
    "#industrys\n",
    "industry = ['801081.SI',\n",
    "            '801222.SI',\n",
    "            '801741.SI', \n",
    "            '801742.SI', \n",
    "            '801743.SI', \n",
    "            '801744.SI',\n",
    "            '801752.SI',\n",
    "            '801124.SI',\n",
    "            '801153.SI',\n",
    "            '801178.SI',\n",
    "            \n",
    "           ]\n",
    "#industry='all'\n",
    "#取行业内股票数据\n",
    "data = DP.get_index_daily_data(industrys=industrys, industry=industry,\n",
    "                         fields=['open',\n",
    "                                 'high',\n",
    "                                 'low',\n",
    "                                 'close',\n",
    "                                 'adj_factor',\n",
    "                                 'turnover_rate_f',\n",
    "                                 'pe_ttm',\n",
    "                                 'pb',\n",
    "                                 'ps_ttm',\n",
    "                                 'total_mv'])\n",
    "\n",
    "#money_dic = get_stock_money_data(industry)"
   ]
  },
  {
   "cell_type": "code",
   "execution_count": 55,
   "metadata": {},
   "outputs": [],
   "source": [
    "#因子构造\n",
    "OPEN = np.log(data['open'])\n",
    "HIGH = np.log(data['high'])\n",
    "LOW = np.log(data['low'])\n",
    "CLOSE = np.log(data['close'])\n",
    "\n",
    "trf = data['turnover_rate_f']\n",
    "ltrf = np.log(trf)\n",
    "\n",
    "mv = data['total_mv']\n",
    "lmv = np.log(mv)\n"
   ]
  },
  {
   "cell_type": "code",
   "execution_count": 56,
   "metadata": {},
   "outputs": [],
   "source": [
    "ror = CLOSE - CLOSE.shift()\n",
    "r_rinei = CLOSE - OPEN\n",
    "r_geye = OPEN - CLOSE.shift()\n",
    "rh = HIGH - OPEN\n",
    "rl = LOW - OPEN\n",
    "hl = rh - rl\n",
    "vr = ltrf - ltrf.shift()"
   ]
  },
  {
   "cell_type": "code",
   "execution_count": 57,
   "metadata": {},
   "outputs": [],
   "source": [
    "n = 2\n",
    "y = standardize(ror.rolling(n).sum().shift(-n+1) - r_geye)\n",
    "y[(r_geye > 0.09).fillna(False) & (r_rinei.abs() < 1e-6).fillna(False)] = 0"
   ]
  },
  {
   "cell_type": "code",
   "execution_count": 58,
   "metadata": {},
   "outputs": [],
   "source": [
    "x1 = standardize(r_rinei)\n",
    "x2 = standardize(r_rinei).rolling(1).mean().shift(1)\n",
    "x3 = standardize(r_rinei).rolling(1).mean().shift(2)\n",
    "x4 = standardize(r_rinei).rolling(2).mean().shift(3)\n",
    "x5 = standardize(r_rinei).rolling(5).mean().shift(5)\n",
    "x6 = standardize(r_rinei).rolling(5).mean().shift(10)\n",
    "x7 = standardize(r_rinei).rolling(5).mean().shift(15)\n",
    "\n",
    "z1 = standardize(r_geye)\n",
    "z2 = standardize(r_geye).rolling(1).mean().shift(1)\n",
    "z3 = standardize(r_geye).rolling(1).mean().shift(2)\n",
    "z4 = standardize(r_geye).rolling(2).mean().shift(3)\n",
    "z5 = standardize(r_geye).rolling(5).mean().shift(5)\n",
    "z6 = standardize(r_geye).rolling(5).mean().shift(10)\n",
    "z7 = standardize(r_geye).rolling(5).mean().shift(15)\n",
    "\n",
    "u1 = standardize(ror)\n",
    "u2 = standardize(ror).rolling(1).mean().shift(1)\n",
    "u3 = standardize(ror).rolling(1).mean().shift(2)\n",
    "u4 = standardize(ror).rolling(2).mean().shift(3)\n",
    "u5 = standardize(ror).rolling(5).mean().shift(5)\n",
    "u6 = standardize(ror).rolling(5).mean().shift(10)\n",
    "u7 = standardize(ror).rolling(5).mean().shift(15)\n",
    "\n",
    "h1 = standardize(rh)\n",
    "h2 = standardize(rh).rolling(1).mean().shift(1)\n",
    "h3 = standardize(rh).rolling(1).mean().shift(2)\n",
    "h4 = standardize(rh).rolling(2).mean().shift(3)\n",
    "h5 = standardize(rh).rolling(5).mean().shift(5)\n",
    "h6 = standardize(rh).rolling(5).mean().shift(10)\n",
    "h7 = standardize(rh).rolling(5).mean().shift(15)\n",
    "\n",
    "l1 = standardize(rl)\n",
    "l2 = standardize(rl).rolling(1).mean().shift(1)\n",
    "l3 = standardize(rl).rolling(1).mean().shift(2)\n",
    "l4 = standardize(rl).rolling(2).mean().shift(3)\n",
    "l5 = standardize(rl).rolling(5).mean().shift(5)\n",
    "l6 = standardize(rl).rolling(5).mean().shift(10)\n",
    "l7 = standardize(rl).rolling(5).mean().shift(15)\n",
    "\n",
    "hl1 = standardize(hl)\n",
    "hl2 = standardize(hl).rolling(1).mean().shift(1)\n",
    "hl3 = standardize(hl).rolling(1).mean().shift(2)\n",
    "hl4 = standardize(hl).rolling(2).mean().shift(3)\n",
    "hl5 = standardize(hl).rolling(5).mean().shift(5)\n",
    "hl6 = standardize(hl).rolling(5).mean().shift(10)\n",
    "hl7 = standardize(hl).rolling(5).mean().shift(15)\n",
    "\n",
    "vr1 = standardize(vr)\n",
    "vr2 = standardize(vr).rolling(1).mean().shift(1)\n",
    "vr3 = standardize(vr).rolling(1).mean().shift(2)\n",
    "vr4 = standardize(vr).rolling(2).mean().shift(3)\n",
    "vr5 = standardize(vr).rolling(5).mean().shift(5)\n",
    "vr6 = standardize(vr).rolling(5).mean().shift(10)\n",
    "vr7 = standardize(vr).rolling(5).mean().shift(15)\n",
    "\n",
    "lmv = standardize(lmv)\n"
   ]
  },
  {
   "cell_type": "code",
   "execution_count": 59,
   "metadata": {},
   "outputs": [],
   "source": [
    "factor = {\n",
    "    'x1':x1, 'x2':x2, 'x3':x3, 'x4':x4, 'x5':x5, 'x6':x6, 'x7':x7,\n",
    "    'z1':z1, 'z2':z2, 'z3':z3, 'z4':z4, 'z5':z5, 'z6':z6, 'z7':z7,\n",
    "    'u1':u1, 'u2':u2, 'u3':u3, 'u4':u4, 'u5':u5, 'u6':u6, 'u7':u7,\n",
    "    'h1':h1, 'h2':h2, 'h3':h3, 'h4':h4, 'h5':h5, 'h6':h6, 'h7':h7,\n",
    "    'l1':l1, 'l2':l2, 'l3':l3, 'l4':l4, 'l5':l5, 'l6':l6, 'l7':l7,\n",
    "    'hl1':hl1, 'hl2':hl2, 'hl3':hl3, 'hl4':hl4, 'hl5':hl5, 'hl6':hl6, 'hl7':hl7,\n",
    "    'vr1':vr1, 'vr2':vr2, 'vr3':vr3, 'vr4':vr4, 'vr5':vr5, 'vr6':vr6, 'vr7':vr7,\n",
    "    'lmv':lmv,\n",
    "    #'rzrq':rzrq, 'gt':gt,\n",
    "}"
   ]
  },
  {
   "cell_type": "code",
   "execution_count": 127,
   "metadata": {},
   "outputs": [],
   "source": [
    "begin_date = '2005-01-01'\n",
    "split_date = '2010-01-01'\n",
    "train_date = y.index[(begin_date < y.index) & (y.index < split_date)]\n",
    "test_date = y.index[y.index > split_date]"
   ]
  },
  {
   "cell_type": "code",
   "execution_count": 128,
   "metadata": {},
   "outputs": [],
   "source": [
    "df_y_train = DataFrame({'y':y.loc[train_date, :].values.flatten()})\n",
    "df_x_train = DataFrame({k:factor[k].loc[train_date, :].shift().values.flatten() for k in factor.keys()})\n",
    "df_y_test = DataFrame({'y':y.loc[test_date, :].values.flatten()})\n",
    "df_x_test = DataFrame({k:factor[k].loc[test_date, :].shift().values.flatten() for k in factor.keys()})\n",
    "df_train = pd.concat([df_y_train, df_x_train], axis=1)\n",
    "df_test = pd.concat([df_y_test, df_x_test], axis=1)"
   ]
  },
  {
   "cell_type": "code",
   "execution_count": 129,
   "metadata": {},
   "outputs": [],
   "source": [
    "#df_train.corr().iloc[0,:].sort_values()"
   ]
  },
  {
   "cell_type": "code",
   "execution_count": 136,
   "metadata": {},
   "outputs": [
    {
     "data": {
      "text/plain": [
       "Intercept    2.273732e-16\n",
       "x1          -4.513839e-01\n",
       "x2          -2.258868e+00\n",
       "x3           1.186500e+00\n",
       "x4          -1.931127e+00\n",
       "x5           2.552484e+00\n",
       "x6           3.182310e+00\n",
       "x7           7.060775e-01\n",
       "z1          -4.582147e+00\n",
       "z2          -4.243647e+00\n",
       "z3          -1.354302e+00\n",
       "z4          -5.946944e+00\n",
       "z5          -2.483285e+00\n",
       "z6           1.357207e+00\n",
       "z7          -2.724286e+00\n",
       "dtype: float64"
      ]
     },
     "execution_count": 136,
     "metadata": {},
     "output_type": "execute_result"
    }
   ],
   "source": [
    "model = smf.ols('y~\\\n",
    "                  \\\n",
    "                  +x1+x2+x3+x4+x5+x6+x7\\\n",
    "                  +z1+z2+z3+z4+z5+z6+z7\\\n",
    "                  \\\n",
    "                  \\\n",
    "                  \\\n",
    "                  ', data=df_train).fit()\n",
    "model.tvalues"
   ]
  },
  {
   "cell_type": "code",
   "execution_count": 137,
   "metadata": {},
   "outputs": [
    {
     "name": "stdout",
     "output_type": "stream",
     "text": [
      "801081.SI    0.322640\n",
      "801752.SI    0.120514\n",
      "801744.SI    0.032333\n",
      "801741.SI    0.029985\n",
      "801742.SI   -0.004257\n",
      "801222.SI   -0.050251\n",
      "801743.SI   -0.053031\n",
      "801124.SI   -0.087196\n",
      "801178.SI   -0.122378\n",
      "801153.SI   -0.188358\n",
      "Name: 2020-07-17 00:00:00, dtype: float64\n"
     ]
    },
    {
     "data": {
      "image/png": "[encoded data removed]",
      "text/plain": [
       "<Figure size 432x288 with 1 Axes>"
      ]
     },
     "metadata": {
      "needs_background": "light"
     },
     "output_type": "display_data"
    }
   ],
   "source": [
    "#调仓周期\n",
    "m = 2\n",
    "y_hat = DataFrame(model.predict(df_test).values.reshape(len(test_date), len(y.columns)), index=test_date, columns=y.columns)\n",
    "q = 1 - 3 / len(y_hat.columns)\n",
    "position = (y_hat.gt(y_hat.quantile(q, 1), 0))\n",
    "\n",
    "ror_test = ror.loc[test_date, :]\n",
    "r_rinei_test = r_rinei.loc[test_date, :]\n",
    "r_geye_test = r_geye.loc[test_date, :]\n",
    "\n",
    "ror_huice = position * (ror_test.rolling(m).sum().shift(-m+1) - r_geye_test) / m\n",
    "ror_huice[ror_huice==0] = np.nan\n",
    "ror_huice.mean(1).cumsum().plot()\n",
    "\n",
    "benchmark1 = (ror_test.rolling(m).sum().shift(-m+1) - r_geye_test) / m\n",
    "benchmark1.mean(1).cumsum().plot()\n",
    "benchmark2 = ror_test\n",
    "benchmark2.mean(1).cumsum().plot()\n",
    "\n",
    "alpha1 = ror_huice.mean(1).cumsum() - benchmark1.mean(1).cumsum()\n",
    "alpha2 = ror_huice.mean(1).cumsum() - benchmark2.mean(1).cumsum()\n",
    "alpha1.plot()\n",
    "alpha2.plot()\n",
    "#for i in industry:\n",
    "#    stock = industrys[i]\n",
    "#    ror_test.loc[:,stock].mean(1).cumsum().plot()\n",
    "plt.legend(['backtest', 'benchmark1', 'benchmark2', 'alpha1', 'alpha2'] + [i for i in industry])\n",
    "print(y_hat.iloc[-1,:].sort_values(ascending=False).dropna().iloc[:10])"
   ]
  },
  {
   "cell_type": "code",
   "execution_count": 126,
   "metadata": {},
   "outputs": [
    {
     "data": {
      "text/plain": [
       "<matplotlib.axes._subplots.AxesSubplot at 0x1c2d451d68>"
      ]
     },
     "execution_count": 126,
     "metadata": {},
     "output_type": "execute_result"
    },
    {
     "data": {
      "image/png": "[encoded data removed]",
      "text/plain": [
       "<Figure size 432x288 with 1 Axes>"
      ]
     },
     "metadata": {
      "needs_background": "light"
     },
     "output_type": "display_data"
    }
   ],
   "source": [
    "(alpha1 - alpha1.expanding().max()).plot()"
   ]
  },
  {
   "cell_type": "code",
   "execution_count": 21,
   "metadata": {},
   "outputs": [
    {
     "data": {
      "text/plain": [
       "2012-01-04    0\n",
       "2012-01-05    2\n",
       "2012-01-06    2\n",
       "2012-01-09    2\n",
       "2012-01-10    2\n",
       "             ..\n",
       "2020-07-13    2\n",
       "2020-07-14    2\n",
       "2020-07-15    2\n",
       "2020-07-16    2\n",
       "2020-07-17    2\n",
       "Length: 2075, dtype: int64"
      ]
     },
     "execution_count": 21,
     "metadata": {},
     "output_type": "execute_result"
    }
   ],
   "source": [
    "position.sum(1)"
   ]
  },
  {
   "cell_type": "code",
   "execution_count": 30,
   "metadata": {},
   "outputs": [
    {
     "data": {
      "text/plain": [
       "<matplotlib.axes._subplots.AxesSubplot at 0x1c3235b908>"
      ]
     },
     "execution_count": 30,
     "metadata": {},
     "output_type": "execute_result"
    },
    {
     "data": {
      "image/png": "[encoded data removed]",
      "text/plain": [
       "<Figure size 432x288 with 1 Axes>"
      ]
     },
     "metadata": {
      "needs_background": "light"
     },
     "output_type": "display_data"
    }
   ],
   "source": [
    "(ror_huice.mean(1)-0.0008+1).cumprod().plot()"
   ]
  },
  {
   "cell_type": "code",
   "execution_count": 1382,
   "metadata": {},
   "outputs": [
    {
     "name": "stdout",
     "output_type": "stream",
     "text": [
      "300209.SZ    0.192616\n",
      "300803.SZ    0.154640\n",
      "600855.SH    0.145568\n",
      "300687.SZ    0.141097\n",
      "300368.SZ    0.139459\n",
      "300465.SZ    0.131158\n",
      "300448.SZ    0.117734\n",
      "300541.SZ    0.115167\n",
      "300277.SZ    0.107636\n",
      "300248.SZ    0.106496\n",
      "Name: 2020-07-16 00:00:00, dtype: float64\n"
     ]
    }
   ],
   "source": [
    "df_y_test2 = DataFrame({'y':y.loc[test_date, :].values.flatten()})\n",
    "df_x_test2 = DataFrame({k:factor[k].loc[test_date, :].values.flatten() for k in factor.keys()})\n",
    "df_test2 = pd.concat([df_y_test2, df_x_test2], axis=1)\n",
    "y_hat2 = DataFrame(model.predict(df_test2).values.reshape(len(ror_test), len(ror_test.columns)), index=ror_test.index, columns=ror_test.columns)\n",
    "print(y_hat2.iloc[-1,:].sort_values(ascending=False).dropna().iloc[:10])"
   ]
  },
  {
   "cell_type": "code",
   "execution_count": null,
   "metadata": {},
   "outputs": [],
   "source": []
  },
  {
   "cell_type": "code",
   "execution_count": null,
   "metadata": {},
   "outputs": [],
   "source": []
  },
  {
   "cell_type": "code",
   "execution_count": null,
   "metadata": {},
   "outputs": [],
   "source": []
  },
  {
   "cell_type": "code",
   "execution_count": null,
   "metadata": {},
   "outputs": [],
   "source": []
  },
  {
   "cell_type": "code",
   "execution_count": null,
   "metadata": {},
   "outputs": [],
   "source": []
  },
  {
   "cell_type": "code",
   "execution_count": null,
   "metadata": {},
   "outputs": [],
   "source": []
  },
  {
   "cell_type": "code",
   "execution_count": null,
   "metadata": {},
   "outputs": [],
   "source": []
  },
  {
   "cell_type": "code",
   "execution_count": null,
   "metadata": {},
   "outputs": [],
   "source": []
  },
  {
   "cell_type": "code",
   "execution_count": 465,
   "metadata": {},
   "outputs": [
    {
     "data": {
      "text/plain": [
       "array([0.05159753, 0.05007378, 0.04443164, 0.04619165, 0.04480049,\n",
       "       0.04128151, 0.04127881, 0.05454827, 0.05270984, 0.05264996,\n",
       "       0.04963717, 0.05406033, 0.04655707, 0.04854932, 0.0502602 ,\n",
       "       0.0494474 , 0.04531465, 0.04479211, 0.04590302, 0.0421521 ,\n",
       "       0.04376315])"
      ]
     },
     "execution_count": 465,
     "metadata": {},
     "output_type": "execute_result"
    }
   ],
   "source": [
    "df_train = df_train.dropna()\n",
    "model = RandomForestRegressor(n_estimators=10).fit(df_train.iloc[:, 1:], df_train.iloc[:, 0])\n",
    "model.feature_importances_"
   ]
  },
  {
   "cell_type": "code",
   "execution_count": null,
   "metadata": {},
   "outputs": [],
   "source": []
  }
 ],
 "metadata": {
  "kernelspec": {
   "display_name": "Python 3",
   "language": "python",
   "name": "python3"
  },
  "language_info": {
   "codemirror_mode": {
    "name": "ipython",
    "version": 3
   },
   "file_extension": ".py",
   "mimetype": "text/x-python",
   "name": "python",
   "nbconvert_exporter": "python",
   "pygments_lexer": "ipython3",
   "version": "3.7.3"
  }
 },
 "nbformat": 4,
 "nbformat_minor": 4
}
