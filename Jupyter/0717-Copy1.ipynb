{
 "cells": [
  {
   "cell_type": "code",
   "execution_count": 1,
   "metadata": {},
   "outputs": [],
   "source": [
    "import tushare as ts\n",
    "import time\n",
    "import datetime\n",
    "import sys\n",
    "import os\n",
    "import numpy as np\n",
    "import pandas as pd\n",
    "from pandas import Series, DataFrame\n",
    "import matplotlib.pyplot as plt\n",
    "import statsmodels.api as sm\n",
    "import statsmodels.formula.api as smf\n",
    "from sklearn.ensemble import RandomForestRegressor\n",
    "from sklearn.impute import SimpleImputer\n",
    "sys.path.append('../Codes')\n",
    "import DataProcessor as DP\n",
    "from DataProcessor import centralize\n",
    "from DataProcessor import standardize\n",
    "from DataProcessor import standardize_industry\n",
    "from DataProcessor import get_industrys\n",
    "from DataProcessor import get_all_industrys\n",
    "from DataProcessor import get_stock_daily_data\n",
    "from DataProcessor import get_stock_money_data\n",
    "from DataProcessor import get_index_data"
   ]
  },
  {
   "cell_type": "code",
   "execution_count": 2,
   "metadata": {},
   "outputs": [],
   "source": [
    "#行业轮动"
   ]
  },
  {
   "cell_type": "code",
   "execution_count": 3,
   "metadata": {},
   "outputs": [],
   "source": [
    "#获取行业分类\n",
    "industrys = DP.get_all_industrys()"
   ]
  },
  {
   "cell_type": "code",
   "execution_count": 466,
   "metadata": {},
   "outputs": [],
   "source": [
    "#industrys\n",
    "#industry = list(DP.get_industrys('L1').keys())\n",
    "industry=['801010.SI',\n",
    "          #'801020.SI',\n",
    "          #'801030.SI',\n",
    "          #'801040.SI',\n",
    "          #'801050.SI',\n",
    "          '801080.SI',\n",
    "          '801130.SI',\n",
    "          '801140.SI',\n",
    "          '801150.SI',\n",
    "          '801200.SI',\n",
    "          '801210.SI',\n",
    "          '801710.SI',\n",
    "          '801730.SI',\n",
    "          '801740.SI',\n",
    "          '801750.SI',\n",
    "          '801770.SI',\n",
    "          '801780.SI',\n",
    "          '801880.SI',\n",
    "          '801890.SI',\n",
    "          \n",
    "          '801081.SI',\n",
    "          '801124.SI',\n",
    "          '801153.SI',\n",
    "          '801752.SI',\n",
    "          '801761.SI',\n",
    "          '801193.SI',\n",
    "          '801194.SI',\n",
    "          '801222.SI',\n",
    "         ]\n",
    "#取行业内股票数据\n",
    "data = DP.get_index_data(industrys=industrys, industry=industry)\n",
    "\n",
    "#money_dic = get_stock_money_data(industry)"
   ]
  },
  {
   "cell_type": "code",
   "execution_count": 475,
   "metadata": {},
   "outputs": [],
   "source": [
    "#因子构造\n",
    "OPEN = np.log(data['open'])\n",
    "HIGH = np.log(data['high'])\n",
    "LOW = np.log(data['low'])\n",
    "CLOSE = np.log(data['close'])\n",
    "\n",
    "trf = data['trf']\n",
    "ltrf = np.log(trf)\n",
    "\n",
    "rzrqye = (data['rzye'] - data['rqye']).fillna(method='ffill')\n",
    "gt = data['gt_amount'].fillna(method='ffill')"
   ]
  },
  {
   "cell_type": "code",
   "execution_count": 541,
   "metadata": {},
   "outputs": [],
   "source": [
    "ror = CLOSE - CLOSE.shift()\n",
    "r_rinei = CLOSE - OPEN\n",
    "r_geye = OPEN - CLOSE.shift()\n",
    "rh = HIGH - OPEN\n",
    "rl = LOW - OPEN\n",
    "hl = rh - rl\n",
    "vr = ltrf - ltrf.shift()\n",
    "d_rzrq = rzrqye / rzrqye.shift()\n",
    "d_rzrq.fillna(1, inplace=True)\n",
    "d_gt = gt / gt.shift()\n",
    "d_gt.fillna(1, inplace=True)"
   ]
  },
  {
   "cell_type": "code",
   "execution_count": 542,
   "metadata": {},
   "outputs": [],
   "source": [
    "n = 2\n",
    "y = standardize(ror.rolling(n).sum().shift(-n+1) - r_geye)\n",
    "y[(r_geye > 0.09).fillna(False) & (r_rinei.abs() < 1e-6).fillna(False)] = 0"
   ]
  },
  {
   "cell_type": "code",
   "execution_count": 707,
   "metadata": {},
   "outputs": [
    {
     "data": {
      "text/plain": [
       "'\\nrzrq1 = standardize(d_rzrq).fillna(0)\\nrzrq2 = standardize(d_rzrq.rolling(1).mean().shift(1)).fillna(0)\\nrzrq3 = standardize(d_rzrq.rolling(3).mean().shift(2)).fillna(0)\\nrzrq4 = standardize(d_rzrq.rolling(5).mean().shift(5)).fillna(0)\\nrzrq5 = standardize(d_rzrq.rolling(10).mean().shift(10)).fillna(0)\\n\\ngt1 = standardize(d_gt).fillna(0)\\ngt2 = standardize(d_gt.rolling(1).mean().shift(1)).fillna(0)\\ngt3 = standardize(d_gt.rolling(3).mean().shift(2)).fillna(0)\\ngt4 = standardize(d_gt.rolling(5).mean().shift(5)).fillna(0)\\ngt5 = standardize(d_gt.rolling(10).mean().shift(10)).fillna(0)\\n'"
      ]
     },
     "execution_count": 707,
     "metadata": {},
     "output_type": "execute_result"
    }
   ],
   "source": [
    "x1 = standardize(r_rinei)\n",
    "x2 = standardize(r_rinei.rolling(1).mean().shift(1))\n",
    "x3 = standardize(r_rinei.rolling(3).mean().shift(2))\n",
    "x4 = standardize(r_rinei.rolling(5).mean().shift(5))\n",
    "x5 = standardize(r_rinei.rolling(10).mean().shift(10))\n",
    "\n",
    "z1 = standardize(r_geye)\n",
    "z2 = standardize(r_geye.rolling(1).mean().shift(1))\n",
    "z3 = standardize(r_geye.rolling(3).mean().shift(2))\n",
    "z4 = standardize(r_geye.rolling(5).mean().shift(5))\n",
    "z5 = standardize(r_geye.rolling(10).mean().shift(10))\n",
    "\n",
    "u1 = x1 - z1\n",
    "u2 = x2 - z2\n",
    "u3 = x3 - z3\n",
    "u4 = x4 - z4\n",
    "u5 = x5 - z5\n",
    "\n",
    "r1 = x1 + z1\n",
    "r2 = x2 + z2\n",
    "r3 = x3 + z3\n",
    "r4 = x4 + z4\n",
    "r5 = x5 + z5\n",
    "\n",
    "h1 = standardize(rh)\n",
    "h2 = standardize(rh).rolling(1).mean().shift(1)\n",
    "h3 = standardize(rh).rolling(3).mean().shift(2)\n",
    "h4 = standardize(rh).rolling(5).mean().shift(5)\n",
    "h5 = standardize(rh).rolling(10).mean().shift(10)\n",
    "\n",
    "l1 = standardize(rl)\n",
    "l2 = standardize(rl).rolling(1).mean().shift(1)\n",
    "l3 = standardize(rl).rolling(3).mean().shift(2)\n",
    "l4 = standardize(rl).rolling(5).mean().shift(5)\n",
    "l5 = standardize(rl).rolling(10).mean().shift(10)\n",
    "\n",
    "hl1 = h1 - l1\n",
    "hl2 = h2 - l2\n",
    "hl3 = h3 - l3\n",
    "hl4 = h4 - l4\n",
    "hl5 = h5 - l5\n",
    "\n",
    "ch1 = x1 - h1\n",
    "ch2 = x2 - h2\n",
    "ch3 = x3 - h3\n",
    "ch4 = x4 - h4\n",
    "ch5 = x5 - h5\n",
    "\n",
    "cl1 = x1 - l1\n",
    "cl2 = x2 - l2\n",
    "cl3 = x3 - l3\n",
    "cl4 = x4 - l4\n",
    "cl5 = x5 - l5\n",
    "\n",
    "\n",
    "vr1 = standardize(vr)\n",
    "vr2 = standardize(vr).rolling(1).mean().shift(1)\n",
    "vr3 = standardize(vr).rolling(3).mean().shift(2)\n",
    "vr4 = standardize(vr).rolling(5).mean().shift(5)\n",
    "vr5 = standardize(vr).rolling(10).mean().shift(10)\n",
    "'''\n",
    "rzrq1 = standardize(d_rzrq).fillna(0)\n",
    "rzrq2 = standardize(d_rzrq.rolling(1).mean().shift(1)).fillna(0)\n",
    "rzrq3 = standardize(d_rzrq.rolling(3).mean().shift(2)).fillna(0)\n",
    "rzrq4 = standardize(d_rzrq.rolling(5).mean().shift(5)).fillna(0)\n",
    "rzrq5 = standardize(d_rzrq.rolling(10).mean().shift(10)).fillna(0)\n",
    "\n",
    "gt1 = standardize(d_gt).fillna(0)\n",
    "gt2 = standardize(d_gt.rolling(1).mean().shift(1)).fillna(0)\n",
    "gt3 = standardize(d_gt.rolling(3).mean().shift(2)).fillna(0)\n",
    "gt4 = standardize(d_gt.rolling(5).mean().shift(5)).fillna(0)\n",
    "gt5 = standardize(d_gt.rolling(10).mean().shift(10)).fillna(0)\n",
    "'''"
   ]
  },
  {
   "cell_type": "code",
   "execution_count": 708,
   "metadata": {},
   "outputs": [
    {
     "data": {
      "text/plain": [
       "<matplotlib.axes._subplots.AxesSubplot at 0x1c499becc0>"
      ]
     },
     "execution_count": 708,
     "metadata": {},
     "output_type": "execute_result"
    },
    {
     "data": {
      "image/png": "[encoded data removed]",
      "text/plain": [
       "<Figure size 432x288 with 1 Axes>"
      ]
     },
     "metadata": {
      "needs_background": "light"
     },
     "output_type": "display_data"
    }
   ],
   "source": [
    "(cl5.shift()*y).mean(1).fillna(0).rolling(60).mean().plot()"
   ]
  },
  {
   "cell_type": "code",
   "execution_count": 709,
   "metadata": {},
   "outputs": [],
   "source": [
    "factor = {\n",
    "    'x1':x1, 'x2':x2, 'x3':x3, 'x4':x4, 'x5':x5,\n",
    "    'z1':z1, 'z2':z2, 'z3':z3, 'z4':z4, 'z5':z5,\n",
    "    'u1':u1, 'u2':u2, 'u3':u3, 'u4':u4, 'u5':u5,\n",
    "    'h1':h1, 'h2':h2, 'h3':h3, 'h4':h4, 'h5':h5,\n",
    "    'l1':l1, 'l2':l2, 'l3':l3, 'l4':l4, 'l5':l5,\n",
    "    'ch1':ch1, 'ch2':ch2, 'ch3':ch3, 'ch4':ch4, 'ch5':ch5,\n",
    "    'cl1':cl1, 'cl2':cl2, 'cl3':cl3, 'cl4':cl4, 'cl5':cl5,\n",
    "    'hl1':hl1, 'hl2':hl2, 'hl3':hl3, 'hl4':hl4, 'hl5':hl5,\n",
    "    'vr1':vr1, 'vr2':vr2, 'vr3':vr3, 'vr4':vr4, 'vr5':vr5,\n",
    "    #'rzrq1':rzrq1, 'rzrq2':rzrq2, 'rzrq3':rzrq3, 'rzrq4':rzrq4, 'rzrq5':rzrq5,\n",
    "    #'gt1':gt1, 'gt2':gt2, 'gt3':gt3, 'gt4':gt4, 'gt5':gt5,\n",
    "    \n",
    "    #'rzrq':rzrq, 'gt':gt,\n",
    "}"
   ]
  },
  {
   "cell_type": "code",
   "execution_count": 710,
   "metadata": {},
   "outputs": [],
   "source": [
    "begin_date = '2010-01-01'\n",
    "split_date = '2016-01-01'\n",
    "train_date = y.index[(begin_date < y.index) & (y.index < split_date)]\n",
    "test_date = y.index[y.index > split_date]"
   ]
  },
  {
   "cell_type": "code",
   "execution_count": 711,
   "metadata": {},
   "outputs": [],
   "source": [
    "df_y_train = DataFrame({'y':y.loc[train_date, :].values.flatten()})\n",
    "df_x_train = DataFrame({k:factor[k].loc[train_date, :].shift().values.flatten() for k in factor.keys()})\n",
    "df_y_test = DataFrame({'y':y.loc[test_date, :].values.flatten()})\n",
    "df_x_test = DataFrame({k:factor[k].loc[test_date, :].shift().values.flatten() for k in factor.keys()})\n",
    "df_train = pd.concat([df_y_train, df_x_train], axis=1)\n",
    "df_test = pd.concat([df_y_test, df_x_test], axis=1)"
   ]
  },
  {
   "cell_type": "code",
   "execution_count": 721,
   "metadata": {},
   "outputs": [
    {
     "data": {
      "text/plain": [
       "Intercept    3.303699e-16\n",
       "x1           6.776925e+00\n",
       "x2           3.640011e+00\n",
       "x3           4.303723e+00\n",
       "x4           9.808128e+00\n",
       "x5           2.118399e+00\n",
       "z1          -6.159916e+00\n",
       "z2          -3.496025e+00\n",
       "z3          -9.133166e+00\n",
       "z4          -5.807830e+00\n",
       "z5          -3.665637e+00\n",
       "dtype: float64"
      ]
     },
     "execution_count": 721,
     "metadata": {},
     "output_type": "execute_result"
    }
   ],
   "source": [
    "model = smf.ols('y~+x1+x2+x3+x4+x5\\\n",
    "                  +z1+z2+z3+z4+z5\\\n",
    "                  \\\n",
    "                  \\\n",
    "                  ', data=df_train).fit()\n",
    "model.tvalues"
   ]
  },
  {
   "cell_type": "code",
   "execution_count": 735,
   "metadata": {},
   "outputs": [
    {
     "name": "stdout",
     "output_type": "stream",
     "text": [
      "801193.SI    0.242761\n",
      "801081.SI    0.208073\n",
      "801752.SI    0.194119\n",
      "801140.SI    0.160004\n",
      "801740.SI    0.089544\n",
      "801761.SI    0.076508\n",
      "801194.SI    0.066671\n",
      "801130.SI    0.008168\n",
      "801780.SI    0.007492\n",
      "801710.SI   -0.028032\n",
      "Name: 2020-07-17 00:00:00, dtype: float64\n"
     ]
    },
    {
     "data": {
      "image/png": "[encoded data removed]",
      "text/plain": [
       "<Figure size 432x288 with 1 Axes>"
      ]
     },
     "metadata": {
      "needs_background": "light"
     },
     "output_type": "display_data"
    }
   ],
   "source": [
    "#调仓周期\n",
    "m = 2\n",
    "y_hat = DataFrame(model.predict(df_test).values.reshape(len(test_date), len(y.columns)), index=test_date, columns=y.columns)\n",
    "q = 1 - 3 / len(y_hat.columns)\n",
    "position = (y_hat.gt(y_hat.quantile(q, 1), 0))\n",
    "\n",
    "ror_test = ror.loc[test_date, :]\n",
    "r_rinei_test = r_rinei.loc[test_date, :]\n",
    "r_geye_test = r_geye.loc[test_date, :]\n",
    "\n",
    "ror_huice = position * (ror_test.rolling(m).sum().shift(-m+1) - r_geye_test) / m\n",
    "ror_huice[ror_huice==0] = np.nan\n",
    "ror_huice.mean(1).cumsum().plot()\n",
    "\n",
    "benchmark1 = (ror_test.rolling(m).sum().shift(-m+1) - r_geye_test) / m\n",
    "benchmark1.mean(1).cumsum().plot()\n",
    "benchmark2 = ror_test\n",
    "benchmark2.mean(1).cumsum().plot()\n",
    "\n",
    "alpha1 = ror_huice.mean(1).cumsum() - benchmark1.mean(1).cumsum()\n",
    "alpha2 = ror_huice.mean(1).cumsum() - benchmark2.mean(1).cumsum()\n",
    "alpha1.plot()\n",
    "alpha2.plot()\n",
    "#for i in industry:\n",
    "#    stock = industrys[i]\n",
    "#    ror_test.loc[:,stock].mean(1).cumsum().plot()\n",
    "plt.legend(['backtest', 'benchmark1', 'benchmark2', 'alpha1', 'alpha2'] + [i for i in industry])\n",
    "print(y_hat.iloc[-1,:].sort_values(ascending=False).dropna().iloc[:10])"
   ]
  },
  {
   "cell_type": "code",
   "execution_count": 736,
   "metadata": {},
   "outputs": [
    {
     "data": {
      "text/plain": [
       "2020-07-06    0.023897\n",
       "2020-07-07    0.006726\n",
       "2020-07-08    0.024614\n",
       "2020-07-09    0.016846\n",
       "2020-07-10    0.030966\n",
       "2020-07-13    0.021134\n",
       "2020-07-14   -0.026065\n",
       "2020-07-15   -0.060660\n",
       "2020-07-16   -0.035193\n",
       "2020-07-17         NaN\n",
       "dtype: float64"
      ]
     },
     "execution_count": 736,
     "metadata": {},
     "output_type": "execute_result"
    }
   ],
   "source": [
    "ror_huice.mean(1).iloc[-10:]"
   ]
  },
  {
   "cell_type": "code",
   "execution_count": 737,
   "metadata": {},
   "outputs": [
    {
     "data": {
      "text/plain": [
       "2016-01-04    0\n",
       "2016-01-05    3\n",
       "2016-01-06    3\n",
       "2016-01-07    3\n",
       "2016-01-08    3\n",
       "             ..\n",
       "2020-07-13    3\n",
       "2020-07-14    3\n",
       "2020-07-15    3\n",
       "2020-07-16    3\n",
       "2020-07-17    3\n",
       "Length: 1105, dtype: int64"
      ]
     },
     "execution_count": 737,
     "metadata": {},
     "output_type": "execute_result"
    }
   ],
   "source": [
    "position.sum(1)"
   ]
  },
  {
   "cell_type": "code",
   "execution_count": 738,
   "metadata": {},
   "outputs": [
    {
     "data": {
      "text/plain": [
       "<matplotlib.axes._subplots.AxesSubplot at 0x1c4be59588>"
      ]
     },
     "execution_count": 738,
     "metadata": {},
     "output_type": "execute_result"
    },
    {
     "data": {
      "image/png": "[encoded data removed]",
      "text/plain": [
       "<Figure size 432x288 with 1 Axes>"
      ]
     },
     "metadata": {
      "needs_background": "light"
     },
     "output_type": "display_data"
    }
   ],
   "source": [
    "(ror_huice.mean(1)-0.0007+1).cumprod().plot()"
   ]
  },
  {
   "cell_type": "code",
   "execution_count": 741,
   "metadata": {},
   "outputs": [
    {
     "name": "stdout",
     "output_type": "stream",
     "text": [
      "801081.SI    0.250734\n",
      "801752.SI    0.165125\n",
      "801140.SI    0.126821\n",
      "801761.SI    0.124934\n",
      "801740.SI    0.118031\n",
      "801124.SI    0.089958\n",
      "801150.SI    0.030277\n",
      "801130.SI    0.026003\n",
      "801710.SI   -0.000033\n",
      "801193.SI   -0.016295\n",
      "Name: 2020-07-17 00:00:00, dtype: float64\n"
     ]
    }
   ],
   "source": [
    "df_y_test2 = DataFrame({'y':y.loc[test_date, :].values.flatten()})\n",
    "df_x_test2 = DataFrame({k:factor[k].loc[test_date, :].values.flatten() for k in factor.keys()})\n",
    "df_test2 = pd.concat([df_y_test2, df_x_test2], axis=1)\n",
    "y_hat2 = DataFrame(model.predict(df_test2).values.reshape(len(ror_test), len(ror_test.columns)), index=ror_test.index, columns=ror_test.columns)\n",
    "print(y_hat2.iloc[-1,:].sort_values(ascending=False).dropna().iloc[:10])"
   ]
  },
  {
   "cell_type": "code",
   "execution_count": null,
   "metadata": {},
   "outputs": [],
   "source": []
  },
  {
   "cell_type": "code",
   "execution_count": null,
   "metadata": {},
   "outputs": [],
   "source": []
  },
  {
   "cell_type": "code",
   "execution_count": null,
   "metadata": {},
   "outputs": [],
   "source": []
  },
  {
   "cell_type": "code",
   "execution_count": null,
   "metadata": {},
   "outputs": [],
   "source": []
  },
  {
   "cell_type": "code",
   "execution_count": null,
   "metadata": {},
   "outputs": [],
   "source": []
  },
  {
   "cell_type": "code",
   "execution_count": null,
   "metadata": {},
   "outputs": [],
   "source": []
  },
  {
   "cell_type": "code",
   "execution_count": null,
   "metadata": {},
   "outputs": [],
   "source": []
  },
  {
   "cell_type": "code",
   "execution_count": null,
   "metadata": {},
   "outputs": [],
   "source": []
  },
  {
   "cell_type": "code",
   "execution_count": 465,
   "metadata": {},
   "outputs": [
    {
     "data": {
      "text/plain": [
       "array([0.05159753, 0.05007378, 0.04443164, 0.04619165, 0.04480049,\n",
       "       0.04128151, 0.04127881, 0.05454827, 0.05270984, 0.05264996,\n",
       "       0.04963717, 0.05406033, 0.04655707, 0.04854932, 0.0502602 ,\n",
       "       0.0494474 , 0.04531465, 0.04479211, 0.04590302, 0.0421521 ,\n",
       "       0.04376315])"
      ]
     },
     "execution_count": 465,
     "metadata": {},
     "output_type": "execute_result"
    }
   ],
   "source": [
    "df_train = df_train.dropna()\n",
    "model = RandomForestRegressor(n_estimators=10).fit(df_train.iloc[:, 1:], df_train.iloc[:, 0])\n",
    "model.feature_importances_"
   ]
  },
  {
   "cell_type": "code",
   "execution_count": null,
   "metadata": {},
   "outputs": [],
   "source": []
  }
 ],
 "metadata": {
  "kernelspec": {
   "display_name": "Python 3",
   "language": "python",
   "name": "python3"
  },
  "language_info": {
   "codemirror_mode": {
    "name": "ipython",
    "version": 3
   },
   "file_extension": ".py",
   "mimetype": "text/x-python",
   "name": "python",
   "nbconvert_exporter": "python",
   "pygments_lexer": "ipython3",
   "version": "3.7.3"
  }
 },
 "nbformat": 4,
 "nbformat_minor": 4
}
