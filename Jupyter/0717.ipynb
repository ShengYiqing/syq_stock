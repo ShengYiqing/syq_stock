{
 "cells": [
  {
   "cell_type": "code",
   "execution_count": 1,
   "metadata": {},
   "outputs": [],
   "source": [
    "import tushare as ts\n",
    "import time\n",
    "import datetime\n",
    "import sys\n",
    "import os\n",
    "import numpy as np\n",
    "import pandas as pd\n",
    "from pandas import Series, DataFrame\n",
    "import matplotlib.pyplot as plt\n",
    "import statsmodels.api as sm\n",
    "import statsmodels.formula.api as smf\n",
    "from sklearn.ensemble import RandomForestRegressor\n",
    "from sklearn.impute import SimpleImputer\n",
    "sys.path.append('../Codes')\n",
    "import DataProcessor as DP\n",
    "from DataProcessor import centralize\n",
    "from DataProcessor import standardize\n",
    "from DataProcessor import standardize_industry\n",
    "from DataProcessor import get_industrys\n",
    "from DataProcessor import get_stock_money_data"
   ]
  },
  {
   "cell_type": "code",
   "execution_count": 2,
   "metadata": {},
   "outputs": [],
   "source": [
    "#获取行业分类\n",
    "industrys = DP.get_industrys('L2')"
   ]
  },
  {
   "cell_type": "code",
   "execution_count": 3,
   "metadata": {},
   "outputs": [],
   "source": [
    "#industrys"
   ]
  },
  {
   "cell_type": "code",
   "execution_count": 82,
   "metadata": {},
   "outputs": [],
   "source": [
    "industry=['801080.SI',\n",
    "          '801760.SI',\n",
    "          '801740.SI',\n",
    "          '801750.SI',\n",
    "          '801010.SI',\n",
    "          '801770.SI',\n",
    "         ]\n",
    "industry = ['801178.SI']\n",
    "#industry='all'\n",
    "#取行业内股票数据\n",
    "data = DP.get_daily_data(industry=industry,\n",
    "                         fields=['open',\n",
    "                                 'high',\n",
    "                                 'low',\n",
    "                                 'close',\n",
    "                                 'adj_factor',\n",
    "                                 'turnover_rate_f',\n",
    "                                 'pe_ttm',\n",
    "                                 'pb',\n",
    "                                 'ps_ttm',\n",
    "                                 'total_mv'])\n",
    "\n",
    "#money_dic = get_stock_money_data(industry)"
   ]
  },
  {
   "cell_type": "code",
   "execution_count": 83,
   "metadata": {},
   "outputs": [],
   "source": [
    "#rzrqye = DataFrame(np.log((money_dic['rzye'] - money_dic['rqye']).fillna(method='bfill')), index=OPEN.index).fillna(method='bfill')\n",
    "#gt_vol = DataFrame(np.log(money_dic['gt_vol'].fillna(method='bfill')), index=OPEN.index).fillna(method='bfill')\n",
    "\n",
    "#d_rzrqye = (rzrqye - rzrqye.shift()).fillna(0)\n",
    "#d_gt_vol = (gt_vol - gt_vol.shift()).fillna(0)"
   ]
  },
  {
   "cell_type": "code",
   "execution_count": 84,
   "metadata": {},
   "outputs": [],
   "source": [
    "#因子构造\n",
    "OPEN = np.log(data['open'] * data['adj_factor'])\n",
    "HIGH = np.log(data['high'] * data['adj_factor'])\n",
    "LOW = np.log(data['low'] * data['adj_factor'])\n",
    "CLOSE = np.log(data['close'] * data['adj_factor'])\n",
    "\n",
    "trf = data['turnover_rate_f']\n",
    "ltrf = np.log(trf)\n",
    "\n",
    "mv = data['total_mv']\n",
    "lmv = np.log(mv)\n",
    "tmv = mv ** 3\n",
    "\n",
    "pe = data['pe_ttm']\n",
    "pb = data['pb']\n",
    "ps = data['ps_ttm']\n",
    "pe = 1 / pe\n",
    "ps = 1 / ps\n",
    "pb = 1 / pb"
   ]
  },
  {
   "cell_type": "code",
   "execution_count": 85,
   "metadata": {},
   "outputs": [],
   "source": [
    "ror = CLOSE - CLOSE.shift()\n",
    "r_rinei = CLOSE - OPEN\n",
    "r_geye = OPEN - CLOSE.shift()\n",
    "rh = HIGH - OPEN\n",
    "rl = LOW - OPEN\n",
    "hl = rh - rl\n",
    "vr = ltrf - ltrf.shift()"
   ]
  },
  {
   "cell_type": "code",
   "execution_count": 86,
   "metadata": {},
   "outputs": [],
   "source": [
    "n = 2\n",
    "y = standardize_industry(ror.rolling(n).sum().shift(-n+1) - r_geye, industrys, industry)\n",
    "y[(r_geye > 0.09).fillna(False) & (r_rinei.abs() < 1e-6).fillna(False)] = 0"
   ]
  },
  {
   "cell_type": "code",
   "execution_count": 87,
   "metadata": {},
   "outputs": [],
   "source": [
    "x1 = standardize_industry(r_rinei, industrys, industry)\n",
    "x2 = standardize_industry(r_rinei, industrys, industry).rolling(1).mean().shift(1)\n",
    "x3 = standardize_industry(r_rinei, industrys, industry).rolling(1).mean().shift(2)\n",
    "x4 = standardize_industry(r_rinei, industrys, industry).rolling(2).mean().shift(3)\n",
    "x5 = standardize_industry(r_rinei, industrys, industry).rolling(5).mean().shift(5)\n",
    "x6 = standardize_industry(r_rinei, industrys, industry).rolling(5).mean().shift(10)\n",
    "x7 = standardize_industry(r_rinei, industrys, industry).rolling(5).mean().shift(15)\n",
    "\n",
    "z1 = standardize_industry(r_geye, industrys, industry)\n",
    "z2 = standardize_industry(r_geye, industrys, industry).rolling(1).mean().shift(1)\n",
    "z3 = standardize_industry(r_geye, industrys, industry).rolling(1).mean().shift(2)\n",
    "z4 = standardize_industry(r_geye, industrys, industry).rolling(2).mean().shift(3)\n",
    "z5 = standardize_industry(r_geye, industrys, industry).rolling(5).mean().shift(5)\n",
    "z6 = standardize_industry(r_geye, industrys, industry).rolling(5).mean().shift(10)\n",
    "z7 = standardize_industry(r_geye, industrys, industry).rolling(5).mean().shift(15)\n",
    "\n",
    "u1 = standardize_industry(ror, industrys, industry)\n",
    "u2 = standardize_industry(ror, industrys, industry).rolling(1).mean().shift(1)\n",
    "u3 = standardize_industry(ror, industrys, industry).rolling(1).mean().shift(2)\n",
    "u4 = standardize_industry(ror, industrys, industry).rolling(2).mean().shift(3)\n",
    "u5 = standardize_industry(ror, industrys, industry).rolling(5).mean().shift(5)\n",
    "u6 = standardize_industry(ror, industrys, industry).rolling(5).mean().shift(10)\n",
    "u7 = standardize_industry(ror, industrys, industry).rolling(5).mean().shift(15)\n",
    "\n",
    "h1 = standardize_industry(rh, industrys, industry)\n",
    "h2 = standardize_industry(rh, industrys, industry).rolling(1).mean().shift(1)\n",
    "h3 = standardize_industry(rh, industrys, industry).rolling(1).mean().shift(2)\n",
    "h4 = standardize_industry(rh, industrys, industry).rolling(2).mean().shift(3)\n",
    "h5 = standardize_industry(rh, industrys, industry).rolling(5).mean().shift(5)\n",
    "h6 = standardize_industry(rh, industrys, industry).rolling(5).mean().shift(10)\n",
    "h7 = standardize_industry(rh, industrys, industry).rolling(5).mean().shift(15)\n",
    "\n",
    "l1 = standardize_industry(rl, industrys, industry)\n",
    "l2 = standardize_industry(rl, industrys, industry).rolling(1).mean().shift(1)\n",
    "l3 = standardize_industry(rl, industrys, industry).rolling(1).mean().shift(2)\n",
    "l4 = standardize_industry(rl, industrys, industry).rolling(2).mean().shift(3)\n",
    "l5 = standardize_industry(rl, industrys, industry).rolling(5).mean().shift(5)\n",
    "l6 = standardize_industry(rl, industrys, industry).rolling(5).mean().shift(10)\n",
    "l7 = standardize_industry(rl, industrys, industry).rolling(5).mean().shift(15)\n",
    "\n",
    "hl1 = standardize_industry(hl, industrys, industry)\n",
    "hl2 = standardize_industry(hl, industrys, industry).rolling(1).mean().shift(1)\n",
    "hl3 = standardize_industry(hl, industrys, industry).rolling(1).mean().shift(2)\n",
    "hl4 = standardize_industry(hl, industrys, industry).rolling(2).mean().shift(3)\n",
    "hl5 = standardize_industry(hl, industrys, industry).rolling(5).mean().shift(5)\n",
    "hl6 = standardize_industry(hl, industrys, industry).rolling(5).mean().shift(10)\n",
    "hl7 = standardize_industry(hl, industrys, industry).rolling(5).mean().shift(15)\n",
    "\n",
    "vr1 = standardize_industry(vr, industrys, industry)\n",
    "vr2 = standardize_industry(vr, industrys, industry).rolling(1).mean().shift(1)\n",
    "vr3 = standardize_industry(vr, industrys, industry).rolling(1).mean().shift(2)\n",
    "vr4 = standardize_industry(vr, industrys, industry).rolling(2).mean().shift(3)\n",
    "vr5 = standardize_industry(vr, industrys, industry).rolling(5).mean().shift(5)\n",
    "vr6 = standardize_industry(vr, industrys, industry).rolling(5).mean().shift(10)\n",
    "vr7 = standardize_industry(vr, industrys, industry).rolling(5).mean().shift(15)\n",
    "\n",
    "pe = standardize_industry(pe, industrys, industry)\n",
    "pb = standardize_industry(pb, industrys, industry)\n",
    "ps = standardize_industry(ps, industrys, industry)\n",
    "\n",
    "mv = standardize_industry(mv, industrys, industry)\n",
    "lmv = standardize_industry(lmv, industrys, industry)\n",
    "tmv = standardize_industry(tmv, industrys, industry)\n",
    "\n",
    "#rzrq = standardize_industry(d_rzrqye, industrys, industry).rolling(5).mean()\n",
    "#gt = centralize(d_gt_vol).rolling(5).mean()"
   ]
  },
  {
   "cell_type": "code",
   "execution_count": 88,
   "metadata": {},
   "outputs": [],
   "source": [
    "factor = {\n",
    "    'x1':x1, 'x2':x2, 'x3':x3, 'x4':x4, 'x5':x5, 'x6':x6, 'x7':x7,\n",
    "    'z1':z1, 'z2':z2, 'z3':z3, 'z4':z4, 'z5':z5, 'z6':z6, 'z7':z7,\n",
    "    'u1':u1, 'u2':u2, 'u3':u3, 'u4':u4, 'u5':u5, 'u6':u6, 'u7':u7,\n",
    "    'h1':h1, 'h2':h2, 'h3':h3, 'h4':h4, 'h5':h5, 'h6':h6, 'h7':h7,\n",
    "    'l1':l1, 'l2':l2, 'l3':l3, 'l4':l4, 'l5':l5, 'l6':l6, 'l7':l7,\n",
    "    'hl1':hl1, 'hl2':hl2, 'hl3':hl3, 'hl4':hl4, 'hl5':hl5, 'hl6':hl6, 'hl7':hl7,\n",
    "    'vr1':vr1, 'vr2':vr2, 'vr3':vr3, 'vr4':vr4, 'vr5':vr5, 'vr6':vr6, 'vr7':vr7,\n",
    "    'pe':pe, 'pb':pb, 'ps':ps,\n",
    "    'mv':mv, 'lmv':lmv, 'tmv':tmv,\n",
    "    #'rzrq':rzrq, 'gt':gt,\n",
    "}"
   ]
  },
  {
   "cell_type": "code",
   "execution_count": 89,
   "metadata": {},
   "outputs": [],
   "source": [
    "begin_date = '2010-01-01'\n",
    "split_date = '2012-01-01'\n",
    "train_date = y.index[(begin_date < y.index) & (y.index < split_date)]\n",
    "test_date = y.index[y.index > split_date]"
   ]
  },
  {
   "cell_type": "code",
   "execution_count": 90,
   "metadata": {},
   "outputs": [],
   "source": [
    "df_y_train = DataFrame({'y':y.loc[train_date, :].values.flatten()})\n",
    "df_x_train = DataFrame({k:factor[k].loc[train_date, :].shift().values.flatten() for k in factor.keys()})\n",
    "df_y_test = DataFrame({'y':y.loc[test_date, :].values.flatten()})\n",
    "df_x_test = DataFrame({k:factor[k].loc[test_date, :].shift().values.flatten() for k in factor.keys()})\n",
    "df_train = pd.concat([df_y_train, df_x_train], axis=1)\n",
    "df_test = pd.concat([df_y_test, df_x_test], axis=1)"
   ]
  },
  {
   "cell_type": "code",
   "execution_count": 91,
   "metadata": {},
   "outputs": [],
   "source": [
    "#df_train.corr().iloc[0,:].sort_values()"
   ]
  },
  {
   "cell_type": "code",
   "execution_count": 92,
   "metadata": {},
   "outputs": [
    {
     "data": {
      "text/plain": [
       "Intercept   -0.212396\n",
       "x1          -0.355280\n",
       "x2          -2.547200\n",
       "x4          -3.449340\n",
       "z4          -2.356139\n",
       "h1          -0.087420\n",
       "h2           0.903134\n",
       "vr1         -1.451882\n",
       "pe           1.969206\n",
       "pb           1.975293\n",
       "ps           0.496615\n",
       "lmv         -2.443691\n",
       "dtype: float64"
      ]
     },
     "execution_count": 92,
     "metadata": {},
     "output_type": "execute_result"
    }
   ],
   "source": [
    "model = smf.ols('y~x1+x2+x4\\\n",
    "                  +z4\\\n",
    "                  \\\n",
    "                  +h1+h2\\\n",
    "                  \\\n",
    "                  \\\n",
    "                  +vr1\\\n",
    "                  \\\n",
    "                  +pe+pb+ps\\\n",
    "                  +lmv', data=df_train).fit()\n",
    "model.tvalues"
   ]
  },
  {
   "cell_type": "code",
   "execution_count": 96,
   "metadata": {},
   "outputs": [
    {
     "name": "stdout",
     "output_type": "stream",
     "text": [
      "002682.SZ    0.105054\n",
      "603813.SH    0.099000\n",
      "600153.SH    0.093642\n",
      "603128.SH    0.091195\n",
      "600575.SH    0.089351\n",
      "600057.SH    0.082377\n",
      "601598.SH    0.071951\n",
      "002800.SZ    0.070510\n",
      "600787.SH    0.068966\n",
      "603066.SH    0.066081\n",
      "Name: 2020-07-17 00:00:00, dtype: float64\n"
     ]
    },
    {
     "data": {
      "image/png": "[encoded data removed]",
      "text/plain": [
       "<Figure size 432x288 with 1 Axes>"
      ]
     },
     "metadata": {
      "needs_background": "light"
     },
     "output_type": "display_data"
    }
   ],
   "source": [
    "#调仓周期\n",
    "m = 2\n",
    "y_hat = DataFrame(model.predict(df_test).values.reshape(len(test_date), len(y.columns)), index=test_date, columns=y.columns)\n",
    "q = 1 - 5 / len(y_hat.columns)\n",
    "position = (y_hat.gt(y_hat.quantile(q, 1), 0))\n",
    "\n",
    "ror_test = ror.loc[test_date, :]\n",
    "r_rinei_test = r_rinei.loc[test_date, :]\n",
    "r_geye_test = r_geye.loc[test_date, :]\n",
    "\n",
    "ror_huice = position * (ror_test.rolling(m).sum().shift(-m+1) - r_geye_test) / m\n",
    "ror_huice[ror_huice==0] = np.nan\n",
    "ror_huice.mean(1).cumsum().plot()\n",
    "\n",
    "benchmark1 = (ror_test.rolling(m).sum().shift(-m+1) - r_geye_test) / m\n",
    "benchmark1.mean(1).cumsum().plot()\n",
    "benchmark2 = ror_test\n",
    "benchmark2.mean(1).cumsum().plot()\n",
    "\n",
    "alpha1 = ror_huice.mean(1).cumsum() - benchmark1.mean(1).cumsum()\n",
    "alpha2 = ror_huice.mean(1).cumsum() - benchmark2.mean(1).cumsum()\n",
    "alpha1.plot()\n",
    "alpha2.plot()\n",
    "#for i in industry:\n",
    "#    stock = industrys[i]\n",
    "#    ror_test.loc[:,stock].mean(1).cumsum().plot()\n",
    "plt.legend(['backtest', 'benchmark1', 'benchmark2', 'alpha1', 'alpha2'] + [i for i in industry])\n",
    "print(y_hat.iloc[-1,:].sort_values(ascending=False).dropna().iloc[:10])"
   ]
  },
  {
   "cell_type": "code",
   "execution_count": 70,
   "metadata": {},
   "outputs": [
    {
     "data": {
      "text/plain": [
       "2020-06-18   -0.006534\n",
       "2020-06-19   -0.002919\n",
       "2020-06-22    0.019538\n",
       "2020-06-23    0.026032\n",
       "2020-06-24   -0.012066\n",
       "2020-06-29   -0.000093\n",
       "2020-06-30    0.003411\n",
       "2020-07-01    0.004603\n",
       "2020-07-02    0.010302\n",
       "2020-07-03    0.018517\n",
       "2020-07-06    0.026827\n",
       "2020-07-07    0.019134\n",
       "2020-07-08    0.033405\n",
       "2020-07-09    0.008284\n",
       "2020-07-10    0.008123\n",
       "2020-07-13    0.025222\n",
       "2020-07-14   -0.033527\n",
       "2020-07-15   -0.057642\n",
       "2020-07-16   -0.027970\n",
       "2020-07-17         NaN\n",
       "dtype: float64"
      ]
     },
     "execution_count": 70,
     "metadata": {},
     "output_type": "execute_result"
    }
   ],
   "source": [
    "ror_huice.mean(1).iloc[-20:]"
   ]
  },
  {
   "cell_type": "code",
   "execution_count": 29,
   "metadata": {},
   "outputs": [
    {
     "data": {
      "text/plain": [
       "2012-01-04    0\n",
       "2012-01-05    5\n",
       "2012-01-06    5\n",
       "2012-01-09    5\n",
       "2012-01-10    5\n",
       "             ..\n",
       "2020-07-13    9\n",
       "2020-07-14    9\n",
       "2020-07-15    9\n",
       "2020-07-16    9\n",
       "2020-07-17    9\n",
       "Length: 2075, dtype: int64"
      ]
     },
     "execution_count": 29,
     "metadata": {},
     "output_type": "execute_result"
    }
   ],
   "source": [
    "position.sum(1)"
   ]
  },
  {
   "cell_type": "code",
   "execution_count": 30,
   "metadata": {},
   "outputs": [
    {
     "data": {
      "text/plain": [
       "<matplotlib.axes._subplots.AxesSubplot at 0x1c3235b908>"
      ]
     },
     "execution_count": 30,
     "metadata": {},
     "output_type": "execute_result"
    },
    {
     "data": {
      "image/png": "[encoded data removed]",
      "text/plain": [
       "<Figure size 432x288 with 1 Axes>"
      ]
     },
     "metadata": {
      "needs_background": "light"
     },
     "output_type": "display_data"
    }
   ],
   "source": [
    "(ror_huice.mean(1)-0.0008+1).cumprod().plot()"
   ]
  },
  {
   "cell_type": "code",
   "execution_count": 1382,
   "metadata": {},
   "outputs": [
    {
     "name": "stdout",
     "output_type": "stream",
     "text": [
      "300209.SZ    0.192616\n",
      "300803.SZ    0.154640\n",
      "600855.SH    0.145568\n",
      "300687.SZ    0.141097\n",
      "300368.SZ    0.139459\n",
      "300465.SZ    0.131158\n",
      "300448.SZ    0.117734\n",
      "300541.SZ    0.115167\n",
      "300277.SZ    0.107636\n",
      "300248.SZ    0.106496\n",
      "Name: 2020-07-16 00:00:00, dtype: float64\n"
     ]
    }
   ],
   "source": [
    "df_y_test2 = DataFrame({'y':y.loc[test_date, :].values.flatten()})\n",
    "df_x_test2 = DataFrame({k:factor[k].loc[test_date, :].values.flatten() for k in factor.keys()})\n",
    "df_test2 = pd.concat([df_y_test2, df_x_test2], axis=1)\n",
    "y_hat2 = DataFrame(model.predict(df_test2).values.reshape(len(ror_test), len(ror_test.columns)), index=ror_test.index, columns=ror_test.columns)\n",
    "print(y_hat2.iloc[-1,:].sort_values(ascending=False).dropna().iloc[:10])"
   ]
  },
  {
   "cell_type": "code",
   "execution_count": null,
   "metadata": {},
   "outputs": [],
   "source": []
  },
  {
   "cell_type": "code",
   "execution_count": null,
   "metadata": {},
   "outputs": [],
   "source": []
  },
  {
   "cell_type": "code",
   "execution_count": null,
   "metadata": {},
   "outputs": [],
   "source": []
  },
  {
   "cell_type": "code",
   "execution_count": null,
   "metadata": {},
   "outputs": [],
   "source": []
  },
  {
   "cell_type": "code",
   "execution_count": null,
   "metadata": {},
   "outputs": [],
   "source": []
  },
  {
   "cell_type": "code",
   "execution_count": null,
   "metadata": {},
   "outputs": [],
   "source": []
  },
  {
   "cell_type": "code",
   "execution_count": null,
   "metadata": {},
   "outputs": [],
   "source": []
  },
  {
   "cell_type": "code",
   "execution_count": null,
   "metadata": {},
   "outputs": [],
   "source": []
  },
  {
   "cell_type": "code",
   "execution_count": 465,
   "metadata": {},
   "outputs": [
    {
     "data": {
      "text/plain": [
       "array([0.05159753, 0.05007378, 0.04443164, 0.04619165, 0.04480049,\n",
       "       0.04128151, 0.04127881, 0.05454827, 0.05270984, 0.05264996,\n",
       "       0.04963717, 0.05406033, 0.04655707, 0.04854932, 0.0502602 ,\n",
       "       0.0494474 , 0.04531465, 0.04479211, 0.04590302, 0.0421521 ,\n",
       "       0.04376315])"
      ]
     },
     "execution_count": 465,
     "metadata": {},
     "output_type": "execute_result"
    }
   ],
   "source": [
    "df_train = df_train.dropna()\n",
    "model = RandomForestRegressor(n_estimators=10).fit(df_train.iloc[:, 1:], df_train.iloc[:, 0])\n",
    "model.feature_importances_"
   ]
  },
  {
   "cell_type": "code",
   "execution_count": 11,
   "metadata": {},
   "outputs": [],
   "source": [
    "d = {1:1}"
   ]
  },
  {
   "cell_type": "code",
   "execution_count": 13,
   "metadata": {},
   "outputs": [],
   "source": [
    "d.update({2:2})"
   ]
  },
  {
   "cell_type": "code",
   "execution_count": 14,
   "metadata": {},
   "outputs": [
    {
     "data": {
      "text/plain": [
       "{1: 1, 2: 2}"
      ]
     },
     "execution_count": 14,
     "metadata": {},
     "output_type": "execute_result"
    }
   ],
   "source": [
    "d"
   ]
  },
  {
   "cell_type": "code",
   "execution_count": null,
   "metadata": {},
   "outputs": [],
   "source": []
  }
 ],
 "metadata": {
  "kernelspec": {
   "display_name": "Python 3",
   "language": "python",
   "name": "python3"
  },
  "language_info": {
   "codemirror_mode": {
    "name": "ipython",
    "version": 3
   },
   "file_extension": ".py",
   "mimetype": "text/x-python",
   "name": "python",
   "nbconvert_exporter": "python",
   "pygments_lexer": "ipython3",
   "version": "3.7.3"
  }
 },
 "nbformat": 4,
 "nbformat_minor": 4
}
